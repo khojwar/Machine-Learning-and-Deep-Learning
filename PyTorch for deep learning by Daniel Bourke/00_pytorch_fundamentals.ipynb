{
  "nbformat": 4,
  "nbformat_minor": 0,
  "metadata": {
    "colab": {
      "provenance": [],
      "gpuType": "T4"
    },
    "kernelspec": {
      "name": "python3",
      "display_name": "Python 3"
    },
    "language_info": {
      "name": "python"
    },
    "accelerator": "GPU"
  },
  "cells": [
    {
      "cell_type": "markdown",
      "source": [
        "# Learn pytorch for Deep Learning"
      ],
      "metadata": {
        "id": "-XpJr2yKUirC"
      }
    },
    {
      "cell_type": "code",
      "source": [
        "import torch\n",
        "torch.__version__"
      ],
      "metadata": {
        "colab": {
          "base_uri": "https://localhost:8080/",
          "height": 35
        },
        "id": "P9iBfr2yUnwP",
        "outputId": "f4a7a8e7-4383-4c1a-93e1-0c1aa75306ca"
      },
      "execution_count": null,
      "outputs": [
        {
          "output_type": "execute_result",
          "data": {
            "text/plain": [
              "'2.0.1+cu118'"
            ],
            "application/vnd.google.colaboratory.intrinsic+json": {
              "type": "string"
            }
          },
          "metadata": {},
          "execution_count": 1
        }
      ]
    },
    {
      "cell_type": "markdown",
      "source": [
        "### Tensors\n",
        "It represent data in a numerical way.\n",
        "\n",
        "For example, you could represent an image as a tensor with shape [3, 224, 224] which would mean [colour_channels, height, width], as in the image has 3 colour channels (red, green, blue), a height of 224 pixels and a width of 224 pixels.\n"
      ],
      "metadata": {
        "id": "OFBIsxyKVLCI"
      }
    },
    {
      "cell_type": "markdown",
      "source": [
        " A **scalar** is a single number and in tensor-speak it's a zero dimension tensor."
      ],
      "metadata": {
        "id": "5fd8Lr1OXoGq"
      }
    },
    {
      "cell_type": "code",
      "source": [
        "# scalar\n",
        "scalar = torch.tensor(7)\n",
        "scalar"
      ],
      "metadata": {
        "colab": {
          "base_uri": "https://localhost:8080/"
        },
        "id": "yEbwoHVLU1wX",
        "outputId": "e0c1552a-acc0-4af6-9178-5a528614fa82"
      },
      "execution_count": null,
      "outputs": [
        {
          "output_type": "execute_result",
          "data": {
            "text/plain": [
              "tensor(7)"
            ]
          },
          "metadata": {},
          "execution_count": 2
        }
      ]
    },
    {
      "cell_type": "code",
      "source": [
        "# check the dimensions of a tensor using the ndim attribute.\n",
        "scalar.ndim"
      ],
      "metadata": {
        "colab": {
          "base_uri": "https://localhost:8080/"
        },
        "id": "23YUJqdwWg1n",
        "outputId": "08998540-37b7-4d75-e4bb-ebcc1ef804ef"
      },
      "execution_count": null,
      "outputs": [
        {
          "output_type": "execute_result",
          "data": {
            "text/plain": [
              "0"
            ]
          },
          "metadata": {},
          "execution_count": 3
        }
      ]
    },
    {
      "cell_type": "code",
      "source": [
        "# Get the Python number within a tensor (only works with one-element tensors)\n",
        "scalar.item()"
      ],
      "metadata": {
        "colab": {
          "base_uri": "https://localhost:8080/"
        },
        "id": "rtx1vWHjW2em",
        "outputId": "6e69229a-82f8-415b-ad33-1176cf6c6a9e"
      },
      "execution_count": null,
      "outputs": [
        {
          "output_type": "execute_result",
          "data": {
            "text/plain": [
              "7"
            ]
          },
          "metadata": {},
          "execution_count": 4
        }
      ]
    },
    {
      "cell_type": "markdown",
      "source": [
        "A **vector** is a single dimension tensor but can contain many numbers.\n",
        "\n",
        "eg. [3, 2] to describe [bedrooms, bathrooms] in your house."
      ],
      "metadata": {
        "id": "9if_MUIxYl6R"
      }
    },
    {
      "cell_type": "code",
      "source": [
        "# vector\n",
        "vector = torch.tensor([7,7])\n",
        "vector"
      ],
      "metadata": {
        "colab": {
          "base_uri": "https://localhost:8080/"
        },
        "id": "1My8_mwVXFxG",
        "outputId": "f802b7d9-3524-4059-d567-11bc4371d53e"
      },
      "execution_count": null,
      "outputs": [
        {
          "output_type": "execute_result",
          "data": {
            "text/plain": [
              "tensor([7, 7])"
            ]
          },
          "metadata": {},
          "execution_count": 5
        }
      ]
    },
    {
      "cell_type": "code",
      "source": [
        "# Check the number of dimensions of vector\n",
        "vector.ndim"
      ],
      "metadata": {
        "colab": {
          "base_uri": "https://localhost:8080/"
        },
        "id": "zf6DVd-ZY7J2",
        "outputId": "6a8af058-682a-4f53-b1bd-059de804cda3"
      },
      "execution_count": null,
      "outputs": [
        {
          "output_type": "execute_result",
          "data": {
            "text/plain": [
              "1"
            ]
          },
          "metadata": {},
          "execution_count": 6
        }
      ]
    },
    {
      "cell_type": "markdown",
      "source": [
        "You can tell the *number of dimensions* a tensor in PyTorch has by the *number of square brackets* on the outside ([) and you only need to count one side."
      ],
      "metadata": {
        "id": "8NUqndHWZn-F"
      }
    },
    {
      "cell_type": "markdown",
      "source": [
        "**Shape attribute**:- The shape tells you how the elements inside them are arranged."
      ],
      "metadata": {
        "id": "0n20ALosaJHN"
      }
    },
    {
      "cell_type": "code",
      "source": [
        "# Check shape of vector\n",
        "vector.shape"
      ],
      "metadata": {
        "colab": {
          "base_uri": "https://localhost:8080/"
        },
        "id": "S1V6Kyd3ZMTN",
        "outputId": "4db55ec7-bbcf-4ed9-da2f-7e89c7a490b3"
      },
      "execution_count": null,
      "outputs": [
        {
          "output_type": "execute_result",
          "data": {
            "text/plain": [
              "torch.Size([2])"
            ]
          },
          "metadata": {},
          "execution_count": 7
        }
      ]
    },
    {
      "cell_type": "markdown",
      "source": [
        " `torch.Size([2])` means two elements inside the square brackets. Eg. ([7, 7])."
      ],
      "metadata": {
        "id": "OEclEhzdapLX"
      }
    },
    {
      "cell_type": "markdown",
      "source": [
        "**matrix**: 2-dimensional array of numbers"
      ],
      "metadata": {
        "id": "h9PnXbBobbQZ"
      }
    },
    {
      "cell_type": "code",
      "source": [
        "# matrix\n",
        "MATRIX = torch.tensor([[7,8], [9,10]])\n",
        "MATRIX"
      ],
      "metadata": {
        "colab": {
          "base_uri": "https://localhost:8080/"
        },
        "id": "k3qc8GYFadOl",
        "outputId": "d0be0c41-fd1a-45ef-ce64-59a3e31549d4"
      },
      "execution_count": null,
      "outputs": [
        {
          "output_type": "execute_result",
          "data": {
            "text/plain": [
              "tensor([[ 7,  8],\n",
              "        [ 9, 10]])"
            ]
          },
          "metadata": {},
          "execution_count": 8
        }
      ]
    },
    {
      "cell_type": "code",
      "source": [
        "# Check number of dimensions\n",
        "MATRIX.ndim"
      ],
      "metadata": {
        "colab": {
          "base_uri": "https://localhost:8080/"
        },
        "id": "4XjleKYtccuL",
        "outputId": "f5fe8c81-6d16-471f-b939-94219addc759"
      },
      "execution_count": null,
      "outputs": [
        {
          "output_type": "execute_result",
          "data": {
            "text/plain": [
              "2"
            ]
          },
          "metadata": {},
          "execution_count": 9
        }
      ]
    },
    {
      "cell_type": "markdown",
      "source": [
        "MATRIX has two dimensions (did you count the number of square brakcets on the outside of one side?)"
      ],
      "metadata": {
        "id": "AG0RS7UfdBlR"
      }
    },
    {
      "cell_type": "code",
      "source": [
        "MATRIX.shape"
      ],
      "metadata": {
        "colab": {
          "base_uri": "https://localhost:8080/"
        },
        "id": "7Kz-_HQMcg5s",
        "outputId": "d298c9dc-df81-4bec-d61b-0b3b0088719e"
      },
      "execution_count": null,
      "outputs": [
        {
          "output_type": "execute_result",
          "data": {
            "text/plain": [
              "torch.Size([2, 2])"
            ]
          },
          "metadata": {},
          "execution_count": 10
        }
      ]
    },
    {
      "cell_type": "markdown",
      "source": [
        "Output is `torch.Size([2, 2])` because MATRIX has two elements deep and two elements wide."
      ],
      "metadata": {
        "id": "NGk98F6BdThe"
      }
    },
    {
      "cell_type": "markdown",
      "source": [
        "tensor"
      ],
      "metadata": {
        "id": "Ka0t1Q4KloQr"
      }
    },
    {
      "cell_type": "code",
      "source": [
        "# Tensor\n",
        "TENSOR = torch.tensor([[[1,2,3],\n",
        "                        [3,6,9],\n",
        "                        [2,4,5]]])\n",
        "\n",
        "TENSOR"
      ],
      "metadata": {
        "id": "SYZ7w4-odJX5",
        "colab": {
          "base_uri": "https://localhost:8080/"
        },
        "outputId": "6ccbb3e6-3772-4a9f-df32-f4b9ece6c7d8"
      },
      "execution_count": null,
      "outputs": [
        {
          "output_type": "execute_result",
          "data": {
            "text/plain": [
              "tensor([[[1, 2, 3],\n",
              "         [3, 6, 9],\n",
              "         [2, 4, 5]]])"
            ]
          },
          "metadata": {},
          "execution_count": 11
        }
      ]
    },
    {
      "cell_type": "markdown",
      "source": [
        " tensors can represent almost anything."
      ],
      "metadata": {
        "id": "MS6TJ3Hrmt-t"
      }
    },
    {
      "cell_type": "markdown",
      "source": [
        "![68747470733a2f2f7261772e67697468756275736572636f6e74656e742e636f6d2f6d7264626f75726b652f7079746f7263682d646565702d6c6561726e696e672f6d61696e2f696d616765732f30305f73696d706c655f74656e736f722e706e67.png](data:image/png;base64,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)"
      ],
      "metadata": {
        "id": "dQDyNxCTmima"
      }
    },
    {
      "cell_type": "markdown",
      "source": [
        "How many dimensions do you think it has? (hint: use the square bracket counting trick)"
      ],
      "metadata": {
        "id": "2gUjrP3Im-pe"
      }
    },
    {
      "cell_type": "code",
      "source": [
        "# Check number of dimensions for TENSOR\n",
        "TENSOR.ndim"
      ],
      "metadata": {
        "colab": {
          "base_uri": "https://localhost:8080/"
        },
        "id": "A1WsSi4qmCVK",
        "outputId": "f69ba32b-20b3-408f-81b9-2e70368829f7"
      },
      "execution_count": null,
      "outputs": [
        {
          "output_type": "execute_result",
          "data": {
            "text/plain": [
              "3"
            ]
          },
          "metadata": {},
          "execution_count": 12
        }
      ]
    },
    {
      "cell_type": "code",
      "source": [
        "# Check shape of TENSOR\n",
        "TENSOR.shape"
      ],
      "metadata": {
        "colab": {
          "base_uri": "https://localhost:8080/"
        },
        "id": "9pFEAFhsnFxb",
        "outputId": "67f83bc8-42b9-4938-9f07-1c70ef777bbd"
      },
      "execution_count": null,
      "outputs": [
        {
          "output_type": "execute_result",
          "data": {
            "text/plain": [
              "torch.Size([1, 3, 3])"
            ]
          },
          "metadata": {},
          "execution_count": 13
        }
      ]
    },
    {
      "cell_type": "markdown",
      "source": [
        "`torch.Size([1, 3, 3])` means there's 1 dimension of 3 by 3.\n",
        "\n",
        "![68747470733a2f2f7261772e67697468756275736572636f6e74656e742e636f6d2f6d7264626f75726b652f7079746f7263682d646565702d6c6561726e696e672f6d61696e2f696d616765732f30302d7079746f7263682d646966666572656e742d74656e736f722d6.png](data:image/png;base64,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)"
      ],
      "metadata": {
        "id": "1r94SmXooIXv"
      }
    },
    {
      "cell_type": "markdown",
      "source": [
        "> **Note:** You might've noticed me using lowercase letters for scalar and vector and uppercase letters for MATRIX and TENSOR. This was on purpose. In practice, you'll often see scalars and vectors denoted as lowercase letters such as y or a. And matrices and tensors denoted as uppercase letters such as X or W.\n",
        "\n",
        "\n",
        "\n",
        "\n",
        "\n",
        "\n",
        "\n",
        "\n",
        "\n",
        "\n",
        "\n",
        "\n",
        "\n"
      ],
      "metadata": {
        "id": "vMM7O2Kto9sp"
      }
    },
    {
      "cell_type": "markdown",
      "source": [
        "### Random tensors\n",
        "let's see how to create a tensor of random numbers.\n",
        "\n",
        "We can do so using `torch.rand()` and passing in the `size` parameter."
      ],
      "metadata": {
        "id": "xo5_FapBr4yQ"
      }
    },
    {
      "cell_type": "code",
      "source": [
        "# Create a random tensor of size (3, 4)\n",
        "random_tensor = torch.rand(size=(3, 4))\n",
        "random_tensor, random_tensor.dtype"
      ],
      "metadata": {
        "colab": {
          "base_uri": "https://localhost:8080/"
        },
        "id": "192v9GzknLr7",
        "outputId": "5e8083a9-587b-4178-8423-abd621a91cee"
      },
      "execution_count": null,
      "outputs": [
        {
          "output_type": "execute_result",
          "data": {
            "text/plain": [
              "(tensor([[0.0651, 0.9784, 0.9323, 0.0254],\n",
              "         [0.3308, 0.0402, 0.7236, 0.4833],\n",
              "         [0.5542, 0.3291, 0.6533, 0.2235]]),\n",
              " torch.float32)"
            ]
          },
          "metadata": {},
          "execution_count": 14
        }
      ]
    },
    {
      "cell_type": "markdown",
      "source": [
        "The flexibility of `torch.rand()` is that we can adjust the `size` to be whatever we want.\n",
        "\n",
        "For example, say you wanted a random tensor in the common image shape of [224, 224, 3] ([height, width, color_channels])."
      ],
      "metadata": {
        "id": "auu3ENhWuLyT"
      }
    },
    {
      "cell_type": "code",
      "source": [
        "# Create a random tensor of size (224, 224, 3)\n",
        "random_image_size_tensor = torch.rand(size=(244, 244, 3))\n",
        "random_image_size_tensor.shape , random_image_size_tensor.ndim"
      ],
      "metadata": {
        "colab": {
          "base_uri": "https://localhost:8080/"
        },
        "id": "QOpTKYd6toMW",
        "outputId": "dff2c234-5a1b-44a1-873c-9981a46dfc14"
      },
      "execution_count": null,
      "outputs": [
        {
          "output_type": "execute_result",
          "data": {
            "text/plain": [
              "(torch.Size([244, 244, 3]), 3)"
            ]
          },
          "metadata": {},
          "execution_count": 15
        }
      ]
    },
    {
      "cell_type": "markdown",
      "source": [
        "### Zeros and ones\n",
        "Sometimes you'll just want to fill tensors with zeros or ones.\n",
        "\n",
        "This happens a lot with masking (like masking some of the values in one tensor with zeros to let a model know not to learn them)."
      ],
      "metadata": {
        "id": "C_8QqVA5u2ry"
      }
    },
    {
      "cell_type": "code",
      "source": [
        "# Create a tensor of all zeros\n",
        "zeros = torch.zeros(size=(3,4))\n",
        "zeros, zeros.dtype"
      ],
      "metadata": {
        "colab": {
          "base_uri": "https://localhost:8080/"
        },
        "id": "0k119UUQujsP",
        "outputId": "b7c2afbe-d580-4cdc-9171-a579e4f2fc6d"
      },
      "execution_count": null,
      "outputs": [
        {
          "output_type": "execute_result",
          "data": {
            "text/plain": [
              "(tensor([[0., 0., 0., 0.],\n",
              "         [0., 0., 0., 0.],\n",
              "         [0., 0., 0., 0.]]),\n",
              " torch.float32)"
            ]
          },
          "metadata": {},
          "execution_count": 16
        }
      ]
    },
    {
      "cell_type": "code",
      "source": [
        "# Create a tensor of all ones\n",
        "ones = torch.ones(size=(3, 4))\n",
        "ones, ones.dtype"
      ],
      "metadata": {
        "colab": {
          "base_uri": "https://localhost:8080/"
        },
        "id": "L1-eSxSQvR9L",
        "outputId": "7e832355-db57-43e7-bdbd-1c560a117751"
      },
      "execution_count": null,
      "outputs": [
        {
          "output_type": "execute_result",
          "data": {
            "text/plain": [
              "(tensor([[1., 1., 1., 1.],\n",
              "         [1., 1., 1., 1.],\n",
              "         [1., 1., 1., 1.]]),\n",
              " torch.float32)"
            ]
          },
          "metadata": {},
          "execution_count": 17
        }
      ]
    },
    {
      "cell_type": "markdown",
      "source": [
        "### Creating a range and tensors like\n",
        "Sometimes you might want a range of numbers, such as 1 to 10 or 0 to 100.\n",
        "\n",
        "You can use `torch.arange(start, end, step)` to do so.\n",
        "\n",
        "Where:\n",
        "\n",
        "\n",
        "\n",
        "*   `start` = start of range (e.g. 0)\n",
        "*   `end` = end of range (e.g. 10)\n",
        "*   `step` = how many steps in between each value (e.g. 1)\n",
        "\n",
        "> **Note:** In Python, you can use `range`() to create a range. However in PyTorch, `torch.range()` is deprecated and may show an error in the future.\n",
        "\n"
      ],
      "metadata": {
        "id": "tBKlQc06vpQS"
      }
    },
    {
      "cell_type": "code",
      "source": [
        "# Use torch.arange(), torch.range() is deprecated\n",
        "zero_to_ten_deprecated = torch.range(0, 10) # Note: this may return an error in the future\n",
        "\n",
        "# Create a range of values 0 to 10\n",
        "zero_to_ten = torch.arange(start=0, end=10, step=1)\n",
        "zero_to_ten"
      ],
      "metadata": {
        "colab": {
          "base_uri": "https://localhost:8080/"
        },
        "id": "NeAPaJp9vkQG",
        "outputId": "bfe2183d-332b-443f-8053-230841aa83c4"
      },
      "execution_count": null,
      "outputs": [
        {
          "output_type": "stream",
          "name": "stderr",
          "text": [
            "<ipython-input-18-a404776195c1>:2: UserWarning: torch.range is deprecated and will be removed in a future release because its behavior is inconsistent with Python's range builtin. Instead, use torch.arange, which produces values in [start, end).\n",
            "  zero_to_ten_deprecated = torch.range(0, 10) # Note: this may return an error in the future\n"
          ]
        },
        {
          "output_type": "execute_result",
          "data": {
            "text/plain": [
              "tensor([0, 1, 2, 3, 4, 5, 6, 7, 8, 9])"
            ]
          },
          "metadata": {},
          "execution_count": 18
        }
      ]
    },
    {
      "cell_type": "markdown",
      "source": [
        "Sometimes you might want one tensor of a certain type with the same shape as another tensor.\n",
        "\n",
        "For example, a tensor of all zeros with the same shape as a previous tensor.\n",
        "\n",
        "To do so you can use `torch.zeros_like(input)` or `torch.ones_like(input)` which return a tensor filled with zeros or ones in the same shape as the `input` respectively."
      ],
      "metadata": {
        "id": "MAOJWlPsx_HR"
      }
    },
    {
      "cell_type": "code",
      "source": [
        "# Can also create a tensor of zeros similar to another tensor\n",
        "ten_zeros = torch.zeros_like(input=zero_to_ten) # will have same shape\n",
        "ten_zeros"
      ],
      "metadata": {
        "colab": {
          "base_uri": "https://localhost:8080/"
        },
        "id": "LulssKkvxMyR",
        "outputId": "fe9e9a08-aff6-404e-b879-e030cc28d328"
      },
      "execution_count": null,
      "outputs": [
        {
          "output_type": "execute_result",
          "data": {
            "text/plain": [
              "tensor([0, 0, 0, 0, 0, 0, 0, 0, 0, 0])"
            ]
          },
          "metadata": {},
          "execution_count": 19
        }
      ]
    },
    {
      "cell_type": "markdown",
      "source": [
        "### Tensor datatypes\n",
        "There are many different tensor datatypes available in PyTorch.\n",
        "\n",
        "Some are specific for CPU and some are better for GPU.\n",
        "\n",
        "Getting to know which is which can take some time.\n",
        "\n",
        "Generally if you see `torch.cuda` anywhere, the tensor is being used for GPU (since Nvidia GPUs use a computing toolkit called CUDA).\n",
        "\n",
        "The most common type (and generally the default) is `torch.float32` or `torch.float`.\n",
        "\n",
        "This is referred to as \"32-bit floating point\".\n",
        "\n",
        "But there's also 16-bit floating point (`torch.float16` or `torch.half`) and 64-bit floating point (`torch.float64` or torch.double).\n",
        "\n",
        "And to confuse things even more there's also 8-bit, 16-bit, 32-bit and 64-bit integers.\n",
        "\n",
        "Plus more!\n",
        "\n",
        "> **Note:** An integer is a flat round number like 7 whereas a float has a decimal 7.0.\n",
        "\n",
        "The reason for all of these is to do with **precision in computing**.\n",
        "\n",
        "Precision is the amount of detail used to describe a number.\n",
        "\n",
        "The higher the precision value (8, 16, 32), the more detail and hence data used to express a number.\n",
        "\n",
        "This matters in deep learning and numerical computing because you're making so many operations, the more detail you have to calculate on, the more compute you have to use.\n",
        "\n",
        "So lower precision datatypes are generally faster to compute on but sacrifice some performance on evaluation metrics like accuracy (faster to compute but less accurate)."
      ],
      "metadata": {
        "id": "r90d1bZSyxir"
      }
    },
    {
      "cell_type": "markdown",
      "source": [
        "Let's see how to create some tensors with specific datatypes. We can do so using the `dtype` parameter."
      ],
      "metadata": {
        "id": "buUOQsgq0dAj"
      }
    },
    {
      "cell_type": "code",
      "source": [
        "# Default datatype for tensors is float32\n",
        "float_32_tensor = torch.tensor([3.0, 6.0, 9.0],\n",
        "                               dtype=None, # defaults to None, which is torch.float32 or whatever datatype is passed\n",
        "                               device=None, # defaults to None, which uses the default tensor type\n",
        "                               requires_grad=False) # if True, operations performed on the tensor are recorded\n",
        "\n",
        "float_32_tensor.shape, float_32_tensor.dtype, float_32_tensor.device"
      ],
      "metadata": {
        "colab": {
          "base_uri": "https://localhost:8080/"
        },
        "id": "U76C65EbyP_Y",
        "outputId": "7e7568f6-384e-466c-9655-6894b04cc002"
      },
      "execution_count": null,
      "outputs": [
        {
          "output_type": "execute_result",
          "data": {
            "text/plain": [
              "(torch.Size([3]), torch.float32, device(type='cpu'))"
            ]
          },
          "metadata": {},
          "execution_count": 20
        }
      ]
    },
    {
      "cell_type": "markdown",
      "source": [
        "Most common issues in PyTorch are datatype and device issuses.\n",
        "\n",
        "For example, one of tensors is `torch.float32` and the other is torch.float16 (PyTorch often likes tensors to be the same format).\n",
        "\n",
        "Or one of your tensors is on the CPU and the other is on the GPU (PyTorch likes calculations between tensors to be on the same device).\n",
        "\n",
        "We'll see more of this device talk later on."
      ],
      "metadata": {
        "id": "sGaeSKiiw5Lm"
      }
    },
    {
      "cell_type": "code",
      "source": [
        "float_16_tensor = torch.tensor([3.0, 6.0, 9.0],\n",
        "                               dtype = torch.float16) # torch.half would also wor\n",
        "\n",
        "float_16_tensor.dtype"
      ],
      "metadata": {
        "id": "zYtNgI3j05DK",
        "colab": {
          "base_uri": "https://localhost:8080/"
        },
        "outputId": "b5e10d78-b3e4-47dd-ba81-b41f6bb0b0e2"
      },
      "execution_count": null,
      "outputs": [
        {
          "output_type": "execute_result",
          "data": {
            "text/plain": [
              "torch.float16"
            ]
          },
          "metadata": {},
          "execution_count": 21
        }
      ]
    },
    {
      "cell_type": "markdown",
      "source": [
        "# Getting information from tensors\n",
        "three of the most common attributes you'll want to find out about tensors are:\n",
        "\n",
        "\n",
        "*   shape\n",
        "*   dtype\n",
        "*   device - (usually GPU or CPU)\n",
        "\n"
      ],
      "metadata": {
        "id": "ddT2uN0g00QC"
      }
    },
    {
      "cell_type": "code",
      "source": [
        "# create tensor\n",
        "some_tensor = torch.rand(3, 4)\n",
        "\n",
        "# find out detail about it\n",
        "print(some_tensor)\n",
        "print(f\"Shape of tensor: {some_tensor.shape}\")\n",
        "print(f\"Datatype of tensor: {some_tensor.dtype}\")\n",
        "print(f\"Device tensor is stored on: {some_tensor.device}\") # will default to CPU"
      ],
      "metadata": {
        "id": "i4UgudsxwUbt",
        "colab": {
          "base_uri": "https://localhost:8080/"
        },
        "outputId": "ed25d45c-22d0-4a47-a8a3-9ca04f18211f"
      },
      "execution_count": null,
      "outputs": [
        {
          "output_type": "stream",
          "name": "stdout",
          "text": [
            "tensor([[0.7896, 0.5940, 0.3323, 0.0966],\n",
            "        [0.3899, 0.2801, 0.6675, 0.3294],\n",
            "        [0.4398, 0.3564, 0.7688, 0.1924]])\n",
            "Shape of tensor: torch.Size([3, 4])\n",
            "Datatype of tensor: torch.float32\n",
            "Device tensor is stored on: cpu\n"
          ]
        }
      ]
    },
    {
      "cell_type": "markdown",
      "source": [
        "> Note: When you run into issues in PyTorch, it's very often one to do with one of the three attributes above. So when the error messages show up, sing yourself a little song called \"what, what, where\":\n",
        "\n",
        "\n",
        "\n",
        "*   \"*what shape are my tensors? what datatype are they and where are they stored? what shape, what datatype, where where where*\"\n"
      ],
      "metadata": {
        "id": "kGjza-BQ20K3"
      }
    },
    {
      "cell_type": "markdown",
      "source": [
        "# Manipulating tensors (tensor operations)\n",
        "In deep learning, data (images, text, video, audio, protein structures, etc) gets represented as tensors.\n",
        "\n",
        "operations / (or basic building blocks of neural networks):\n",
        "\n",
        "*   Addition\n",
        "*   Substraction\n",
        "*   Nultiplication (element-wise)\n",
        "*   Division\n",
        "*   Matrix multiplication\n",
        "\n"
      ],
      "metadata": {
        "id": "kKAtiXBn4MW4"
      }
    },
    {
      "cell_type": "markdown",
      "source": [
        "# Basic operations\n",
        "\n",
        "Let's start with a few of the fundamental operations, addition (+), subtraction (-), mutliplication (*)."
      ],
      "metadata": {
        "id": "CZD_axlc5Ldv"
      }
    },
    {
      "cell_type": "code",
      "source": [
        "# Create a tensor of values and add a number to it\n",
        "tensor = torch.tensor([1, 2, 3])\n",
        "tensor + 10"
      ],
      "metadata": {
        "colab": {
          "base_uri": "https://localhost:8080/"
        },
        "id": "txIN7eZ62Jid",
        "outputId": "86fed1f7-94af-4092-fd42-acd4414681f8"
      },
      "execution_count": null,
      "outputs": [
        {
          "output_type": "execute_result",
          "data": {
            "text/plain": [
              "tensor([11, 12, 13])"
            ]
          },
          "metadata": {},
          "execution_count": 23
        }
      ]
    },
    {
      "cell_type": "code",
      "source": [
        "# Multiply it by 10\n",
        "tensor*10"
      ],
      "metadata": {
        "colab": {
          "base_uri": "https://localhost:8080/"
        },
        "id": "ZM0iLgUd5Ilg",
        "outputId": "c7dc1575-bd6b-48b2-da72-75bfb5766f55"
      },
      "execution_count": null,
      "outputs": [
        {
          "output_type": "execute_result",
          "data": {
            "text/plain": [
              "tensor([10, 20, 30])"
            ]
          },
          "metadata": {},
          "execution_count": 24
        }
      ]
    },
    {
      "cell_type": "markdown",
      "source": [
        "Notice how the tensor values above didn't end up being tensor([110, 120, 130]), this is because the values inside the tensor don't change unless they're reassigned."
      ],
      "metadata": {
        "id": "vHhOFUax5xoR"
      }
    },
    {
      "cell_type": "code",
      "source": [
        "# Tensors don't change unless reassigned\n",
        "tensor"
      ],
      "metadata": {
        "colab": {
          "base_uri": "https://localhost:8080/"
        },
        "id": "rMCcM2dt5mAe",
        "outputId": "0cc5719a-7958-45d9-d91e-f90340c4332d"
      },
      "execution_count": null,
      "outputs": [
        {
          "output_type": "execute_result",
          "data": {
            "text/plain": [
              "tensor([1, 2, 3])"
            ]
          },
          "metadata": {},
          "execution_count": 25
        }
      ]
    },
    {
      "cell_type": "markdown",
      "source": [
        "Let's subtract a number and this time we'll reassign the tensor variable."
      ],
      "metadata": {
        "id": "f6k9hSKG579Y"
      }
    },
    {
      "cell_type": "code",
      "source": [
        "# Subtract and reassign\n",
        "tensor = tensor - 10\n",
        "tensor"
      ],
      "metadata": {
        "colab": {
          "base_uri": "https://localhost:8080/"
        },
        "id": "aO-Ur7zb53lm",
        "outputId": "4ae77ba1-35db-47cd-af78-051ffd3abdb5"
      },
      "execution_count": null,
      "outputs": [
        {
          "output_type": "execute_result",
          "data": {
            "text/plain": [
              "tensor([-9, -8, -7])"
            ]
          },
          "metadata": {},
          "execution_count": 26
        }
      ]
    },
    {
      "cell_type": "code",
      "source": [
        "# Add and reassign\n",
        "tensor = tensor + 10\n",
        "tensor"
      ],
      "metadata": {
        "colab": {
          "base_uri": "https://localhost:8080/"
        },
        "id": "CxnmZgIR6NAv",
        "outputId": "2fa0f37c-284a-44ae-fe98-c354d9ebbcaa"
      },
      "execution_count": null,
      "outputs": [
        {
          "output_type": "execute_result",
          "data": {
            "text/plain": [
              "tensor([1, 2, 3])"
            ]
          },
          "metadata": {},
          "execution_count": 27
        }
      ]
    },
    {
      "cell_type": "markdown",
      "source": [
        "PyTorch also has a bunch of built-in functions like torch.mul() (short for multiplication) and torch.add() to perform basic operations."
      ],
      "metadata": {
        "id": "T4LrBtXC6rRL"
      }
    },
    {
      "cell_type": "code",
      "source": [
        "# Can also use torch functions\n",
        "torch.multiply(tensor, 10)"
      ],
      "metadata": {
        "colab": {
          "base_uri": "https://localhost:8080/"
        },
        "id": "_1uZrt_L5_NX",
        "outputId": "b8e09d3d-872a-4960-b909-0f786e9cad8a"
      },
      "execution_count": null,
      "outputs": [
        {
          "output_type": "execute_result",
          "data": {
            "text/plain": [
              "tensor([10, 20, 30])"
            ]
          },
          "metadata": {},
          "execution_count": 28
        }
      ]
    },
    {
      "cell_type": "code",
      "source": [
        "# Original tensor is still unchanged\n",
        "tensor"
      ],
      "metadata": {
        "id": "gBzM2uQy6o-O",
        "colab": {
          "base_uri": "https://localhost:8080/"
        },
        "outputId": "d5ccd21b-9020-40d8-b6d8-13007a85341d"
      },
      "execution_count": null,
      "outputs": [
        {
          "output_type": "execute_result",
          "data": {
            "text/plain": [
              "tensor([1, 2, 3])"
            ]
          },
          "metadata": {},
          "execution_count": 29
        }
      ]
    },
    {
      "cell_type": "markdown",
      "source": [
        "However, it's more common to use the operator symbols like `*` instead of `torch.mul()`"
      ],
      "metadata": {
        "id": "tFzk_rzdSMgk"
      }
    },
    {
      "cell_type": "code",
      "source": [
        "# Element-wise multiplication (each element multiplies its equivalent, index 0->0, 1->1, 2->2)\n",
        "print(tensor, \"*\", tensor)\n",
        "print(\"Equals:\", tensor * tensor)"
      ],
      "metadata": {
        "colab": {
          "base_uri": "https://localhost:8080/"
        },
        "id": "XgjnTU1oRnP_",
        "outputId": "041e74ef-111c-4fb1-ca4c-19cde05642e9"
      },
      "execution_count": null,
      "outputs": [
        {
          "output_type": "stream",
          "name": "stdout",
          "text": [
            "tensor([1, 2, 3]) * tensor([1, 2, 3])\n",
            "Equals: tensor([1, 4, 9])\n"
          ]
        }
      ]
    },
    {
      "cell_type": "markdown",
      "source": [
        "# Matrix multiplication (is all you need)\n",
        "\n",
        "PyTorch implements matrix multiplication functionality in the `torch.matmul()` method.\n",
        "\n",
        "The main two rules for matrix multiplication are:\n",
        "\n",
        "\n",
        "1.   The **inner dimensions** must match:\n",
        "\n",
        "\n",
        "\n",
        ">  \n",
        "*   `(3, 2) @ (3, 2)` won't work\n",
        "*   `(2, 3) @ (3, 2)` will work\n",
        "*   `(3, 2) @ (2, 3)` will work\n",
        "\n",
        "\n",
        "2.   The resulting matrix has the shape of the **outer dimensions**:\n",
        "\n",
        ">     \n",
        "*   `(2, 3) @ (3, 2) -> (2, 2)`\n",
        "*  `(3, 2) @ (2, 3) -> (3, 3)`\n",
        "\n",
        ">   **Note:** \"@\" in Python is the symbol for matrix multiplication.\n",
        "\n",
        "\n",
        "\n"
      ],
      "metadata": {
        "id": "4_D2QscqTKaa"
      }
    },
    {
      "cell_type": "markdown",
      "source": [
        "Let's create a tensor and perform element-wise multiplication and matrix multiplication on it."
      ],
      "metadata": {
        "id": "DXqgxGunBfUx"
      }
    },
    {
      "cell_type": "code",
      "source": [
        "import torch\n",
        "tensor = torch.tensor([1, 2, 3])\n",
        "tensor.shape"
      ],
      "metadata": {
        "id": "Ea8dgeEpSiY_",
        "colab": {
          "base_uri": "https://localhost:8080/"
        },
        "outputId": "6b674fef-18c8-477d-bd13-9bf4baa6e1a5"
      },
      "execution_count": null,
      "outputs": [
        {
          "output_type": "execute_result",
          "data": {
            "text/plain": [
              "torch.Size([3])"
            ]
          },
          "metadata": {},
          "execution_count": 31
        }
      ]
    },
    {
      "cell_type": "markdown",
      "source": [
        "The difference between element-wise multiplication and matrix multiplication is the addition of values.\n",
        "\n",
        "For our `tensor` variable with values `[1, 2, 3]`:\n",
        "\n",
        "| Operation | Calculation | Code |\n",
        "| -------------- | -------------- | -------------- |\n",
        "| Element-wise multiplication | `[11, 22, 33] = [1, 4, 9]` | `tensor * tensor` |\n",
        "| Matrix multiplication | `[1*1 + 2*2 + 3*3] = [14]` | tensor.matmul(tensor) |\n"
      ],
      "metadata": {
        "id": "WffPEdYgB2cY"
      }
    },
    {
      "cell_type": "code",
      "source": [
        "# Element-wise matrix multiplication\n",
        "tensor * tensor"
      ],
      "metadata": {
        "id": "RZU2P_xpBu5v",
        "colab": {
          "base_uri": "https://localhost:8080/"
        },
        "outputId": "81e8f552-4253-435f-e3eb-3b0cd62b3bf3"
      },
      "execution_count": null,
      "outputs": [
        {
          "output_type": "execute_result",
          "data": {
            "text/plain": [
              "tensor([1, 4, 9])"
            ]
          },
          "metadata": {},
          "execution_count": 32
        }
      ]
    },
    {
      "cell_type": "code",
      "source": [
        "# Matrix multiplication\n",
        "torch.matmul(tensor, tensor)"
      ],
      "metadata": {
        "colab": {
          "base_uri": "https://localhost:8080/"
        },
        "id": "MTMBQOe9Gcfs",
        "outputId": "94301be9-10c4-4524-e8f1-4601f469cb0c"
      },
      "execution_count": null,
      "outputs": [
        {
          "output_type": "execute_result",
          "data": {
            "text/plain": [
              "tensor(14)"
            ]
          },
          "metadata": {},
          "execution_count": 33
        }
      ]
    },
    {
      "cell_type": "code",
      "source": [
        "# Can also use the \"@\" symbol for matrix multiplication, though not recommended\n",
        "tensor @ tensor"
      ],
      "metadata": {
        "colab": {
          "base_uri": "https://localhost:8080/"
        },
        "id": "MaZojUxfGkxy",
        "outputId": "abffc8cb-ea7b-4cc9-fbc3-cb9b5a7af8b9"
      },
      "execution_count": null,
      "outputs": [
        {
          "output_type": "execute_result",
          "data": {
            "text/plain": [
              "tensor(14)"
            ]
          },
          "metadata": {},
          "execution_count": 34
        }
      ]
    },
    {
      "cell_type": "markdown",
      "source": [
        "You can do matrix multiplication by hand but it's not recommended.\n",
        "\n",
        "The in-built torch.matmul() method is faster."
      ],
      "metadata": {
        "id": "wnip4_aQHAM1"
      }
    },
    {
      "cell_type": "code",
      "source": [
        "%%time\n",
        "# Matrix multiplication by hand\n",
        "# (avoid doing operations with for loops at all cost, they are computationally expensive)\n",
        "value = 0\n",
        "for i in range(len(tensor)):\n",
        "  value += tensor[i] * tensor[i]\n",
        "value"
      ],
      "metadata": {
        "colab": {
          "base_uri": "https://localhost:8080/"
        },
        "id": "1qoOQjIXGzpo",
        "outputId": "d8b74b87-4d11-4a20-dfff-dfb3b5f18d4d"
      },
      "execution_count": null,
      "outputs": [
        {
          "output_type": "stream",
          "name": "stdout",
          "text": [
            "CPU times: user 1.36 ms, sys: 113 µs, total: 1.47 ms\n",
            "Wall time: 2.73 ms\n"
          ]
        },
        {
          "output_type": "execute_result",
          "data": {
            "text/plain": [
              "tensor(14)"
            ]
          },
          "metadata": {},
          "execution_count": 35
        }
      ]
    },
    {
      "cell_type": "code",
      "source": [
        "%%time\n",
        "torch.matmul(tensor, tensor)"
      ],
      "metadata": {
        "colab": {
          "base_uri": "https://localhost:8080/"
        },
        "id": "fNmoqbTPHdPD",
        "outputId": "065180f2-50e2-410a-d88d-9546389c1359"
      },
      "execution_count": null,
      "outputs": [
        {
          "output_type": "stream",
          "name": "stdout",
          "text": [
            "CPU times: user 70 µs, sys: 0 ns, total: 70 µs\n",
            "Wall time: 74.4 µs\n"
          ]
        },
        {
          "output_type": "execute_result",
          "data": {
            "text/plain": [
              "tensor(14)"
            ]
          },
          "metadata": {},
          "execution_count": 36
        }
      ]
    },
    {
      "cell_type": "markdown",
      "source": [
        "# One of the most common errors in deep learning (shape errors)\n",
        "\n",
        "One of the most common errors you'll run into in deep learning is shape mismatches."
      ],
      "metadata": {
        "id": "_xXB_7FGIMVx"
      }
    },
    {
      "cell_type": "code",
      "source": [
        "# Shapes need to be in the right way\n",
        "tensor_A = torch.tensor([[1, 2],\n",
        "                         [3, 4],\n",
        "                         [5, 6]], dtype=torch.float32)\n",
        "\n",
        "tensor_B = torch.tensor([[7, 8],\n",
        "                         [9, 10],\n",
        "                         [11, 12]], dtype=torch.float32)\n",
        "\n",
        "torch.matmul(tensor_A, tensor_B)   # (this will error)"
      ],
      "metadata": {
        "colab": {
          "base_uri": "https://localhost:8080/",
          "height": 200
        },
        "id": "Y99ml8WTHtxt",
        "outputId": "e668941c-3430-405a-ea36-50de873a55db"
      },
      "execution_count": null,
      "outputs": [
        {
          "output_type": "error",
          "ename": "RuntimeError",
          "evalue": "ignored",
          "traceback": [
            "\u001b[0;31m---------------------------------------------------------------------------\u001b[0m",
            "\u001b[0;31mRuntimeError\u001b[0m                              Traceback (most recent call last)",
            "\u001b[0;32m<ipython-input-38-9aec9d9b045e>\u001b[0m in \u001b[0;36m<cell line: 10>\u001b[0;34m()\u001b[0m\n\u001b[1;32m      8\u001b[0m                          [11, 12]], dtype=torch.float32)\n\u001b[1;32m      9\u001b[0m \u001b[0;34m\u001b[0m\u001b[0m\n\u001b[0;32m---> 10\u001b[0;31m \u001b[0mtorch\u001b[0m\u001b[0;34m.\u001b[0m\u001b[0mmatmul\u001b[0m\u001b[0;34m(\u001b[0m\u001b[0mtensor_A\u001b[0m\u001b[0;34m,\u001b[0m \u001b[0mtensor_B\u001b[0m\u001b[0;34m)\u001b[0m   \u001b[0;31m# (this will error)\u001b[0m\u001b[0;34m\u001b[0m\u001b[0;34m\u001b[0m\u001b[0m\n\u001b[0m",
            "\u001b[0;31mRuntimeError\u001b[0m: mat1 and mat2 shapes cannot be multiplied (3x2 and 3x2)"
          ]
        }
      ]
    },
    {
      "cell_type": "markdown",
      "source": [
        "We can make matrix multiplication work between `tensor_A` and `tensor_B` by making their inner dimensions match.\n",
        "\n",
        "One of the ways to do this is with a **transpose** (switch the dimensions of a given tensor).\n",
        "\n",
        "You can perform transposes in PyTorch using either:\n",
        "\n",
        "\n",
        "*   `torch.transpose(input, dim0, dim1)` - where `input` is the desired tensor to transpose and `dim0` and `dim1` are the dimensions to be swapped.\n",
        "*   `tensor.T` - where `tensor` is the desired tensor to transpose.\n",
        "\n"
      ],
      "metadata": {
        "id": "scKPFPy0Kf2I"
      }
    },
    {
      "cell_type": "code",
      "source": [
        "# View tensor_A and tensor_B\n",
        "print(tensor_A)\n",
        "print(tensor_B)"
      ],
      "metadata": {
        "colab": {
          "base_uri": "https://localhost:8080/"
        },
        "id": "eXeSU8aiJXxb",
        "outputId": "558283df-0bbc-4bff-b19e-d7a68df72546"
      },
      "execution_count": null,
      "outputs": [
        {
          "output_type": "stream",
          "name": "stdout",
          "text": [
            "tensor([[1., 2.],\n",
            "        [3., 4.],\n",
            "        [5., 6.]])\n",
            "tensor([[ 7.,  8.],\n",
            "        [ 9., 10.],\n",
            "        [11., 12.]])\n"
          ]
        }
      ]
    },
    {
      "cell_type": "code",
      "source": [
        "# View tensor_A and tensor_B.T\n",
        "print(tensor_A)\n",
        "print(tensor_B.T)"
      ],
      "metadata": {
        "colab": {
          "base_uri": "https://localhost:8080/"
        },
        "id": "_ISUfLUlL9pR",
        "outputId": "d8c4c33d-cfcd-4435-894e-3fece71699d6"
      },
      "execution_count": null,
      "outputs": [
        {
          "output_type": "stream",
          "name": "stdout",
          "text": [
            "tensor([[1., 2.],\n",
            "        [3., 4.],\n",
            "        [5., 6.]])\n",
            "tensor([[ 7.,  9., 11.],\n",
            "        [ 8., 10., 12.]])\n"
          ]
        }
      ]
    },
    {
      "cell_type": "code",
      "source": [
        "# The operation works when tensor_B is transposed\n",
        "print(f\"Original shape: tensor_A = {tensor_A.shape}, tensor_B = {tensor_B.shape}\\n\")\n",
        "print(f\"New shapes: tensor_A = {tensor_A.shape} (same as above), tensor_B.T = {tensor_B.T.shape}\\n\")\n",
        "print(f\"Nultiplying: {tensor_A.shape} * {tensor_B.T.shape} <- inner dimention match \\n\")\n",
        "print(\"Output: \\n\")\n",
        "output = torch.matmul(tensor_A, tensor_B.T)\n",
        "print(output)\n",
        "print(f\"\\nOutput shape: {output.shape}\")"
      ],
      "metadata": {
        "colab": {
          "base_uri": "https://localhost:8080/"
        },
        "id": "KbsPfhqOMHRh",
        "outputId": "27eb8ef9-0fd3-4fcf-af78-bfaf3c2f52f0"
      },
      "execution_count": null,
      "outputs": [
        {
          "output_type": "stream",
          "name": "stdout",
          "text": [
            "Original shape: tensor_A = torch.Size([3, 2]), tensor_B = torch.Size([3, 2])\n",
            "\n",
            "New shapes: tensor_A = torch.Size([3, 2]) (same as above), tensor_B.T = torch.Size([2, 3])\n",
            "\n",
            "Nultiplying: torch.Size([3, 2]) * torch.Size([2, 3]) <- inner dimention match \n",
            "\n",
            "Output: \n",
            "\n",
            "tensor([[ 23.,  29.,  35.],\n",
            "        [ 53.,  67.,  81.],\n",
            "        [ 83., 105., 127.]])\n",
            "\n",
            "Output shape: torch.Size([3, 3])\n"
          ]
        }
      ]
    },
    {
      "cell_type": "code",
      "source": [
        "# torch.mm is a shortcut for matmul\n",
        "torch.mm(tensor_A, tensor_B.T)"
      ],
      "metadata": {
        "colab": {
          "base_uri": "https://localhost:8080/"
        },
        "id": "cvFqpNUiNy86",
        "outputId": "8022251f-b842-4e5f-b474-11e97800559f"
      },
      "execution_count": null,
      "outputs": [
        {
          "output_type": "execute_result",
          "data": {
            "text/plain": [
              "tensor([[ 23.,  29.,  35.],\n",
              "        [ 53.,  67.,  81.],\n",
              "        [ 83., 105., 127.]])"
            ]
          },
          "metadata": {},
          "execution_count": 42
        }
      ]
    },
    {
      "cell_type": "markdown",
      "source": [
        "Without the transpose, the rules of matrix mulitplication aren't fulfilled and we get an error like above."
      ],
      "metadata": {
        "id": "7r05cxMKOa1Z"
      }
    },
    {
      "cell_type": "markdown",
      "source": [
        ">  **Note:** A matrix multiplication like this is also referred to as the `dot product` of two matrices."
      ],
      "metadata": {
        "id": "0xqUVC8pom8Q"
      }
    },
    {
      "cell_type": "markdown",
      "source": [
        "Neural networks are full of matrix multiplications and dot products.\n",
        "\n",
        "The `torch.nn.Linear()` module (we'll see this in action later on), also known as a feed-forward layer or fully connected layer, implements a matrix multiplication between an input `x` and a weights matrix `A`.\n",
        "\n",
        "Y = x⋅A^T + b\n",
        "\n",
        "Where:\n",
        "\n",
        "*   `x` is the input to the layer (deep learning is a stack of layers like torch.nn.Linear() and others on top of each other).\n",
        "*   `A` is the weights matrix created by the layer, this starts out as random numbers that get adjusted as a neural network learns to better represent patterns in the data (notice the \"`T`\", that's because the weights matrix gets transposed).\n",
        "\n",
        "    *  **Note:** You might also often see `W` or another letter like `X` used to showcase the weights matrix.\n",
        "\n",
        "*  `b` is the bias term used to slightly offset the weights and inputs.\n",
        "\n",
        "*  `y` is the output (a manipulation of the input in the hopes to discover patterns in it).\n",
        "\n",
        "This is a linear function (you may have seen something like\n",
        "`y=mx+b` in high school or elsewhere), and can be used to draw a straight line!\n",
        "\n",
        "Let's play around with a linear layer.\n",
        "\n",
        "Try changing the values of `in_features` and `out_features` below and see what happens.\n",
        "\n",
        "Do you notice anything to do with the shapes?\n"
      ],
      "metadata": {
        "id": "qFK6gCyFpQig"
      }
    },
    {
      "cell_type": "code",
      "source": [
        "# Since the linear layer starts with a random weights matrix, let's make it reproducible (more on this later)\n",
        "torch.manual_seed(42)\n",
        "# This uses matrix multiplication\n",
        "linear = torch.nn.Linear(in_features=2,   # in_features = matches inner dimension of input\n",
        "                         out_features=6)  # out_features = describes outer value\n",
        "\n",
        "x = tensor_A\n",
        "output = linear(x)\n",
        "print(f\"Input shape: {x.shape}\\n\")\n",
        "print(f\"Output:\\n{output}\\n\\nOutput shape: {output.shape}\")\n"
      ],
      "metadata": {
        "id": "FRpxhRU4OQQw",
        "colab": {
          "base_uri": "https://localhost:8080/"
        },
        "outputId": "ce51cb0e-79a1-4e61-98a4-a37e997d3751"
      },
      "execution_count": null,
      "outputs": [
        {
          "output_type": "stream",
          "name": "stdout",
          "text": [
            "Input shape: torch.Size([3, 2])\n",
            "\n",
            "Output:\n",
            "tensor([[2.2368, 1.2292, 0.4714, 0.3864, 0.1309, 0.9838],\n",
            "        [4.4919, 2.1970, 0.4469, 0.5285, 0.3401, 2.4777],\n",
            "        [6.7469, 3.1648, 0.4224, 0.6705, 0.5493, 3.9716]],\n",
            "       grad_fn=<AddmmBackward0>)\n",
            "\n",
            "Output shape: torch.Size([3, 6])\n"
          ]
        }
      ]
    },
    {
      "cell_type": "markdown",
      "source": [
        ">  **Question:** What happens if you change `in_features` from 2 to 3 above? Does it error? How could you change the shape of the input (`x`) to accomodate to the error? Hint: what did we have to do to `tensor_B` above?"
      ],
      "metadata": {
        "id": "89oJHUuOBt7e"
      }
    },
    {
      "cell_type": "markdown",
      "source": [
        "### Finding the min, max, mean, sum, etc (aggregation)\n",
        "\n"
      ],
      "metadata": {
        "id": "G1L8crFXCEAy"
      }
    },
    {
      "cell_type": "code",
      "source": [
        "# Create a tensor\n",
        "x = torch.arange(0, 100, 10)\n",
        "x"
      ],
      "metadata": {
        "colab": {
          "base_uri": "https://localhost:8080/"
        },
        "id": "sVHp94LQAPJE",
        "outputId": "f4fe0b5c-3a4f-416a-e09e-83351d0228fc"
      },
      "execution_count": null,
      "outputs": [
        {
          "output_type": "execute_result",
          "data": {
            "text/plain": [
              "tensor([ 0, 10, 20, 30, 40, 50, 60, 70, 80, 90])"
            ]
          },
          "metadata": {},
          "execution_count": 47
        }
      ]
    },
    {
      "cell_type": "code",
      "source": [
        "# Now let's perform some aggregation.\n",
        "print(f\"Minimum: {x.min()}\")\n",
        "print(f\"Maximum: {x.max()}\")\n",
        "# print(f\"Mean: {x.mean()}\")  # this will error\n",
        "print(f\"Mean: {x.type(torch.float32).mean()}\")\n",
        "print(f\"Sum: {x.sum()}\")"
      ],
      "metadata": {
        "colab": {
          "base_uri": "https://localhost:8080/"
        },
        "id": "sfIYCbRPCWmR",
        "outputId": "4a0e5658-25c6-4d72-c8f8-7a2646eb1f68"
      },
      "execution_count": null,
      "outputs": [
        {
          "output_type": "stream",
          "name": "stdout",
          "text": [
            "Minimum: 0\n",
            "Maximum: 90\n",
            "Mean: 45.0\n",
            "Sum: 450\n"
          ]
        }
      ]
    },
    {
      "cell_type": "markdown",
      "source": [
        ">  **Note:** You may find some methods such as `torch.mean()` require tensors to be in `torch.float32` (the most common) or another specific datatype, otherwise the operation will fail.\n",
        "\n",
        "\n",
        "\n",
        "You can also do the same as above with torch methods."
      ],
      "metadata": {
        "id": "pxgVHU5dDpDD"
      }
    },
    {
      "cell_type": "code",
      "source": [
        "torch.max(x), torch.min(x), torch.mean(x.type(torch.float32)), torch.sum(x)"
      ],
      "metadata": {
        "colab": {
          "base_uri": "https://localhost:8080/"
        },
        "id": "_ri1nDMlDUJZ",
        "outputId": "c3afddd1-475d-47c2-917c-a574a6916fa7"
      },
      "execution_count": null,
      "outputs": [
        {
          "output_type": "execute_result",
          "data": {
            "text/plain": [
              "(tensor(90), tensor(0), tensor(45.), tensor(450))"
            ]
          },
          "metadata": {},
          "execution_count": 50
        }
      ]
    },
    {
      "cell_type": "markdown",
      "source": [
        "### Positional min/max\n",
        "\n",
        "You can also find the index of a tensor where the max or minimum occurs with torch.argmax() and torch.argmin() respectively.\n",
        "\n"
      ],
      "metadata": {
        "id": "zeJBNYbQFGnk"
      }
    },
    {
      "cell_type": "code",
      "source": [
        "# Create a tensor\n",
        "tensor = torch.arange(0, 100, 10)\n",
        "print(f\"Tensor: {tensor}\")\n",
        "\n",
        "# Returns index of max and min values\n",
        "print(f\"Index whare max value occurs: {tensor.argmax()}\")\n",
        "print(f\"Index whare min value occurs: {tensor.argmin()}\")"
      ],
      "metadata": {
        "colab": {
          "base_uri": "https://localhost:8080/"
        },
        "id": "K40a251vEQQK",
        "outputId": "3f77fcbd-acbd-4e5f-c12c-b30bf5f10972"
      },
      "execution_count": null,
      "outputs": [
        {
          "output_type": "stream",
          "name": "stdout",
          "text": [
            "Tensor: tensor([ 0, 10, 20, 30, 40, 50, 60, 70, 80, 90])\n",
            "Index whare max value occurs: 9\n",
            "Index whare min value occurs: 0\n"
          ]
        }
      ]
    },
    {
      "cell_type": "markdown",
      "source": [
        "### Change tensor datatype\n",
        "As mentioned, a common issue with deep learning operations is having your tensors in different datatypes.\n",
        "\n",
        "If one tensor is in `torch.float64` and another is in `torch.float32`, you might run into some errors.\n",
        "\n",
        "But there's a fix.\n",
        "\n",
        "You can change the datatypes of tensors using `torch.Tensor.type(dtype=None)` where the `dtype` parameter is the datatype you'd like to use.\n",
        "\n",
        "First we'll create a tensor and check it's datatype (the default is `torch.float32`)."
      ],
      "metadata": {
        "id": "8aUVsLyVIc02"
      }
    },
    {
      "cell_type": "code",
      "source": [
        "# Create a tenosr and check its datatype\n",
        "tensor = torch.arange(10., 100., 10.)\n",
        "tensor.dtype"
      ],
      "metadata": {
        "colab": {
          "base_uri": "https://localhost:8080/"
        },
        "id": "2S0ap-kjGIhp",
        "outputId": "c8bdd4ba-9a71-4667-8d06-cc0b209046d6"
      },
      "execution_count": null,
      "outputs": [
        {
          "output_type": "execute_result",
          "data": {
            "text/plain": [
              "torch.float32"
            ]
          },
          "metadata": {},
          "execution_count": 57
        }
      ]
    },
    {
      "cell_type": "markdown",
      "source": [
        "Now we'll create another tensor the same as before but change its datatype to `torch.float16`."
      ],
      "metadata": {
        "id": "GpbsAlGOJIzY"
      }
    },
    {
      "cell_type": "code",
      "source": [
        "tensor_float16 = tensor.type(torch.float16)\n",
        "tensor_float16.dtype\n",
        "tensor_float16"
      ],
      "metadata": {
        "colab": {
          "base_uri": "https://localhost:8080/"
        },
        "id": "_J2HUaSxI7aW",
        "outputId": "4f7072d1-f74a-4117-db3c-dd56fe2ade7e"
      },
      "execution_count": null,
      "outputs": [
        {
          "output_type": "execute_result",
          "data": {
            "text/plain": [
              "tensor([10., 20., 30., 40., 50., 60., 70., 80., 90.], dtype=torch.float16)"
            ]
          },
          "metadata": {},
          "execution_count": 62
        }
      ]
    },
    {
      "cell_type": "markdown",
      "source": [
        "And we can do something similar to make a torch.int8 tensor."
      ],
      "metadata": {
        "id": "dfk86Sp5JhhP"
      }
    },
    {
      "cell_type": "code",
      "source": [
        "# Create a int8 tenosr\n",
        "tensor_int8 = tensor.type(torch.int8)\n",
        "tensor_int8"
      ],
      "metadata": {
        "colab": {
          "base_uri": "https://localhost:8080/"
        },
        "id": "eckS1z-JJU3e",
        "outputId": "c787921c-0c4b-4201-e4b8-77ea8afd1786"
      },
      "execution_count": null,
      "outputs": [
        {
          "output_type": "execute_result",
          "data": {
            "text/plain": [
              "tensor([10, 20, 30, 40, 50, 60, 70, 80, 90], dtype=torch.int8)"
            ]
          },
          "metadata": {},
          "execution_count": 63
        }
      ]
    },
    {
      "cell_type": "markdown",
      "source": [
        ">  Note: Different datatypes can be confusing to begin with. But think of it like this, the lower the number (e.g. 32, 16, 8), the less precise a computer stores the value. And with a lower amount of storage, this generally results in faster computation and a smaller overall model. Mobile-based neural networks often operate with 8-bit integers, smaller and faster to run but less accurate than their float32 counterparts. For more on this, I'd read up about precision in computing."
      ],
      "metadata": {
        "id": "qOAtCGoXLZTo"
      }
    },
    {
      "cell_type": "markdown",
      "source": [
        "###  Reshaping, stacking, squeezing and unsqueezing\n",
        "Often times you'll want to reshape or change the dimensions of your tensors without actually changing the values inside them.\n",
        "\n",
        "\n",
        "| Method | One line description |\n",
        "|--------------|-------------|\n",
        "| torch.reshape(input, shape) | Reshapes input to shape (if compatible), can also use torch.Tensor.reshape(). |\n",
        "| torch.Tensor.view(shape) | Returns a view of the original tensor in a different shape but shares the same data as the original tensor. |\n",
        "| torch.stack(tensors, dim=0) | Concatenates a sequence of tensors along a new dimension (dim), all tensors must be same size. |\n",
        "| torch.squeeze(input) | Squeezes input to remove all the dimenions with value 1. |\n",
        "| torch.unsqueeze(input, dim) | Returns input with a dimension value of 1 added at dim. |\n",
        "| torch.permute(input, dims) | Returns a view of the original input with its dimensions permuted (rearranged) to dims.|\n",
        "\n",
        "##### Why do any of these?\n",
        "\n",
        "Because deep learning models (neural networks) are all about manipulating tensors in some way. And because of the rules of matrix multiplication, if you've got shape mismatches, you'll run into errors. These methods help you make the right elements of your tensors are mixing with the right elements of other tensors.\n"
      ],
      "metadata": {
        "id": "TsRAp8ZPLqTX"
      }
    },
    {
      "cell_type": "code",
      "source": [
        "# Create a tensor\n",
        "import torch\n",
        "x = torch.arange(1., 8.)\n",
        "x, x.shape"
      ],
      "metadata": {
        "colab": {
          "base_uri": "https://localhost:8080/"
        },
        "id": "5tl16il8Ju_m",
        "outputId": "a98a36f8-b484-49ff-b0b8-65367466eb39"
      },
      "execution_count": null,
      "outputs": [
        {
          "output_type": "execute_result",
          "data": {
            "text/plain": [
              "(tensor([1., 2., 3., 4., 5., 6., 7.]), torch.Size([7]))"
            ]
          },
          "metadata": {},
          "execution_count": 64
        }
      ]
    },
    {
      "cell_type": "markdown",
      "source": [
        "Now let's add an extra dimension with `torch.reshape()`."
      ],
      "metadata": {
        "id": "bAlrJ92ZO_4-"
      }
    },
    {
      "cell_type": "code",
      "source": [
        "# Add an extra dimention\n",
        "x_reshaped = x.reshape(1, 7)\n",
        "x_reshaped, x_reshaped.shape"
      ],
      "metadata": {
        "colab": {
          "base_uri": "https://localhost:8080/"
        },
        "id": "OH9oTvxuO4LF",
        "outputId": "f445a468-4675-4fd7-bee2-121b4f6c7682"
      },
      "execution_count": null,
      "outputs": [
        {
          "output_type": "execute_result",
          "data": {
            "text/plain": [
              "(tensor([[5., 2., 3., 4., 5., 6., 7.]]), torch.Size([1, 7]))"
            ]
          },
          "metadata": {},
          "execution_count": 71
        }
      ]
    },
    {
      "cell_type": "markdown",
      "source": [
        "We can also change the view with torch.view()."
      ],
      "metadata": {
        "id": "WsoukllLQZKs"
      }
    },
    {
      "cell_type": "code",
      "source": [
        "# Change view (keeps same data as original but changes view)\n",
        "# See more: https://stackoverflow.com/a/54507446/7900723\n",
        "\n",
        "x\n",
        "z = x.view(1, 7)\n",
        "z, z.shape"
      ],
      "metadata": {
        "colab": {
          "base_uri": "https://localhost:8080/"
        },
        "id": "-bZS3olUPRK8",
        "outputId": "3b7a3f53-e68b-43b0-d090-5e032d27aa9a"
      },
      "execution_count": null,
      "outputs": [
        {
          "output_type": "execute_result",
          "data": {
            "text/plain": [
              "(tensor([[1., 2., 3., 4., 5., 6., 7.]]), torch.Size([1, 7]))"
            ]
          },
          "metadata": {},
          "execution_count": 66
        }
      ]
    },
    {
      "cell_type": "markdown",
      "source": [
        "Remember though, changing the view of a tensor with `torch.view()` really only creates a new view of the same tensor.\n",
        "\n",
        "So changing the view changes the original tensor too."
      ],
      "metadata": {
        "id": "6IowkxmoQ3mb"
      }
    },
    {
      "cell_type": "code",
      "source": [
        "# Changing z changes x\n",
        "z[:, 0] = 5\n",
        "z, x"
      ],
      "metadata": {
        "colab": {
          "base_uri": "https://localhost:8080/"
        },
        "id": "UR4U1LabQlAh",
        "outputId": "b398a6b2-aded-4c92-b597-f699fb7a3b44"
      },
      "execution_count": null,
      "outputs": [
        {
          "output_type": "execute_result",
          "data": {
            "text/plain": [
              "(tensor([[5., 2., 3., 4., 5., 6., 7.]]), tensor([5., 2., 3., 4., 5., 6., 7.]))"
            ]
          },
          "metadata": {},
          "execution_count": 68
        }
      ]
    },
    {
      "cell_type": "markdown",
      "source": [
        "If we wanted to stack our new tensor on top of itself five times, we could do so with `torch.stack()`."
      ],
      "metadata": {
        "id": "bSvlXHlbRtCb"
      }
    },
    {
      "cell_type": "code",
      "source": [
        "# Stack tensor on top of each other\n",
        "x_stacked = torch.stack([x, x, x, x], dim= 0)\n",
        "x_stacked"
      ],
      "metadata": {
        "colab": {
          "base_uri": "https://localhost:8080/"
        },
        "id": "bIgG-kDDQqaz",
        "outputId": "0767bec4-05da-4670-f49c-6cbc73746ffe"
      },
      "execution_count": null,
      "outputs": [
        {
          "output_type": "execute_result",
          "data": {
            "text/plain": [
              "tensor([[5., 2., 3., 4., 5., 6., 7.],\n",
              "        [5., 2., 3., 4., 5., 6., 7.],\n",
              "        [5., 2., 3., 4., 5., 6., 7.],\n",
              "        [5., 2., 3., 4., 5., 6., 7.]])"
            ]
          },
          "metadata": {},
          "execution_count": 69
        }
      ]
    },
    {
      "cell_type": "markdown",
      "source": [
        "How about removing all single dimensions from a tensor?\n",
        "\n",
        "To do so you can use `torch.squeeze()` (I remember this as squeezing the tensor to only have dimensions over 1)."
      ],
      "metadata": {
        "id": "9zY0kV5mSR0M"
      }
    },
    {
      "cell_type": "code",
      "source": [
        "print(f\"Previous tensor: {x_reshaped}\")\n",
        "print(f\"Previous shpe: {x_reshaped.shape}\")\n",
        "\n",
        "# Remove extra dimension from x_reshaped\n",
        "x_squeezed = x_reshaped.squeeze()\n",
        "print(f\"\\nNew tensor: {x_squeezed}\")\n",
        "print(f\"New shape: {x_squeezed.shape}\")"
      ],
      "metadata": {
        "colab": {
          "base_uri": "https://localhost:8080/"
        },
        "id": "Y6fChrCXSCrL",
        "outputId": "49a1e313-61b1-416a-f1ba-92bedf878a96"
      },
      "execution_count": null,
      "outputs": [
        {
          "output_type": "stream",
          "name": "stdout",
          "text": [
            "Previous tensor: tensor([[5., 2., 3., 4., 5., 6., 7.]])\n",
            "Previous shpe: torch.Size([1, 7])\n",
            "\n",
            "New tensor: tensor([5., 2., 3., 4., 5., 6., 7.])\n",
            "New shape: torch.Size([7])\n"
          ]
        }
      ]
    },
    {
      "cell_type": "markdown",
      "source": [
        "And to do the reverse of torch.squeeze() you can use torch.unsqueeze() to add a dimension value of 1 at a specific index."
      ],
      "metadata": {
        "id": "OJ7qozlhUpUE"
      }
    },
    {
      "cell_type": "code",
      "source": [
        "print(f\"Previous tensor: {x_squeezed}\")\n",
        "print(f\"Previous shape: {x_squeezed.shape}\")\n",
        "\n",
        "## Add an extra dimention with unsqueeze\n",
        "x_unsqueezed = x_squeezed.unsqueeze(dim=0)\n",
        "print(f\"\\nNew tensor: {x_unsqueezed}\")\n",
        "print(f\"New shape: {x_unsqueezed.shape}\")"
      ],
      "metadata": {
        "colab": {
          "base_uri": "https://localhost:8080/"
        },
        "id": "smTstH90Uh0Y",
        "outputId": "d85ca85b-eb56-418c-c0b4-f68d8a40845a"
      },
      "execution_count": null,
      "outputs": [
        {
          "output_type": "stream",
          "name": "stdout",
          "text": [
            "Previous tensor: tensor([5., 2., 3., 4., 5., 6., 7.])\n",
            "Previous shape: torch.Size([7])\n",
            "\n",
            "New tensor: tensor([[5., 2., 3., 4., 5., 6., 7.]])\n",
            "New shape: torch.Size([1, 7])\n"
          ]
        }
      ]
    },
    {
      "cell_type": "markdown",
      "source": [
        "You can also rearrange the order of axes values with `torch.permute(input, dims)`, where the `input` gets turned into a view with new `dims`."
      ],
      "metadata": {
        "id": "Y2Hv9IOHYVhK"
      }
    },
    {
      "cell_type": "code",
      "source": [
        "#Create tensor with specific shape\n",
        "x_original = torch.rand(size=(244, 244, 3))\n",
        "\n",
        "# Permute the original tensor to rearrange the axis order\n",
        "x_permuted = x_original.permute(2, 0, 1)    # shifts axis 0->1, 1->2, 2->0\n",
        "\n",
        "print(f\"Previous shape: {x_original.shape}\")\n",
        "print(f\"New shape: {x_permuted.shape}\")"
      ],
      "metadata": {
        "colab": {
          "base_uri": "https://localhost:8080/"
        },
        "id": "QQh_Zv70VrQ7",
        "outputId": "9d852d53-39df-4d80-aedd-25c12f5c4291"
      },
      "execution_count": null,
      "outputs": [
        {
          "output_type": "stream",
          "name": "stdout",
          "text": [
            "Previous shape: torch.Size([244, 244, 3])\n",
            "New shape: torch.Size([3, 244, 244])\n"
          ]
        }
      ]
    },
    {
      "cell_type": "markdown",
      "source": [
        ">  **Note:** Because permuting returns a view (shares the same data as the original), the values in the permuted tensor will be the same as the original tensor and if you change the values in the view, it will change the values of the original."
      ],
      "metadata": {
        "id": "Aoo4pcBNZhaD"
      }
    },
    {
      "cell_type": "markdown",
      "source": [
        "### Indexing (selecting data from tensors)\n",
        "Sometimes you'll want to select specific data from tensors (for example, only the first column or second row).\n",
        "\n",
        "To do so, you can use indexing.\n",
        "\n",
        "If you've ever done indexing on Python lists or NumPy arrays, indexing in PyTorch with tensors is very similar."
      ],
      "metadata": {
        "id": "dNjvlF7pZ5kd"
      }
    },
    {
      "cell_type": "code",
      "source": [
        "# Create a tensor\n",
        "import torch\n",
        "x = torch.arange(1, 10).reshape(1, 3, 3)\n",
        "x, x.shape, x.ndim"
      ],
      "metadata": {
        "colab": {
          "base_uri": "https://localhost:8080/"
        },
        "id": "-AR_bvB0ZT8l",
        "outputId": "59d3c9c9-9620-4e33-f704-823d20e5b266"
      },
      "execution_count": null,
      "outputs": [
        {
          "output_type": "execute_result",
          "data": {
            "text/plain": [
              "(tensor([[[1, 2, 3],\n",
              "          [4, 5, 6],\n",
              "          [7, 8, 9]]]),\n",
              " torch.Size([1, 3, 3]),\n",
              " 3)"
            ]
          },
          "metadata": {},
          "execution_count": 1
        }
      ]
    },
    {
      "cell_type": "markdown",
      "source": [
        "Indexing values goes outer dimension -> inner dimension (check out the square brackets)."
      ],
      "metadata": {
        "id": "xDdADRfmh60I"
      }
    },
    {
      "cell_type": "code",
      "source": [
        "# let's index bracket by bracket\n",
        "print(f\"First square bracket:\\n {x[0]}\")\n",
        "print(f\"Second square bracket: {x[0][0]}\")\n",
        "print(f\"Third square bracket: {x[0][0][0]}\")"
      ],
      "metadata": {
        "colab": {
          "base_uri": "https://localhost:8080/"
        },
        "id": "YUC4Vp64hL-V",
        "outputId": "8f303555-3b9a-4e7c-b8a9-ee662fbe9274"
      },
      "execution_count": null,
      "outputs": [
        {
          "output_type": "stream",
          "name": "stdout",
          "text": [
            "First square bracket:\n",
            " tensor([[1, 2, 3],\n",
            "        [4, 5, 6],\n",
            "        [7, 8, 9]])\n",
            "Second square bracket: tensor([1, 2, 3])\n",
            "Third square bracket: 1\n"
          ]
        }
      ]
    },
    {
      "cell_type": "markdown",
      "source": [
        "You can also use `:` to specify \"all values in this dimension\" and then use a comma (`,`) to add another dimension."
      ],
      "metadata": {
        "id": "33vcklkHgwsO"
      }
    },
    {
      "cell_type": "code",
      "source": [
        "# Get all values of 0th dimension and the 0 index of 1st dimension\n",
        "x[:, 0]"
      ],
      "metadata": {
        "id": "Ox_MnG3aiJtL",
        "colab": {
          "base_uri": "https://localhost:8080/"
        },
        "outputId": "47196f75-8838-474c-8ccc-07d6dd68f40e"
      },
      "execution_count": null,
      "outputs": [
        {
          "output_type": "execute_result",
          "data": {
            "text/plain": [
              "tensor([[1, 2, 3]])"
            ]
          },
          "metadata": {},
          "execution_count": 10
        }
      ]
    },
    {
      "cell_type": "code",
      "source": [
        "# Get all values of 0th & 1st dimensions but only index 1 of 2nd dimension\n",
        "x[:, :, 1]"
      ],
      "metadata": {
        "colab": {
          "base_uri": "https://localhost:8080/"
        },
        "id": "khR6lu_SFuN4",
        "outputId": "654ee9f4-07bd-4136-be31-9b7534579ae5"
      },
      "execution_count": null,
      "outputs": [
        {
          "output_type": "execute_result",
          "data": {
            "text/plain": [
              "tensor([[2, 5, 8]])"
            ]
          },
          "metadata": {},
          "execution_count": 11
        }
      ]
    },
    {
      "cell_type": "code",
      "source": [
        "# Get all values of the 0 dimension but only the 1 index value of the 1st and 2nd dimension\n",
        "x[:, 1, 1]"
      ],
      "metadata": {
        "colab": {
          "base_uri": "https://localhost:8080/"
        },
        "id": "5XjoxwPmitpE",
        "outputId": "25147415-b56a-4953-fd00-016dc35e90d6"
      },
      "execution_count": null,
      "outputs": [
        {
          "output_type": "execute_result",
          "data": {
            "text/plain": [
              "tensor([5])"
            ]
          },
          "metadata": {},
          "execution_count": 12
        }
      ]
    },
    {
      "cell_type": "code",
      "source": [
        "# Get index 0 of 0th and 1st dimension and all values of 2nd dimension\n",
        "x[0, 0, :]      # same as x[0][0]"
      ],
      "metadata": {
        "colab": {
          "base_uri": "https://localhost:8080/"
        },
        "id": "r6yaL_fojQfJ",
        "outputId": "fc191a8d-f1d2-4f55-84a0-93ed92019d6d"
      },
      "execution_count": null,
      "outputs": [
        {
          "output_type": "execute_result",
          "data": {
            "text/plain": [
              "tensor([1, 2, 3])"
            ]
          },
          "metadata": {},
          "execution_count": 15
        }
      ]
    },
    {
      "cell_type": "markdown",
      "source": [
        "Indexing can be quite confusing to begin with, especially with larger tensors"
      ],
      "metadata": {
        "id": "oSNs2zsTjtf9"
      }
    },
    {
      "cell_type": "markdown",
      "source": [
        "### PyTorch tensors & NumPy\n",
        "Since NumPy is a popular Python numerical computing library, PyTorch has functionality to interact with it nicely.\n",
        "\n",
        "The two main methods you'll want to use for NumPy to PyTorch (and back again) are:\n",
        "\n",
        "*  `torch.from_numpy(ndarray)` - NumPy array -> PyTorch tensor.\n",
        "*  `torch.Tensor.numpy()` - PyTorch tensor -> NumPy array."
      ],
      "metadata": {
        "id": "2aigntljkDq6"
      }
    },
    {
      "cell_type": "code",
      "source": [
        "# NumPy array to tensor\n",
        "import torch\n",
        "import numpy as np\n",
        "array = np.arange(1.0, 8.0)\n",
        "tensor = torch.from_numpy(array)\n",
        "array, tensor"
      ],
      "metadata": {
        "colab": {
          "base_uri": "https://localhost:8080/"
        },
        "id": "CWpm-OgFjXyx",
        "outputId": "43b2237c-8638-45ea-82dc-8d2ce9ecd3fd"
      },
      "execution_count": null,
      "outputs": [
        {
          "output_type": "execute_result",
          "data": {
            "text/plain": [
              "(array([1., 2., 3., 4., 5., 6., 7.]),\n",
              " tensor([1., 2., 3., 4., 5., 6., 7.], dtype=torch.float64))"
            ]
          },
          "metadata": {},
          "execution_count": 17
        }
      ]
    },
    {
      "cell_type": "markdown",
      "source": [
        "> **Note:** By default, NumPy arrays are created with the datatype `float64` and if you convert it to a PyTorch tensor, it'll keep the same datatype (as above).\n",
        "\n",
        ">  However, many PyTorch calculations default to using `float32`.\n",
        "\n",
        ">  So if you want to convert your NumPy array (float64) -> PyTorch tensor (float64) -> PyTorch tensor (float32), you can use `tensor = torch.from_numpy(array).type(torch.float32)`.\n",
        "\n",
        "Because we reassigned `tensor` above, if you change the tensor, the array stays the same."
      ],
      "metadata": {
        "id": "daJSYwZ0lm56"
      }
    },
    {
      "cell_type": "markdown",
      "source": [],
      "metadata": {
        "id": "gLG8kG2_lmsy"
      }
    },
    {
      "cell_type": "code",
      "source": [
        "# Change the array, keep the tensor\n",
        "array = array + 1\n",
        "array, tensor"
      ],
      "metadata": {
        "colab": {
          "base_uri": "https://localhost:8080/"
        },
        "id": "3D8KcDdwlMCU",
        "outputId": "b5e36c50-582b-4a20-f93c-251f1c77bfa9"
      },
      "execution_count": null,
      "outputs": [
        {
          "output_type": "execute_result",
          "data": {
            "text/plain": [
              "(array([2., 3., 4., 5., 6., 7., 8.]),\n",
              " tensor([1., 2., 3., 4., 5., 6., 7.], dtype=torch.float64))"
            ]
          },
          "metadata": {},
          "execution_count": 18
        }
      ]
    },
    {
      "cell_type": "markdown",
      "source": [
        "And if you want to go from PyTorch tensor to NumPy array, you can call tensor.numpy()."
      ],
      "metadata": {
        "id": "fsC5PjbLnTo7"
      }
    },
    {
      "cell_type": "code",
      "source": [
        "# Tensor to NumPy array\n",
        "tensor = torch.ones(7)     # create a tensor of ones with dtype=float32\n",
        "numpy_tensor = tensor.numpy()     # will be dtype=float32 unless changed\n",
        "tensor, numpy_tensor"
      ],
      "metadata": {
        "colab": {
          "base_uri": "https://localhost:8080/"
        },
        "id": "oOBB4vKdnGgw",
        "outputId": "84de8788-a8c3-43a0-b95f-feb9afe52284"
      },
      "execution_count": null,
      "outputs": [
        {
          "output_type": "execute_result",
          "data": {
            "text/plain": [
              "(tensor([1., 1., 1., 1., 1., 1., 1.]),\n",
              " array([1., 1., 1., 1., 1., 1., 1.], dtype=float32))"
            ]
          },
          "metadata": {},
          "execution_count": 19
        }
      ]
    },
    {
      "cell_type": "markdown",
      "source": [
        "And the same rule applies as above, if you change the original tensor, the new numpy_tensor stays the same."
      ],
      "metadata": {
        "id": "W4uL945Xn3fz"
      }
    },
    {
      "cell_type": "code",
      "source": [
        "# Change the tensor, keep the array the same\n",
        "tensor = tensor + 1\n",
        "tensor, numpy_tensor"
      ],
      "metadata": {
        "colab": {
          "base_uri": "https://localhost:8080/"
        },
        "id": "9zRb-o_enxfh",
        "outputId": "691a6223-e061-4d3c-c4bc-93ee64b6e168"
      },
      "execution_count": null,
      "outputs": [
        {
          "output_type": "execute_result",
          "data": {
            "text/plain": [
              "(tensor([2., 2., 2., 2., 2., 2., 2.]),\n",
              " array([1., 1., 1., 1., 1., 1., 1.], dtype=float32))"
            ]
          },
          "metadata": {},
          "execution_count": 20
        }
      ]
    },
    {
      "cell_type": "markdown",
      "source": [
        "### Reproducibility (trying to take the random out of random)\n",
        "As you learn more about neural networks and machine learning, you'll start to discover how much randomness plays a part.\n",
        "\n",
        "Well, pseudorandomness that is. Because after all, as they're designed, a computer is fundamentally deterministic (each step is predictable) so the randomness they create are simulated randomness (though there is debate on this too, but since I'm not a computer scientist, I'll let you find out more yourself).\n",
        "\n",
        "How does this relate to neural networks and deep learning then?\n",
        "\n",
        "We've discussed neural networks start with random numbers to describe patterns in data (these numbers are poor descriptions) and try to improve those random numbers using tensor operations (and a few other things we haven't discussed yet) to better describe patterns in data.\n",
        "\n",
        "In short:\n",
        "\n",
        "`start with random numbers -> tensor operations -> try to make better (again and again and again)`\n",
        "\n",
        "Although randomness is nice and powerful, sometimes you'd like there to be a little less randomness.\n",
        "\n",
        "Why?\n",
        "\n",
        "So you can perform repeatable experiments.\n",
        "\n",
        "For example, you create an algorithm capable of achieving X performance.\n",
        "\n",
        "And then your friend tries it out to verify you're not crazy.\n",
        "\n",
        "How could they do such a thing?\n",
        "\n",
        "That's where **reproducibility** comes in.\n",
        "\n",
        "In other words, can you get the same (or very similar) results on your computer running the same code as I get on mine?\n",
        "\n",
        "Let's see a brief example of reproducibility in PyTorch.\n",
        "\n",
        "We'll start by creating two random tensors, since they're random, you'd expect them to be different right?"
      ],
      "metadata": {
        "id": "39KWbHMeotVI"
      }
    },
    {
      "cell_type": "markdown",
      "source": [],
      "metadata": {
        "id": "sDmnSHBRotLA"
      }
    },
    {
      "cell_type": "code",
      "source": [
        "import torch\n",
        "\n",
        "# Create two random tenosrs\n",
        "random_tensor_A = torch.rand(3, 4)\n",
        "random_tensor_B = torch.rand(3, 4)\n",
        "\n",
        "print(f\"Tensor A:\\n {random_tensor_A}\\n\")\n",
        "print(f\"Tensor B:\\n {random_tensor_B}\\n\")\n",
        "print(f\"Does Tensor A equal Tensor B? (anywhere)\")\n",
        "random_tensor_A == random_tensor_B"
      ],
      "metadata": {
        "colab": {
          "base_uri": "https://localhost:8080/"
        },
        "id": "3hBmcRF4oBhg",
        "outputId": "e8e7e7ff-29f2-4b5e-cb7b-d3c6853dcb04"
      },
      "execution_count": null,
      "outputs": [
        {
          "output_type": "stream",
          "name": "stdout",
          "text": [
            "Tensor A:\n",
            " tensor([[0.7075, 0.2618, 0.8436, 0.5131],\n",
            "        [0.6550, 0.9248, 0.1114, 0.7061],\n",
            "        [0.0459, 0.3641, 0.4877, 0.1512]])\n",
            "\n",
            "Tensor B:\n",
            " tensor([[0.3797, 0.0090, 0.1240, 0.3198],\n",
            "        [0.3693, 0.6229, 0.5874, 0.9480],\n",
            "        [0.9063, 0.6673, 0.9225, 0.1615]])\n",
            "\n",
            "Does Tensor A equal Tensor B? (anywhere)\n"
          ]
        },
        {
          "output_type": "execute_result",
          "data": {
            "text/plain": [
              "tensor([[False, False, False, False],\n",
              "        [False, False, False, False],\n",
              "        [False, False, False, False]])"
            ]
          },
          "metadata": {},
          "execution_count": 21
        }
      ]
    },
    {
      "cell_type": "markdown",
      "source": [
        "Just as you might've expected, the tensors come out with different values.\n",
        "\n",
        "But what if you wanted to created two random tensors with the same values.\n",
        "\n",
        "As in, the tensors would still contain random values but they would be of the same flavour.\n",
        "\n",
        "That's where `torch.manual_seed(seed)` comes in, where `seed` is an integer (like `42` but it could be anything) that flavours the randomness.\n",
        "\n",
        "Let's try it out by creating some more flavoured random tensors."
      ],
      "metadata": {
        "id": "IedpBeG7rv0V"
      }
    },
    {
      "cell_type": "code",
      "source": [
        "import torch\n",
        "import random\n",
        "\n",
        "# Set the random seed\n",
        "RANDOM_SEED = 42      # try changing this to different values and see what happens to the numbers below\n",
        "torch.manual_seed(seed=RANDOM_SEED)\n",
        "random_tensor_C = torch.rand(3, 4)\n",
        "\n",
        "# Have to reset the seed every time a new rand() is called\n",
        "# Without this, tensor_D would be different to tensor_C\n",
        "torch.random.manual_seed(seed=RANDOM_SEED)      # try commenting this line out and seeing what happens\n",
        "random_tensor_D = torch.rand(3, 4)\n",
        "\n",
        "print(f\"Tensor C:\\n {random_tensor_C}\\n\")\n",
        "print(f\"Tensor D:\\n {random_tensor_D}\\n\")\n",
        "print(f\"Does Tensor C equal Tensor D? (anywhere)\")\n",
        "random_tensor_C == random_tensor_D\n"
      ],
      "metadata": {
        "colab": {
          "base_uri": "https://localhost:8080/"
        },
        "id": "2U6jEoSjrdNv",
        "outputId": "3df031a9-fa77-43ae-919d-68099b125fab"
      },
      "execution_count": null,
      "outputs": [
        {
          "output_type": "stream",
          "name": "stdout",
          "text": [
            "Tensor C:\n",
            " tensor([[0.8823, 0.9150, 0.3829, 0.9593],\n",
            "        [0.3904, 0.6009, 0.2566, 0.7936],\n",
            "        [0.9408, 0.1332, 0.9346, 0.5936]])\n",
            "\n",
            "Tensor D:\n",
            " tensor([[0.8823, 0.9150, 0.3829, 0.9593],\n",
            "        [0.3904, 0.6009, 0.2566, 0.7936],\n",
            "        [0.9408, 0.1332, 0.9346, 0.5936]])\n",
            "\n",
            "Does Tensor C equal Tensor D? (anywhere)\n"
          ]
        },
        {
          "output_type": "execute_result",
          "data": {
            "text/plain": [
              "tensor([[True, True, True, True],\n",
              "        [True, True, True, True],\n",
              "        [True, True, True, True]])"
            ]
          },
          "metadata": {},
          "execution_count": 25
        }
      ]
    },
    {
      "cell_type": "markdown",
      "source": [
        "Nice!\n",
        "\n",
        "It looks like setting the seed worked."
      ],
      "metadata": {
        "id": "eRBhcKLuutX3"
      }
    },
    {
      "cell_type": "markdown",
      "source": [
        "### Running tensors on GPUs (and making faster computations)\n",
        "Deep learning algorithms require a lot of numerical operations.\n",
        "\n",
        "And by default these operations are often done on a CPU (computer processing unit).\n",
        "\n",
        "However, there's another common piece of hardware called a GPU (graphics processing unit), which is often much faster at performing the specific types of operations neural networks need (matrix multiplications) than CPUs.\n",
        "\n",
        "Your computer might have one.\n",
        "\n",
        "If so, you should look to use it whenever you can to train neural networks because chances are it'll speed up the training time dramatically.\n",
        "\n",
        "There are a few ways to first get access to a GPU and secondly get PyTorch to use the GPU.\n",
        "\n",
        ">  **Note:** When I reference \"GPU\" throughout this course, I'm referencing a `Nvidia GPU with CUDA` enabled (CUDA is a computing platform and API that helps allow GPUs be used for general purpose computing & not just graphics) unless otherwise specified."
      ],
      "metadata": {
        "id": "sbRUiguPw5df"
      }
    },
    {
      "cell_type": "markdown",
      "source": [
        "### 1. Getting a GPU\n",
        "You may already know what's going on when I say GPU. But if not, there are a few ways to get access to one.\n",
        "\n",
        "\n",
        "| Method |\tDifficulty to setup |\tPros\t| Cons |\tHow to setup |\n",
        "|---------|---------|--------|--------|-------|\n",
        "| Google Colab |\tEasy |\tFree to use, almost zero setup required, can share work with others as easy as a link\t| Doesn't save your data outputs, limited compute, subject to timeouts |\tFollow the Google Colab Guide |\n",
        "| Use your own |\tMedium |\tRun everything locally on your own machine |\tGPUs aren't free, require upfront cost |\tFollow the PyTorch installation guidelines |\n",
        "| Cloud computing (AWS, GCP, Azure)\t|Medium-Hard\tSmall upfront cost, access to almost infinite compute\t| Can get expensive if running continually, takes some time to setup right |\tFollow the PyTorch installation guidelines |\n",
        "\n",
        "There are more options for using GPUs but the above three will suffice for now.\n",
        "\n"
      ],
      "metadata": {
        "id": "mwJR3P51xgAL"
      }
    },
    {
      "cell_type": "code",
      "source": [
        "# ! nvidia-sim    #  if you've got access to a Nvidia GPU, you can run !nvidia-smi where the ! (also called bang) means \"run this on the command line\"."
      ],
      "metadata": {
        "id": "mk4IICxttIjm",
        "colab": {
          "base_uri": "https://localhost:8080/"
        },
        "outputId": "9aa485d4-d099-498e-ab9f-828055271e91"
      },
      "execution_count": null,
      "outputs": [
        {
          "output_type": "stream",
          "name": "stdout",
          "text": [
            "/bin/bash: nvidia-sim: command not found\n"
          ]
        }
      ]
    },
    {
      "cell_type": "markdown",
      "source": [
        "### 2. Getting PyTorch to run on the GPU\n",
        "Once you've got a GPU ready to access, the next step is getting PyTorch to use for storing data (tensors) and computing on data (performing operations on tensors).\n",
        "\n",
        "To do so, you can use the `torch.cuda` package.\n",
        "\n",
        "Rather than talk about it, let's try it out.\n",
        "\n",
        "You can test if PyTorch has access to a GPU using `torch.cuda.is_available()`."
      ],
      "metadata": {
        "id": "5K8BgaRwxoZN"
      }
    },
    {
      "cell_type": "code",
      "source": [
        "# check for GPU\n",
        "import torch\n",
        "torch.cuda.is_available()"
      ],
      "metadata": {
        "id": "nxtEyPe6xqnr",
        "colab": {
          "base_uri": "https://localhost:8080/"
        },
        "outputId": "7013b352-b74d-459b-f112-d0881f8fe1c5"
      },
      "execution_count": null,
      "outputs": [
        {
          "output_type": "execute_result",
          "data": {
            "text/plain": [
              "True"
            ]
          },
          "metadata": {},
          "execution_count": 2
        }
      ]
    },
    {
      "cell_type": "markdown",
      "source": [
        "If the above outputs `True`, PyTorch can see and use the GPU, if it outputs `False`, it can't see the GPU and in that case, you'll have to go back through the installation steps.\n",
        "\n",
        "Now, let's say you wanted to setup your code so it ran on CPU or the GPU if it was available.\n",
        "\n",
        "That way, if you or someone decides to run your code, it'll work regardless of the computing device they're using.\n",
        "\n",
        "Let's create a `device` variable to store what kind of device is available."
      ],
      "metadata": {
        "id": "OH1_dXnJeVyl"
      }
    },
    {
      "cell_type": "code",
      "source": [
        "# set device type\n",
        "device = \"cuda\" if torch.cuda.is_available() else \"cpu\"\n",
        "device"
      ],
      "metadata": {
        "colab": {
          "base_uri": "https://localhost:8080/",
          "height": 35
        },
        "id": "FF465-zfep2Z",
        "outputId": "c1798787-870c-417f-94fa-fe06763d745f"
      },
      "execution_count": null,
      "outputs": [
        {
          "output_type": "execute_result",
          "data": {
            "text/plain": [
              "'cuda'"
            ],
            "application/vnd.google.colaboratory.intrinsic+json": {
              "type": "string"
            }
          },
          "metadata": {},
          "execution_count": 4
        }
      ]
    },
    {
      "cell_type": "markdown",
      "source": [
        "If the above output `\"cuda\"` it means we can set all of our PyTorch code to use the available CUDA device (a GPU) and if it output `\"cpu\"`, our PyTorch code will stick with the CPU.\n",
        "\n",
        ">  Note: In PyTorch, it's best practice to write *device agnostic code*. This means code that'll run on CPU (always available) or GPU (if available).\n",
        "\n",
        "If you want to do faster computing you can use a GPU but if you want to do much faster computing, you can use multiple GPUs.\n",
        "\n",
        "You can count the number of GPUs PyTorch has access to using `torch.cuda.device_count()`."
      ],
      "metadata": {
        "id": "l_9UOuIWfEDs"
      }
    },
    {
      "cell_type": "code",
      "source": [
        "# count number of devices\n",
        "torch.cuda.device_count()"
      ],
      "metadata": {
        "colab": {
          "base_uri": "https://localhost:8080/"
        },
        "id": "EcY9eb7zfhgg",
        "outputId": "89d5f2d1-92b0-4244-971f-4bc48fb30765"
      },
      "execution_count": null,
      "outputs": [
        {
          "output_type": "execute_result",
          "data": {
            "text/plain": [
              "1"
            ]
          },
          "metadata": {},
          "execution_count": 5
        }
      ]
    },
    {
      "cell_type": "markdown",
      "source": [
        "\n",
        "Knowing the number of GPUs PyTorch has access to is helpful incase you wanted to run a specific process on one GPU and another process on another (PyTorch also has features to let you run a process across all GPUs)."
      ],
      "metadata": {
        "id": "GBe8WJ3tfulN"
      }
    },
    {
      "cell_type": "markdown",
      "source": [
        "### 3. Putting tensors (and models) on the GPU\n",
        "You can put tensors (and models, we'll see this later) on a specific device by calling `to(device)` on them. Where `device` is the target device you'd like the tensor (or model) to go to.\n",
        "\n",
        "Why do this?\n",
        "\n",
        "GPUs offer far faster numerical computing than CPUs do and if a GPU isn't available, because of our **device agnostic code** (see above), it'll run on the CPU.\n",
        "\n",
        ">   **Note:** Putting a tensor on GPU using `to(device)` (e.g. `some_tensor.to(device)`) returns a copy of that tensor, e.g. the same tensor will be on CPU and GPU. To overwrite tensors, reassign them:\n",
        "\n",
        ">  `some_tensor = some_tensor.to(device)`\n",
        "\n",
        "Let's try creating a tensor and putting it on the GPU (if it's available)."
      ],
      "metadata": {
        "id": "c9AdAIWEx29S"
      }
    },
    {
      "cell_type": "code",
      "source": [
        "# Create tensor (default on CPU)\n",
        "tensor = torch.tensor([1, 2, 3])\n",
        "\n",
        "# Tensor not on GPU\n",
        "print(tensor, tensor.device)\n",
        "\n",
        "# Move tensor to GPU (if available)\n",
        "tensor_on_gpu = tensor.to(device)\n",
        "tensor_on_gpu"
      ],
      "metadata": {
        "id": "i85F1SlQyWQS",
        "colab": {
          "base_uri": "https://localhost:8080/"
        },
        "outputId": "48ca6250-b0eb-4a02-a968-573b9da47e1d"
      },
      "execution_count": null,
      "outputs": [
        {
          "output_type": "stream",
          "name": "stdout",
          "text": [
            "tensor([1, 2, 3]) cpu\n"
          ]
        },
        {
          "output_type": "execute_result",
          "data": {
            "text/plain": [
              "tensor([1, 2, 3], device='cuda:0')"
            ]
          },
          "metadata": {},
          "execution_count": 6
        }
      ]
    },
    {
      "cell_type": "markdown",
      "source": [
        "If you have a GPU available, the above code will output something like:\n",
        "\n",
        ">  tensor([1, 2, 3]) cpu\n",
        "\n",
        ">  tensor([1, 2, 3], device='cuda:0')\n",
        "\n",
        "\n",
        "Notice the second tensor has `device='cuda:0'`, this means it's stored on the 0th GPU available (GPUs are 0 indexed, if two GPUs were available, they'd be `'cuda:0'` and `'cuda:1'` respectively, up to `'cuda:n'`)"
      ],
      "metadata": {
        "id": "4P2KFVAEgmlg"
      }
    },
    {
      "cell_type": "markdown",
      "source": [
        "### 4. Moving tensors back to the CPU\n",
        "What if we wanted to move the tensor back to CPU?\n",
        "\n",
        "For example, you'll want to do this if you want to interact with your tensors with NumPy (NumPy does not leverage the GPU).\n",
        "\n",
        "Let's try using the `torch.Tensor.numpy()` method on our `tensor_on_gpu`"
      ],
      "metadata": {
        "id": "hnFaACz6ybYY"
      }
    },
    {
      "cell_type": "code",
      "source": [
        "# If tensor is on GPU, can't transform it to NumPy (this will error)\n",
        "tensor_on_gpu.numpy()"
      ],
      "metadata": {
        "id": "XJ3LW-hEymzD",
        "colab": {
          "base_uri": "https://localhost:8080/",
          "height": 200
        },
        "outputId": "aae81757-c679-47e7-e20b-014b6fd354e0"
      },
      "execution_count": null,
      "outputs": [
        {
          "output_type": "error",
          "ename": "TypeError",
          "evalue": "ignored",
          "traceback": [
            "\u001b[0;31m---------------------------------------------------------------------------\u001b[0m",
            "\u001b[0;31mTypeError\u001b[0m                                 Traceback (most recent call last)",
            "\u001b[0;32m<ipython-input-7-53175578f49e>\u001b[0m in \u001b[0;36m<cell line: 2>\u001b[0;34m()\u001b[0m\n\u001b[1;32m      1\u001b[0m \u001b[0;31m# If tensor is on GPU, can't transform it to NumPy (this will error)\u001b[0m\u001b[0;34m\u001b[0m\u001b[0;34m\u001b[0m\u001b[0m\n\u001b[0;32m----> 2\u001b[0;31m \u001b[0mtensor_on_gpu\u001b[0m\u001b[0;34m.\u001b[0m\u001b[0mnumpy\u001b[0m\u001b[0;34m(\u001b[0m\u001b[0;34m)\u001b[0m\u001b[0;34m\u001b[0m\u001b[0;34m\u001b[0m\u001b[0m\n\u001b[0m",
            "\u001b[0;31mTypeError\u001b[0m: can't convert cuda:0 device type tensor to numpy. Use Tensor.cpu() to copy the tensor to host memory first."
          ]
        }
      ]
    },
    {
      "cell_type": "markdown",
      "source": [
        "Instead, to get a tensor back to CPU and usable with NumPy we can use `Tensor.cpu`().\n",
        "\n",
        "This copies the tensor to CPU memory so it's usable with CPUs."
      ],
      "metadata": {
        "id": "uyJiCI6_hn5k"
      }
    },
    {
      "cell_type": "code",
      "source": [
        "# Instead, copy the tensor back to cpu\n",
        "tensor_back_on_cpu = tensor_on_gpu.cpu().numpy()\n",
        "tensor_back_on_cpu"
      ],
      "metadata": {
        "colab": {
          "base_uri": "https://localhost:8080/"
        },
        "id": "evHARFrVhhi3",
        "outputId": "363e6d0a-9eaa-4307-b93d-fce76183fa2d"
      },
      "execution_count": null,
      "outputs": [
        {
          "output_type": "execute_result",
          "data": {
            "text/plain": [
              "array([1, 2, 3])"
            ]
          },
          "metadata": {},
          "execution_count": 8
        }
      ]
    },
    {
      "cell_type": "markdown",
      "source": [
        "The above returns a copy of the GPU tensor in CPU memory so the original tensor is still on GPU"
      ],
      "metadata": {
        "id": "WCprwI7uiJ0Z"
      }
    },
    {
      "cell_type": "code",
      "source": [
        "tensor_on_gpu"
      ],
      "metadata": {
        "colab": {
          "base_uri": "https://localhost:8080/"
        },
        "id": "22OoDek4h_Im",
        "outputId": "575b310c-847b-4e70-a0cc-0bebab628682"
      },
      "execution_count": null,
      "outputs": [
        {
          "output_type": "execute_result",
          "data": {
            "text/plain": [
              "tensor([1, 2, 3], device='cuda:0')"
            ]
          },
          "metadata": {},
          "execution_count": 9
        }
      ]
    },
    {
      "cell_type": "code",
      "source": [],
      "metadata": {
        "id": "Tw5CJ0oUiPJM"
      },
      "execution_count": null,
      "outputs": []
    }
  ]
}