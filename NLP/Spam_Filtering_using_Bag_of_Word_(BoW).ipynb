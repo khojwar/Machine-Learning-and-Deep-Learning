{
  "nbformat": 4,
  "nbformat_minor": 0,
  "metadata": {
    "colab": {
      "provenance": [],
      "authorship_tag": "ABX9TyNhf42IH7+Zq+PLWGHEQ5qH",
      "include_colab_link": true
    },
    "kernelspec": {
      "name": "python3",
      "display_name": "Python 3"
    },
    "language_info": {
      "name": "python"
    }
  },
  "cells": [
    {
      "cell_type": "markdown",
      "metadata": {
        "id": "view-in-github",
        "colab_type": "text"
      },
      "source": [
        "<a href=\"https://colab.research.google.com/github/khojwar/Machine-Learning-and-Deep-Learning/blob/main/NLP/Spam_Filtering_using_Bag_of_Word_(BoW).ipynb\" target=\"_parent\"><img src=\"https://colab.research.google.com/assets/colab-badge.svg\" alt=\"Open In Colab\"/></a>"
      ]
    },
    {
      "cell_type": "markdown",
      "source": [
        "Dataset source: https://www.kaggle.com/datasets/uciml/sms-spam-collection-dataset"
      ],
      "metadata": {
        "id": "ZlMU3YQZFgru"
      }
    },
    {
      "cell_type": "code",
      "execution_count": 3,
      "metadata": {
        "id": "13Jf0UI5E5H2"
      },
      "outputs": [],
      "source": [
        "import pandas as pd\n",
        "import matplotlib.pyplot as plt\n",
        "import numpy as np\n",
        "import string"
      ]
    },
    {
      "cell_type": "markdown",
      "source": [
        "### Read Data"
      ],
      "metadata": {
        "id": "hZ-EF7qKGUV1"
      }
    },
    {
      "cell_type": "markdown",
      "source": [
        "`string.punctuation` is a string containing all ASCII punctuation characters, such as !\"#$%&'()*+,-./:;<=>?@[\\]^_{|}~`\n",
        "\n",
        "`str.maketrans('', '', string.punctuation)` creates a translation table that maps each character in `string.punctuation` to `None`. This effectively removes all punctuation characters from the string."
      ],
      "metadata": {
        "id": "sWx01KjIN49C"
      }
    },
    {
      "cell_type": "code",
      "source": [
        "# read dataset\n",
        "spam_df = pd.read_csv('/content/spam.csv', encoding=\"ISO-8859-1\")\n",
        "\n",
        "# subset and rename columns\n",
        "spam_df = spam_df[[\"v1\", \"v2\"]]\n",
        "spam_df.rename(columns={'v1':\"spam\", 'v2':\"text\"}, inplace=True)\n",
        "\n",
        "#convert spam column to binary\n",
        "spam_df[\"spam\"] = spam_df[\"spam\"].apply(lambda s: True if s == 'spam' else False)   # OR  spam_df.spam.apply(lambda s: True if s == 'spam' else False)\n",
        "\n",
        "#lowercase everything and remove punctuation\n",
        "spam_df[\"text\"] = spam_df[\"text\"].apply(lambda  t: t.lower().translate(str.maketrans(\"\",\"\", string.punctuation)))\n",
        "\n",
        "# shuffle\n",
        "spam_df = spam_df.sample(frac=1)"
      ],
      "metadata": {
        "id": "S3FAH47vGRWE"
      },
      "execution_count": 4,
      "outputs": []
    },
    {
      "cell_type": "code",
      "source": [
        "spam_df"
      ],
      "metadata": {
        "colab": {
          "base_uri": "https://localhost:8080/",
          "height": 424
        },
        "id": "6ipl1C_pLWIc",
        "outputId": "d7b21362-13fd-4775-cbbe-5ed80af20fe3"
      },
      "execution_count": 5,
      "outputs": [
        {
          "output_type": "execute_result",
          "data": {
            "text/plain": [
              "       spam                                               text\n",
              "4333  False  boo what time u get out u were supposed to tak...\n",
              "4506  False  he neva grumble but i sad lor hee buy tmr lor ...\n",
              "1902  False              my sister got placed in birla soft da\n",
              "2442  False                       i donno if they are scorable\n",
              "4061  False  hi dear we saw dear we both are happy where yo...\n",
              "...     ...                                                ...\n",
              "4200  False  wylie update my weed dealer carlos went to fre...\n",
              "772   False  idc get over here you are not weaseling your w...\n",
              "5400  False  hard but true how much you show amp  express y...\n",
              "170   False   sir i need axis bank account no and bank address\n",
              "2715  False  cool i am  ltgt  inches long hope you like the...\n",
              "\n",
              "[5572 rows x 2 columns]"
            ],
            "text/html": [
              "\n",
              "\n",
              "  <div id=\"df-e6d16b91-669b-4f41-a590-7851a4644f93\">\n",
              "    <div class=\"colab-df-container\">\n",
              "      <div>\n",
              "<style scoped>\n",
              "    .dataframe tbody tr th:only-of-type {\n",
              "        vertical-align: middle;\n",
              "    }\n",
              "\n",
              "    .dataframe tbody tr th {\n",
              "        vertical-align: top;\n",
              "    }\n",
              "\n",
              "    .dataframe thead th {\n",
              "        text-align: right;\n",
              "    }\n",
              "</style>\n",
              "<table border=\"1\" class=\"dataframe\">\n",
              "  <thead>\n",
              "    <tr style=\"text-align: right;\">\n",
              "      <th></th>\n",
              "      <th>spam</th>\n",
              "      <th>text</th>\n",
              "    </tr>\n",
              "  </thead>\n",
              "  <tbody>\n",
              "    <tr>\n",
              "      <th>4333</th>\n",
              "      <td>False</td>\n",
              "      <td>boo what time u get out u were supposed to tak...</td>\n",
              "    </tr>\n",
              "    <tr>\n",
              "      <th>4506</th>\n",
              "      <td>False</td>\n",
              "      <td>he neva grumble but i sad lor hee buy tmr lor ...</td>\n",
              "    </tr>\n",
              "    <tr>\n",
              "      <th>1902</th>\n",
              "      <td>False</td>\n",
              "      <td>my sister got placed in birla soft da</td>\n",
              "    </tr>\n",
              "    <tr>\n",
              "      <th>2442</th>\n",
              "      <td>False</td>\n",
              "      <td>i donno if they are scorable</td>\n",
              "    </tr>\n",
              "    <tr>\n",
              "      <th>4061</th>\n",
              "      <td>False</td>\n",
              "      <td>hi dear we saw dear we both are happy where yo...</td>\n",
              "    </tr>\n",
              "    <tr>\n",
              "      <th>...</th>\n",
              "      <td>...</td>\n",
              "      <td>...</td>\n",
              "    </tr>\n",
              "    <tr>\n",
              "      <th>4200</th>\n",
              "      <td>False</td>\n",
              "      <td>wylie update my weed dealer carlos went to fre...</td>\n",
              "    </tr>\n",
              "    <tr>\n",
              "      <th>772</th>\n",
              "      <td>False</td>\n",
              "      <td>idc get over here you are not weaseling your w...</td>\n",
              "    </tr>\n",
              "    <tr>\n",
              "      <th>5400</th>\n",
              "      <td>False</td>\n",
              "      <td>hard but true how much you show amp  express y...</td>\n",
              "    </tr>\n",
              "    <tr>\n",
              "      <th>170</th>\n",
              "      <td>False</td>\n",
              "      <td>sir i need axis bank account no and bank address</td>\n",
              "    </tr>\n",
              "    <tr>\n",
              "      <th>2715</th>\n",
              "      <td>False</td>\n",
              "      <td>cool i am  ltgt  inches long hope you like the...</td>\n",
              "    </tr>\n",
              "  </tbody>\n",
              "</table>\n",
              "<p>5572 rows × 2 columns</p>\n",
              "</div>\n",
              "      <button class=\"colab-df-convert\" onclick=\"convertToInteractive('df-e6d16b91-669b-4f41-a590-7851a4644f93')\"\n",
              "              title=\"Convert this dataframe to an interactive table.\"\n",
              "              style=\"display:none;\">\n",
              "\n",
              "  <svg xmlns=\"http://www.w3.org/2000/svg\" height=\"24px\"viewBox=\"0 0 24 24\"\n",
              "       width=\"24px\">\n",
              "    <path d=\"M0 0h24v24H0V0z\" fill=\"none\"/>\n",
              "    <path d=\"M18.56 5.44l.94 2.06.94-2.06 2.06-.94-2.06-.94-.94-2.06-.94 2.06-2.06.94zm-11 1L8.5 8.5l.94-2.06 2.06-.94-2.06-.94L8.5 2.5l-.94 2.06-2.06.94zm10 10l.94 2.06.94-2.06 2.06-.94-2.06-.94-.94-2.06-.94 2.06-2.06.94z\"/><path d=\"M17.41 7.96l-1.37-1.37c-.4-.4-.92-.59-1.43-.59-.52 0-1.04.2-1.43.59L10.3 9.45l-7.72 7.72c-.78.78-.78 2.05 0 2.83L4 21.41c.39.39.9.59 1.41.59.51 0 1.02-.2 1.41-.59l7.78-7.78 2.81-2.81c.8-.78.8-2.07 0-2.86zM5.41 20L4 18.59l7.72-7.72 1.47 1.35L5.41 20z\"/>\n",
              "  </svg>\n",
              "      </button>\n",
              "\n",
              "\n",
              "\n",
              "    <div id=\"df-0e965941-8bbd-49c7-bc14-7b51a7354aa0\">\n",
              "      <button class=\"colab-df-quickchart\" onclick=\"quickchart('df-0e965941-8bbd-49c7-bc14-7b51a7354aa0')\"\n",
              "              title=\"Suggest charts.\"\n",
              "              style=\"display:none;\">\n",
              "\n",
              "<svg xmlns=\"http://www.w3.org/2000/svg\" height=\"24px\"viewBox=\"0 0 24 24\"\n",
              "     width=\"24px\">\n",
              "    <g>\n",
              "        <path d=\"M19 3H5c-1.1 0-2 .9-2 2v14c0 1.1.9 2 2 2h14c1.1 0 2-.9 2-2V5c0-1.1-.9-2-2-2zM9 17H7v-7h2v7zm4 0h-2V7h2v10zm4 0h-2v-4h2v4z\"/>\n",
              "    </g>\n",
              "</svg>\n",
              "      </button>\n",
              "    </div>\n",
              "\n",
              "<style>\n",
              "  .colab-df-quickchart {\n",
              "    background-color: #E8F0FE;\n",
              "    border: none;\n",
              "    border-radius: 50%;\n",
              "    cursor: pointer;\n",
              "    display: none;\n",
              "    fill: #1967D2;\n",
              "    height: 32px;\n",
              "    padding: 0 0 0 0;\n",
              "    width: 32px;\n",
              "  }\n",
              "\n",
              "  .colab-df-quickchart:hover {\n",
              "    background-color: #E2EBFA;\n",
              "    box-shadow: 0px 1px 2px rgba(60, 64, 67, 0.3), 0px 1px 3px 1px rgba(60, 64, 67, 0.15);\n",
              "    fill: #174EA6;\n",
              "  }\n",
              "\n",
              "  [theme=dark] .colab-df-quickchart {\n",
              "    background-color: #3B4455;\n",
              "    fill: #D2E3FC;\n",
              "  }\n",
              "\n",
              "  [theme=dark] .colab-df-quickchart:hover {\n",
              "    background-color: #434B5C;\n",
              "    box-shadow: 0px 1px 3px 1px rgba(0, 0, 0, 0.15);\n",
              "    filter: drop-shadow(0px 1px 2px rgba(0, 0, 0, 0.3));\n",
              "    fill: #FFFFFF;\n",
              "  }\n",
              "</style>\n",
              "\n",
              "    <script>\n",
              "      async function quickchart(key) {\n",
              "        const containerElement = document.querySelector('#' + key);\n",
              "        const charts = await google.colab.kernel.invokeFunction(\n",
              "            'suggestCharts', [key], {});\n",
              "      }\n",
              "    </script>\n",
              "\n",
              "      <script>\n",
              "\n",
              "function displayQuickchartButton(domScope) {\n",
              "  let quickchartButtonEl =\n",
              "    domScope.querySelector('#df-0e965941-8bbd-49c7-bc14-7b51a7354aa0 button.colab-df-quickchart');\n",
              "  quickchartButtonEl.style.display =\n",
              "    google.colab.kernel.accessAllowed ? 'block' : 'none';\n",
              "}\n",
              "\n",
              "        displayQuickchartButton(document);\n",
              "      </script>\n",
              "      <style>\n",
              "    .colab-df-container {\n",
              "      display:flex;\n",
              "      flex-wrap:wrap;\n",
              "      gap: 12px;\n",
              "    }\n",
              "\n",
              "    .colab-df-convert {\n",
              "      background-color: #E8F0FE;\n",
              "      border: none;\n",
              "      border-radius: 50%;\n",
              "      cursor: pointer;\n",
              "      display: none;\n",
              "      fill: #1967D2;\n",
              "      height: 32px;\n",
              "      padding: 0 0 0 0;\n",
              "      width: 32px;\n",
              "    }\n",
              "\n",
              "    .colab-df-convert:hover {\n",
              "      background-color: #E2EBFA;\n",
              "      box-shadow: 0px 1px 2px rgba(60, 64, 67, 0.3), 0px 1px 3px 1px rgba(60, 64, 67, 0.15);\n",
              "      fill: #174EA6;\n",
              "    }\n",
              "\n",
              "    [theme=dark] .colab-df-convert {\n",
              "      background-color: #3B4455;\n",
              "      fill: #D2E3FC;\n",
              "    }\n",
              "\n",
              "    [theme=dark] .colab-df-convert:hover {\n",
              "      background-color: #434B5C;\n",
              "      box-shadow: 0px 1px 3px 1px rgba(0, 0, 0, 0.15);\n",
              "      filter: drop-shadow(0px 1px 2px rgba(0, 0, 0, 0.3));\n",
              "      fill: #FFFFFF;\n",
              "    }\n",
              "  </style>\n",
              "\n",
              "      <script>\n",
              "        const buttonEl =\n",
              "          document.querySelector('#df-e6d16b91-669b-4f41-a590-7851a4644f93 button.colab-df-convert');\n",
              "        buttonEl.style.display =\n",
              "          google.colab.kernel.accessAllowed ? 'block' : 'none';\n",
              "\n",
              "        async function convertToInteractive(key) {\n",
              "          const element = document.querySelector('#df-e6d16b91-669b-4f41-a590-7851a4644f93');\n",
              "          const dataTable =\n",
              "            await google.colab.kernel.invokeFunction('convertToInteractive',\n",
              "                                                     [key], {});\n",
              "          if (!dataTable) return;\n",
              "\n",
              "          const docLinkHtml = 'Like what you see? Visit the ' +\n",
              "            '<a target=\"_blank\" href=https://colab.research.google.com/notebooks/data_table.ipynb>data table notebook</a>'\n",
              "            + ' to learn more about interactive tables.';\n",
              "          element.innerHTML = '';\n",
              "          dataTable['output_type'] = 'display_data';\n",
              "          await google.colab.output.renderOutput(dataTable, element);\n",
              "          const docLink = document.createElement('div');\n",
              "          docLink.innerHTML = docLinkHtml;\n",
              "          element.appendChild(docLink);\n",
              "        }\n",
              "      </script>\n",
              "    </div>\n",
              "  </div>\n"
            ]
          },
          "metadata": {},
          "execution_count": 5
        }
      ]
    },
    {
      "cell_type": "markdown",
      "source": [
        "`.iloc` *selects rows and columns from a DataFrame* or Series based on their integer position (index)\n",
        "> `.iloc`: Integer-based indexing.\n",
        "\n",
        "*   eg. `df.iloc[0, 1]`  *(Select the first row and the second column)*\n",
        "*   eg. `df.iloc[0:2, 1:3] ` *(Select a range of rows and columns)*\n",
        "\n",
        "> `.loc`: Label-based indexing. eg. `df.loc[0, 'B']`"
      ],
      "metadata": {
        "id": "b4mHNFvfTBME"
      }
    },
    {
      "cell_type": "code",
      "source": [
        "# select 5 rows from text column where spam column should be spam == True\n",
        "for t in spam_df[spam_df[\"spam\"] == True].iloc[:5].text:\n",
        "    print(t)\n",
        "    print(\"------------\")"
      ],
      "metadata": {
        "colab": {
          "base_uri": "https://localhost:8080/"
        },
        "id": "2NpimFQQH7ao",
        "outputId": "20e1f881-1301-4ca4-867f-69a12a4e69d9"
      },
      "execution_count": 6,
      "outputs": [
        {
          "output_type": "stream",
          "name": "stdout",
          "text": [
            "what do u want for xmas how about 100 free text messages  a new video phone with half price line rental call free now on 0800 0721072 to find out more\n",
            "------------\n",
            "rct thnq adrian for u text rgds vatian\n",
            "------------\n",
            "important information 4 orange user 0789xxxxxxx today is your lucky day2find out why log onto httpwwwurawinnercom theres a fantastic surprise awaiting you\n",
            "------------\n",
            "4mths half price orange line rental  latest camera phones 4 free had your phone 11mths  call mobilesdirect free on 08000938767 to update now or2stoptxt\n",
            "------------\n",
            "bored housewives chat n date now 08717507711 btnational rate 10pmin only from landlines\n",
            "------------\n"
          ]
        }
      ]
    },
    {
      "cell_type": "code",
      "source": [
        "# select 5 rows from text column where spam column should be spam == False\n",
        "for t in spam_df[spam_df[\"spam\"] == False].iloc[:5].text:\n",
        "    print(t)\n",
        "    print(\"------------\")"
      ],
      "metadata": {
        "colab": {
          "base_uri": "https://localhost:8080/"
        },
        "id": "sFAJHkGHK3TJ",
        "outputId": "935d6e31-96fa-4276-8472-19ba2cc3a255"
      },
      "execution_count": 7,
      "outputs": [
        {
          "output_type": "stream",
          "name": "stdout",
          "text": [
            "boo what time u get out u were supposed to take me shopping today \n",
            "------------\n",
            "he neva grumble but i sad lor hee buy tmr lor aft lunch but we still meetin 4 lunch tmr a not neva hear fr them lei ìï got a lot of work ar\n",
            "------------\n",
            "my sister got placed in birla soft da\n",
            "------------\n",
            "i donno if they are scorable\n",
            "------------\n",
            "hi dear we saw dear we both are happy where you my battery is low\n",
            "------------\n"
          ]
        }
      ]
    },
    {
      "cell_type": "markdown",
      "source": [
        "### Split the dataset into train and test set"
      ],
      "metadata": {
        "id": "2WWYO139ohNl"
      }
    },
    {
      "cell_type": "code",
      "source": [
        "# get the training set\n",
        "train_spam_df = spam_df.iloc[:int(len(spam_df)*0.7)]\n",
        "\n",
        "# get the testing set\n",
        "test_spam_df = spam_df.iloc[int(len(spam_df)*0.7):]"
      ],
      "metadata": {
        "id": "lXZj1bRMY7CE"
      },
      "execution_count": 8,
      "outputs": []
    },
    {
      "cell_type": "code",
      "source": [
        "FRAC_SPAM_TEXTS = spam_df[\"spam\"].mean()\n",
        "print(FRAC_SPAM_TEXTS)"
      ],
      "metadata": {
        "colab": {
          "base_uri": "https://localhost:8080/"
        },
        "id": "nSjD0GxInLUH",
        "outputId": "872ba083-8cf5-405d-aed4-5b2ffe1ba7ed"
      },
      "execution_count": 9,
      "outputs": [
        {
          "output_type": "stream",
          "name": "stdout",
          "text": [
            "0.13406317300789664\n"
          ]
        }
      ]
    },
    {
      "cell_type": "markdown",
      "source": [
        "### Create Spam Bag of Words and Non-Spam Bag of Words\n",
        "\n",
        "the purpose of creating \"Spam Bag of Words\" and \"Non-Spam Bag of Words\" is to *convert text messages into numerical features* that machine learning algorithms can understand."
      ],
      "metadata": {
        "id": "KOyIAieIoxMV"
      }
    },
    {
      "cell_type": "code",
      "source": [
        "#get all words from spam and non-spam datasets\n",
        "train_spam_words = ' '.join(train_spam_df[train_spam_df['spam'] == True].text).split(' ')\n",
        "train_non_spam_words = ' '.join(train_spam_df[train_spam_df['spam'] == False].text).split(' ')\n",
        "\n",
        "# Find the common words between spam and non-spam datasets\n",
        "common_words = set(train_spam_words).intersection(set(train_non_spam_words))"
      ],
      "metadata": {
        "id": "I7bP5ZrcoKJz"
      },
      "execution_count": 10,
      "outputs": []
    },
    {
      "cell_type": "markdown",
      "source": [
        "calculating the relative frequency of each word in the \"common_words\" set within the spam messages to ***create a Bag of Words (BoW) representation*** with normalized term frequencies for text classification or analysis.\n",
        "\n",
        "TF-IDF (Term Frequency-Inverse Document Frequency), which take into account the ***importance of words within the entire corpus*** and are often more effective for text classification tasks."
      ],
      "metadata": {
        "id": "VGUMeOwov1bl"
      }
    },
    {
      "cell_type": "code",
      "source": [
        "train_spam_bow = dict()\n",
        "\n",
        "for w in common_words:\n",
        "    train_spam_bow[w] = train_spam_words.count(w) / len(train_spam_words)   # Calculate the relative frequency of the word in spam messages by counting the occurrences of the word and dividing by the total number of words in spam messages"
      ],
      "metadata": {
        "id": "t9XnIYw-xS7N"
      },
      "execution_count": 11,
      "outputs": []
    },
    {
      "cell_type": "code",
      "source": [
        "train_non_spam_bow = dict()\n",
        "\n",
        "for w in common_words:\n",
        "    train_non_spam_bow[w] = train_non_spam_words.count(w) / len(train_non_spam_words)"
      ],
      "metadata": {
        "id": "P_YJTXXmuJcG"
      },
      "execution_count": 12,
      "outputs": []
    },
    {
      "cell_type": "markdown",
      "source": [
        "### Predict on Test Set\n",
        "\n",
        "# $ P(\\text{SPAM} | \\text{\"urgent please call this number\"}) $\n",
        "# $\\propto P(\\text{\"urgent please call this number\"} | \\text{SPAM}) \\times P(\\text{SPAM}) $\n",
        "# $= P(\\text{\"urgent\"} | \\text{SPAM}) \\times P(\\text{\"please\"} | \\text{SPAM}) \\times \\dots \\times P(\\text{SPAM})$"
      ],
      "metadata": {
        "id": "Z8HgcXMH03Kd"
      }
    },
    {
      "cell_type": "markdown",
      "source": [
        "### Due to numerical issues, equivalently  compute:\n",
        "\n",
        "# $log(P(\\text{\"urgent\"} | \\text{SPAM}) \\times P(\\text{\"please\"} | \\text{SPAM}) \\times \\dots \\times P(\\text{SPAM}))$\n",
        "# $ = log(P(\\text{\"urgent\"} | \\text{SPAM})) + log(P(\\text{\"please\"} | \\text{SPAM})) + \\dots + log(P(\\text{SPAM}))$"
      ],
      "metadata": {
        "id": "0slFC8OK6LqV"
      }
    },
    {
      "cell_type": "markdown",
      "source": [
        "`predict_text` function ***calculates and predicts whether a given text is spam or non-spam*** based on the probabilities of words appearing in spam and non-spam Bag of Words (BoW) representations"
      ],
      "metadata": {
        "id": "MUuzGjL8-ghX"
      }
    },
    {
      "cell_type": "code",
      "source": [
        "def predict_text(t, verbose=False):\n",
        "    #if some word doesnt appear in either spam or non-spam BOW, disregard it\n",
        "    valid_words = [w for w in t if w in train_spam_bow]\n",
        "\n",
        "    #get the probabilities of each valid word showing up in spam and non-spam BOW\n",
        "    spam_probs = [train_spam_bow[w] for w in valid_words]\n",
        "    non_spam_probs = [train_non_spam_bow[w] for w in valid_words]\n",
        "\n",
        "    #print probs if requested\n",
        "    if verbose:\n",
        "        data_df = pd.DataFrame()\n",
        "        data_df[\"word\"] = valid_words\n",
        "        data_df[\"spam_probs\"] = spam_probs\n",
        "        data_df[\"non_spam_probs\"] = non_spam_probs\n",
        "        data_df[\"ratio\"] = [s/n if n>0 else np.inf for s, n in zip(spam_probs, non_spam_probs)]\n",
        "        print(data_df)\n",
        "\n",
        "    #calculate spam score as sum of logs for all probabilities\n",
        "    spam_score = sum([np.log(p) for p in spam_probs]) + np.log(FRAC_SPAM_TEXTS)\n",
        "\n",
        "    #calculate non-spam score as sum of logs for all probabilities\n",
        "    non_spam_score = sum([np.log(p) for p in non_spam_probs]) + np.log(1 - FRAC_SPAM_TEXTS)\n",
        "\n",
        "    #if verbose, report the two scores\n",
        "    if verbose:\n",
        "        print(\"Spam score: \", spam_score)\n",
        "        print(\"Non_spam_score: \", non_spam_score)\n",
        "\n",
        "    #if spam score is higher, mark this as spam\n",
        "    return (spam_score >= non_spam_score)\n",
        "\n"
      ],
      "metadata": {
        "id": "6Ll8WtEx6JW7"
      },
      "execution_count": 16,
      "outputs": []
    },
    {
      "cell_type": "code",
      "source": [
        "predict_text('urgent call this number'.split(), verbose=True)"
      ],
      "metadata": {
        "id": "f4yUwVMkzmY-",
        "colab": {
          "base_uri": "https://localhost:8080/"
        },
        "outputId": "2277128c-a572-46db-aa1a-da4b66209ffa"
      },
      "execution_count": 17,
      "outputs": [
        {
          "output_type": "stream",
          "name": "stdout",
          "text": [
            "     word  spam_probs  non_spam_probs      ratio\n",
            "0  urgent    0.003961        0.000041  95.696007\n",
            "1    call    0.019886        0.003436   5.787879\n",
            "2    this    0.004991        0.003394   1.470451\n",
            "3  number    0.001901        0.000931   2.041515\n",
            "Spam score:  -23.02356605704421\n",
            "Non_spam_score:  -28.57426883634924\n"
          ]
        },
        {
          "output_type": "execute_result",
          "data": {
            "text/plain": [
              "True"
            ]
          },
          "metadata": {},
          "execution_count": 17
        }
      ]
    },
    {
      "cell_type": "code",
      "source": [
        "predict_text('hey do you want to go a movie tonight'.split(), verbose=True)"
      ],
      "metadata": {
        "id": "KNQbxrUZAeK5",
        "colab": {
          "base_uri": "https://localhost:8080/"
        },
        "outputId": "e2aed92c-80ec-42f5-8667-669ea2027f1b"
      },
      "execution_count": 18,
      "outputs": [
        {
          "output_type": "stream",
          "name": "stdout",
          "text": [
            "      word  spam_probs  non_spam_probs     ratio\n",
            "0      hey    0.000317        0.001470  0.215653\n",
            "1       do    0.001347        0.004967  0.271139\n",
            "2      you    0.016321        0.025272  0.645811\n",
            "3     want    0.001505        0.002256  0.667238\n",
            "4       to    0.036524        0.022271  1.639995\n",
            "5       go    0.001743        0.003374  0.516641\n",
            "6        a    0.021154        0.016103  1.313668\n",
            "7    movie    0.000158        0.000207  0.765568\n",
            "8  tonight    0.000079        0.000973  0.081443\n",
            "Spam score:  -59.00155438061725\n",
            "Non_spam_score:  -50.78711215789316\n"
          ]
        },
        {
          "output_type": "execute_result",
          "data": {
            "text/plain": [
              "False"
            ]
          },
          "metadata": {},
          "execution_count": 18
        }
      ]
    },
    {
      "cell_type": "code",
      "source": [
        "predict_text('offer for unlimited money call now'.split(), verbose=True)"
      ],
      "metadata": {
        "colab": {
          "base_uri": "https://localhost:8080/"
        },
        "id": "rtSmag0M9cX3",
        "outputId": "2cf1491e-6391-4a40-c1dc-69aeb744fec1"
      },
      "execution_count": 19,
      "outputs": [
        {
          "output_type": "stream",
          "name": "stdout",
          "text": [
            "        word  spam_probs  non_spam_probs      ratio\n",
            "0      offer    0.001347        0.000062  21.691095\n",
            "1        for    0.011171        0.006954   1.606326\n",
            "2  unlimited    0.000634        0.000083   7.655681\n",
            "3      money    0.000238        0.000704   0.337751\n",
            "4       call    0.019886        0.003436   5.787879\n",
            "5        now    0.010458        0.004264   2.452791\n",
            "Spam score:  -37.30034183613151\n",
            "Non_spam_score:  -42.588685132213584\n"
          ]
        },
        {
          "output_type": "execute_result",
          "data": {
            "text/plain": [
              "True"
            ]
          },
          "metadata": {},
          "execution_count": 19
        }
      ]
    },
    {
      "cell_type": "code",
      "source": [
        "predict_text('are you at class yet'.split(), verbose=True)"
      ],
      "metadata": {
        "colab": {
          "base_uri": "https://localhost:8080/"
        },
        "id": "66uaEA_U9pI-",
        "outputId": "85bfe7c8-0cbf-4f21-beef-16dbe9e98a38"
      },
      "execution_count": 20,
      "outputs": [
        {
          "output_type": "stream",
          "name": "stdout",
          "text": [
            "  word  spam_probs  non_spam_probs     ratio\n",
            "0  are    0.004833        0.005423  0.891215\n",
            "1  you    0.016321        0.025272  0.645811\n",
            "2   at    0.001505        0.005381  0.279727\n",
            "3  yet    0.000158        0.000745  0.212658\n",
            "Spam score:  -26.70589436565434\n",
            "Non_spam_score:  -21.465962175516808\n"
          ]
        },
        {
          "output_type": "execute_result",
          "data": {
            "text/plain": [
              "False"
            ]
          },
          "metadata": {},
          "execution_count": 20
        }
      ]
    },
    {
      "cell_type": "code",
      "source": [
        "predictions = test_spam_df[\"text\"].apply(lambda t: predict_text(t.split()))"
      ],
      "metadata": {
        "id": "R67W3Ff29sJ4"
      },
      "execution_count": 22,
      "outputs": []
    },
    {
      "cell_type": "markdown",
      "source": [
        "Below code calculates the False Positive Rate (FPR) of a binary classification model's predictions. The FPR *measures the proportion of actual negative (non-spam) instances that are incorrectly classified as positive (spam) by the model. *"
      ],
      "metadata": {
        "id": "dYuW8M4LC-Hq"
      }
    },
    {
      "cell_type": "code",
      "source": [
        "frac_spam_messages_correctly_detected = np.sum((predictions == True) & (test_spam_df.spam == True)) / np.sum(test_spam_df.spam == True)\n",
        "print(f\"Fraction Spam Correctly Detected : {frac_spam_messages_correctly_detected}\")"
      ],
      "metadata": {
        "colab": {
          "base_uri": "https://localhost:8080/"
        },
        "id": "BUKNW1h9-xJW",
        "outputId": "ebda9230-6478-47fd-a348-710842a3f8b3"
      },
      "execution_count": 27,
      "outputs": [
        {
          "output_type": "stream",
          "name": "stdout",
          "text": [
            "Fraction Spam Correctly Detected : 0.918918918918919\n"
          ]
        }
      ]
    },
    {
      "cell_type": "markdown",
      "source": [
        "Below code calculates the False Positive Rate (FPR) of a binary classification model's predictions correctly. The FPR *measures the proportion of actual negative (non-spam) instances that are incorrectly classified as positive (spam) by the model.*\n",
        "\n",
        "* `(predictions == True) & (test_spam_df.spam == False)` creates a Boolean mask that *checks the predictions are True (predicted as spam) and the actual labels in the test_spam_df DataFrame are False (indicating non-spam)*.\n",
        "\n",
        "* `np.sum((predictions == True) & (test_spam_df.spam == False))` *calculates the sum of True values in the Boolean mask* created in the previous step. In other words, it counts the number of valid messages that were predicted as spam.\n",
        "\n",
        "* `np.sum(test_spam_df.spam == False)` calculates the total number of valid (non-spam) messages in the test_spam_df DataFrame."
      ],
      "metadata": {
        "id": "kZINY-iuAt4q"
      }
    },
    {
      "cell_type": "code",
      "source": [
        "frac_valid_sent_to_spam = np.sum((predictions == True) & (test_spam_df.spam == False)) / np.sum(test_spam_df.spam == False)\n",
        "print('Fraction Valid Messages Sent to Spam: %s'%frac_valid_sent_to_spam)"
      ],
      "metadata": {
        "colab": {
          "base_uri": "https://localhost:8080/"
        },
        "id": "5KHiN8lW_39w",
        "outputId": "6a277727-77a6-4687-81c3-f30537feb9e2"
      },
      "execution_count": 26,
      "outputs": [
        {
          "output_type": "stream",
          "name": "stdout",
          "text": [
            "Fraction Valid Messages Sent to Spam: 0.01793103448275862\n"
          ]
        }
      ]
    }
  ]
}