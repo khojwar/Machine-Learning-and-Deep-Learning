{
 "cells": [
  {
   "cell_type": "markdown",
   "id": "35e7d0e8",
   "metadata": {},
   "source": [
    "Resource page (all the reading material is there. please scroll and everything): https://deeplizard.com/learn/video/RznKVRTFkBY"
   ]
  },
  {
   "cell_type": "markdown",
   "id": "28fbee86",
   "metadata": {},
   "source": [
    "# Data Preparation and Processing "
   ]
  },
  {
   "cell_type": "code",
   "execution_count": 1,
   "id": "033bcedb",
   "metadata": {},
   "outputs": [],
   "source": [
    "import numpy as np\n",
    "from random import randint\n",
    "from sklearn.utils import shuffle\n",
    "from sklearn.preprocessing import MinMaxScaler"
   ]
  },
  {
   "cell_type": "code",
   "execution_count": 2,
   "id": "1f267449",
   "metadata": {},
   "outputs": [],
   "source": [
    "train_labels = []\n",
    "train_samples = []"
   ]
  },
  {
   "cell_type": "markdown",
   "id": "670850b0",
   "metadata": {},
   "source": [
    "Example data:\n",
    "\n",
    "* An experimental drug was tested on individuals form ages 13 to 100 in a clinical trial.\n",
    "* The trail had 2100 participants. Half were under 65 years old, halp were 65 years or older.\n",
    "* Around 95% of patients 65 or older experienced side effects.\n",
    "* Around 95% of patients under 65 ezperienced no side effects.\n",
    "\n",
    "\n"
   ]
  },
  {
   "cell_type": "markdown",
   "id": "1e6ef700",
   "metadata": {},
   "source": [
    "### 1. Generate some raw data and then transform into numpy array and rescale the data between 0 and 1."
   ]
  },
  {
   "cell_type": "code",
   "execution_count": 3,
   "id": "4cb7fa21",
   "metadata": {},
   "outputs": [],
   "source": [
    "for i in range(50):\n",
    "    # The ~5% of younger individuals who did experience side effects\n",
    "    random_younger = randint(13, 64)\n",
    "    train_samples.append(random_younger)\n",
    "    train_labels.append(1)\n",
    "    \n",
    "    # The ~5% of older individuals who did not experience side effects\n",
    "    random_older = randint(65, 100)\n",
    "    train_samples.append(random_older)\n",
    "    train_labels.append(0)\n",
    "    \n",
    "for i in range(1000):\n",
    "    # The ~95% of younger individuals who did not experience side effects\n",
    "    random_younger = randint(13, 65)\n",
    "    train_samples.append(random_younger)\n",
    "    train_labels.append(0)\n",
    "    \n",
    "    # The ~95% of older individuals who did experience side effect\n",
    "    random_older = randint(65, 100)\n",
    "    train_samples.append(random_older)\n",
    "    train_labels.append(1)\n",
    "    "
   ]
  },
  {
   "cell_type": "markdown",
   "id": "cd912aec",
   "metadata": {},
   "source": [
    "Checking out train_samples(input_features) and train_labels(output_labels)"
   ]
  },
  {
   "cell_type": "code",
   "execution_count": 4,
   "id": "ebea644f",
   "metadata": {},
   "outputs": [],
   "source": [
    "# for i in train_samples:\n",
    "#     print(i)"
   ]
  },
  {
   "cell_type": "code",
   "execution_count": 5,
   "id": "b77d410e",
   "metadata": {},
   "outputs": [],
   "source": [
    "# for i in train_labels:\n",
    "#     print(i)"
   ]
  },
  {
   "cell_type": "code",
   "execution_count": 6,
   "id": "715894b0",
   "metadata": {},
   "outputs": [
    {
     "name": "stdout",
     "output_type": "stream",
     "text": [
      "2100\n",
      "2100\n"
     ]
    }
   ],
   "source": [
    "print(len(train_samples))\n",
    "print(len(train_labels))"
   ]
  },
  {
   "cell_type": "markdown",
   "id": "91faf94e",
   "metadata": {},
   "source": [
    "#### Transforms the \"Train_labels\" list into numpy array "
   ]
  },
  {
   "cell_type": "code",
   "execution_count": 7,
   "id": "b5835024",
   "metadata": {},
   "outputs": [],
   "source": [
    "train_samples = np.array(train_samples)\n",
    "train_labels = np.array(train_labels)\n",
    "\n",
    "train_samples, train_labels = shuffle(train_samples, train_labels)"
   ]
  },
  {
   "cell_type": "code",
   "execution_count": 8,
   "id": "f5a2d55c",
   "metadata": {},
   "outputs": [],
   "source": [
    "scaler = MinMaxScaler(feature_range=(0,1))\n",
    "scaled_train_samples = scaler.fit_transform(train_samples.reshape(-1,1)) # reshape(-1,1) is only for formality because fit_transform doesnot accept 1D data by default."
   ]
  },
  {
   "cell_type": "code",
   "execution_count": 9,
   "id": "b80f6a20",
   "metadata": {},
   "outputs": [],
   "source": [
    "# for i in scaled_train_samples:\n",
    "#     print(i)"
   ]
  },
  {
   "cell_type": "markdown",
   "id": "bfab3485",
   "metadata": {},
   "source": [
    "### 2. Build model"
   ]
  },
  {
   "cell_type": "markdown",
   "id": "5589ba09",
   "metadata": {},
   "source": [
    "#### Simple tf.keras Sequential Model"
   ]
  },
  {
   "cell_type": "code",
   "execution_count": 10,
   "id": "bf7f9d93",
   "metadata": {},
   "outputs": [],
   "source": [
    "import tensorflow as tf\n",
    "from tensorflow import keras\n",
    "from tensorflow.keras.models import Sequential\n",
    "from tensorflow.keras.layers import Activation, Dense\n",
    "from tensorflow.keras.optimizers import Adam\n",
    "from tensorflow.keras.metrics import categorical_crossentropy"
   ]
  },
  {
   "cell_type": "code",
   "execution_count": 11,
   "id": "f157ab47",
   "metadata": {},
   "outputs": [],
   "source": [
    "# This code will give error because I have no GPU\n",
    "\n",
    "# physical_devices = tf.config.experimental.list_physical_devices('GPU')\n",
    "# print(\"Num GPUs Available: \", len(physical_devices))\n",
    "# tf.config.experimental.set_memory_growth(physical_devices[0], True)"
   ]
  },
  {
   "cell_type": "code",
   "execution_count": 12,
   "id": "8bda34a1",
   "metadata": {},
   "outputs": [],
   "source": [
    "# this is the sequential model (actual model)\n",
    "model = Sequential([\n",
    "    Dense(units=16, input_shape=(1,), activation='relu'),\n",
    "    Dense(units=32, activation='relu'),\n",
    "    Dense(units=2, activation='softmax')\n",
    "])"
   ]
  },
  {
   "cell_type": "code",
   "execution_count": 13,
   "id": "d1c97696",
   "metadata": {},
   "outputs": [
    {
     "name": "stdout",
     "output_type": "stream",
     "text": [
      "Model: \"sequential\"\n",
      "_________________________________________________________________\n",
      " Layer (type)                Output Shape              Param #   \n",
      "=================================================================\n",
      " dense (Dense)               (None, 16)                32        \n",
      "                                                                 \n",
      " dense_1 (Dense)             (None, 32)                544       \n",
      "                                                                 \n",
      " dense_2 (Dense)             (None, 2)                 66        \n",
      "                                                                 \n",
      "=================================================================\n",
      "Total params: 642\n",
      "Trainable params: 642\n",
      "Non-trainable params: 0\n",
      "_________________________________________________________________\n"
     ]
    }
   ],
   "source": [
    "model.summary()"
   ]
  },
  {
   "cell_type": "markdown",
   "id": "63023301",
   "metadata": {},
   "source": [
    "### 3. Use the data that we created last time"
   ]
  },
  {
   "cell_type": "code",
   "execution_count": 14,
   "id": "5b81f8d3",
   "metadata": {},
   "outputs": [],
   "source": [
    "# prepare the model for training\n",
    "model.compile(optimizer=Adam(learning_rate=0.0001), loss=\"sparse_categorical_crossentropy\", metrics=['accuracy'])"
   ]
  },
  {
   "cell_type": "code",
   "execution_count": 15,
   "id": "ef1292e1",
   "metadata": {},
   "outputs": [
    {
     "data": {
      "text/plain": [
       "((2100, 1), (2100, 1))"
      ]
     },
     "execution_count": 15,
     "metadata": {},
     "output_type": "execute_result"
    }
   ],
   "source": [
    "train_labels = np.reshape(train_labels, (-1, 1))  # To match the shape between the model's predictions (scaled_train_samples) and the actual labels (train_labels) during the training process. Before passing it to the model.fit() function.\n",
    "\n",
    "train_labels.shape, scaled_train_samples.shape"
   ]
  },
  {
   "cell_type": "code",
   "execution_count": 16,
   "id": "83b1f0f0",
   "metadata": {},
   "outputs": [
    {
     "name": "stdout",
     "output_type": "stream",
     "text": [
      "Epoch 1/30\n",
      "210/210 - 2s - loss: 0.6615 - accuracy: 0.5567 - 2s/epoch - 7ms/step\n",
      "Epoch 2/30\n",
      "210/210 - 0s - loss: 0.6385 - accuracy: 0.6105 - 305ms/epoch - 1ms/step\n",
      "Epoch 3/30\n",
      "210/210 - 0s - loss: 0.6161 - accuracy: 0.6543 - 300ms/epoch - 1ms/step\n",
      "Epoch 4/30\n",
      "210/210 - 1s - loss: 0.5924 - accuracy: 0.6952 - 549ms/epoch - 3ms/step\n",
      "Epoch 5/30\n",
      "210/210 - 1s - loss: 0.5647 - accuracy: 0.7448 - 871ms/epoch - 4ms/step\n",
      "Epoch 6/30\n",
      "210/210 - 1s - loss: 0.5360 - accuracy: 0.7800 - 547ms/epoch - 3ms/step\n",
      "Epoch 7/30\n",
      "210/210 - 1s - loss: 0.5037 - accuracy: 0.8081 - 836ms/epoch - 4ms/step\n",
      "Epoch 8/30\n",
      "210/210 - 1s - loss: 0.4672 - accuracy: 0.8338 - 755ms/epoch - 4ms/step\n",
      "Epoch 9/30\n",
      "210/210 - 1s - loss: 0.4332 - accuracy: 0.8614 - 831ms/epoch - 4ms/step\n",
      "Epoch 10/30\n",
      "210/210 - 1s - loss: 0.4011 - accuracy: 0.8876 - 647ms/epoch - 3ms/step\n",
      "Epoch 11/30\n",
      "210/210 - 1s - loss: 0.3743 - accuracy: 0.8933 - 628ms/epoch - 3ms/step\n",
      "Epoch 12/30\n",
      "210/210 - 0s - loss: 0.3530 - accuracy: 0.9033 - 461ms/epoch - 2ms/step\n",
      "Epoch 13/30\n",
      "210/210 - 0s - loss: 0.3360 - accuracy: 0.9052 - 403ms/epoch - 2ms/step\n",
      "Epoch 14/30\n",
      "210/210 - 0s - loss: 0.3227 - accuracy: 0.9148 - 377ms/epoch - 2ms/step\n",
      "Epoch 15/30\n",
      "210/210 - 0s - loss: 0.3120 - accuracy: 0.9171 - 361ms/epoch - 2ms/step\n",
      "Epoch 16/30\n",
      "210/210 - 0s - loss: 0.3034 - accuracy: 0.9157 - 478ms/epoch - 2ms/step\n",
      "Epoch 17/30\n",
      "210/210 - 1s - loss: 0.2963 - accuracy: 0.9195 - 936ms/epoch - 4ms/step\n",
      "Epoch 18/30\n",
      "210/210 - 1s - loss: 0.2910 - accuracy: 0.9233 - 858ms/epoch - 4ms/step\n",
      "Epoch 19/30\n",
      "210/210 - 1s - loss: 0.2862 - accuracy: 0.9286 - 809ms/epoch - 4ms/step\n",
      "Epoch 20/30\n",
      "210/210 - 1s - loss: 0.2821 - accuracy: 0.9224 - 784ms/epoch - 4ms/step\n",
      "Epoch 21/30\n",
      "210/210 - 1s - loss: 0.2785 - accuracy: 0.9300 - 503ms/epoch - 2ms/step\n",
      "Epoch 22/30\n",
      "210/210 - 0s - loss: 0.2759 - accuracy: 0.9295 - 494ms/epoch - 2ms/step\n",
      "Epoch 23/30\n",
      "210/210 - 0s - loss: 0.2735 - accuracy: 0.9310 - 390ms/epoch - 2ms/step\n",
      "Epoch 24/30\n",
      "210/210 - 0s - loss: 0.2713 - accuracy: 0.9338 - 368ms/epoch - 2ms/step\n",
      "Epoch 25/30\n",
      "210/210 - 0s - loss: 0.2697 - accuracy: 0.9329 - 374ms/epoch - 2ms/step\n",
      "Epoch 26/30\n",
      "210/210 - 1s - loss: 0.2681 - accuracy: 0.9348 - 625ms/epoch - 3ms/step\n",
      "Epoch 27/30\n",
      "210/210 - 1s - loss: 0.2668 - accuracy: 0.9295 - 808ms/epoch - 4ms/step\n",
      "Epoch 28/30\n",
      "210/210 - 0s - loss: 0.2654 - accuracy: 0.9305 - 457ms/epoch - 2ms/step\n",
      "Epoch 29/30\n",
      "210/210 - 0s - loss: 0.2645 - accuracy: 0.9357 - 371ms/epoch - 2ms/step\n",
      "Epoch 30/30\n",
      "210/210 - 0s - loss: 0.2635 - accuracy: 0.9343 - 377ms/epoch - 2ms/step\n"
     ]
    },
    {
     "data": {
      "text/plain": [
       "<keras.callbacks.History at 0x25c077e4f40>"
      ]
     },
     "execution_count": 16,
     "metadata": {},
     "output_type": "execute_result"
    }
   ],
   "source": [
    "model.fit(x=scaled_train_samples, y=train_labels, batch_size=10, epochs=30, shuffle=True, verbose=2)"
   ]
  },
  {
   "cell_type": "markdown",
   "id": "f293402d",
   "metadata": {},
   "source": [
    "### 4. Create validation set using keras API"
   ]
  },
  {
   "cell_type": "code",
   "execution_count": 17,
   "id": "f8a5c8bd",
   "metadata": {},
   "outputs": [
    {
     "name": "stdout",
     "output_type": "stream",
     "text": [
      "Epoch 1/30\n",
      "189/189 - 1s - loss: 0.2649 - accuracy: 0.9339 - val_loss: 0.2413 - val_accuracy: 0.9429 - 908ms/epoch - 5ms/step\n",
      "Epoch 2/30\n",
      "189/189 - 1s - loss: 0.2642 - accuracy: 0.9370 - val_loss: 0.2408 - val_accuracy: 0.9429 - 997ms/epoch - 5ms/step\n",
      "Epoch 3/30\n",
      "189/189 - 0s - loss: 0.2634 - accuracy: 0.9344 - val_loss: 0.2407 - val_accuracy: 0.9476 - 416ms/epoch - 2ms/step\n",
      "Epoch 4/30\n",
      "189/189 - 0s - loss: 0.2627 - accuracy: 0.9333 - val_loss: 0.2405 - val_accuracy: 0.9476 - 418ms/epoch - 2ms/step\n",
      "Epoch 5/30\n",
      "189/189 - 0s - loss: 0.2622 - accuracy: 0.9386 - val_loss: 0.2395 - val_accuracy: 0.9429 - 414ms/epoch - 2ms/step\n",
      "Epoch 6/30\n",
      "189/189 - 1s - loss: 0.2614 - accuracy: 0.9354 - val_loss: 0.2392 - val_accuracy: 0.9429 - 660ms/epoch - 3ms/step\n",
      "Epoch 7/30\n",
      "189/189 - 1s - loss: 0.2610 - accuracy: 0.9339 - val_loss: 0.2391 - val_accuracy: 0.9429 - 1s/epoch - 5ms/step\n",
      "Epoch 8/30\n",
      "189/189 - 1s - loss: 0.2604 - accuracy: 0.9339 - val_loss: 0.2388 - val_accuracy: 0.9429 - 560ms/epoch - 3ms/step\n",
      "Epoch 9/30\n",
      "189/189 - 0s - loss: 0.2602 - accuracy: 0.9360 - val_loss: 0.2385 - val_accuracy: 0.9429 - 423ms/epoch - 2ms/step\n",
      "Epoch 10/30\n",
      "189/189 - 0s - loss: 0.2595 - accuracy: 0.9386 - val_loss: 0.2377 - val_accuracy: 0.9429 - 498ms/epoch - 3ms/step\n",
      "Epoch 11/30\n",
      "189/189 - 0s - loss: 0.2590 - accuracy: 0.9354 - val_loss: 0.2386 - val_accuracy: 0.9476 - 469ms/epoch - 2ms/step\n",
      "Epoch 12/30\n",
      "189/189 - 1s - loss: 0.2588 - accuracy: 0.9360 - val_loss: 0.2378 - val_accuracy: 0.9476 - 559ms/epoch - 3ms/step\n",
      "Epoch 13/30\n",
      "189/189 - 1s - loss: 0.2583 - accuracy: 0.9365 - val_loss: 0.2379 - val_accuracy: 0.9476 - 501ms/epoch - 3ms/step\n",
      "Epoch 14/30\n",
      "189/189 - 0s - loss: 0.2579 - accuracy: 0.9386 - val_loss: 0.2369 - val_accuracy: 0.9429 - 467ms/epoch - 2ms/step\n",
      "Epoch 15/30\n",
      "189/189 - 0s - loss: 0.2575 - accuracy: 0.9360 - val_loss: 0.2364 - val_accuracy: 0.9429 - 409ms/epoch - 2ms/step\n",
      "Epoch 16/30\n",
      "189/189 - 0s - loss: 0.2570 - accuracy: 0.9349 - val_loss: 0.2365 - val_accuracy: 0.9476 - 450ms/epoch - 2ms/step\n",
      "Epoch 17/30\n",
      "189/189 - 0s - loss: 0.2567 - accuracy: 0.9386 - val_loss: 0.2357 - val_accuracy: 0.9429 - 463ms/epoch - 2ms/step\n",
      "Epoch 18/30\n",
      "189/189 - 0s - loss: 0.2562 - accuracy: 0.9386 - val_loss: 0.2351 - val_accuracy: 0.9429 - 451ms/epoch - 2ms/step\n",
      "Epoch 19/30\n",
      "189/189 - 0s - loss: 0.2561 - accuracy: 0.9376 - val_loss: 0.2351 - val_accuracy: 0.9429 - 394ms/epoch - 2ms/step\n",
      "Epoch 20/30\n",
      "189/189 - 0s - loss: 0.2555 - accuracy: 0.9339 - val_loss: 0.2352 - val_accuracy: 0.9476 - 400ms/epoch - 2ms/step\n",
      "Epoch 21/30\n",
      "189/189 - 0s - loss: 0.2553 - accuracy: 0.9402 - val_loss: 0.2346 - val_accuracy: 0.9429 - 406ms/epoch - 2ms/step\n",
      "Epoch 22/30\n",
      "189/189 - 0s - loss: 0.2550 - accuracy: 0.9344 - val_loss: 0.2344 - val_accuracy: 0.9476 - 397ms/epoch - 2ms/step\n",
      "Epoch 23/30\n",
      "189/189 - 0s - loss: 0.2546 - accuracy: 0.9418 - val_loss: 0.2338 - val_accuracy: 0.9429 - 423ms/epoch - 2ms/step\n",
      "Epoch 24/30\n",
      "189/189 - 0s - loss: 0.2546 - accuracy: 0.9339 - val_loss: 0.2337 - val_accuracy: 0.9429 - 407ms/epoch - 2ms/step\n",
      "Epoch 25/30\n",
      "189/189 - 0s - loss: 0.2543 - accuracy: 0.9392 - val_loss: 0.2335 - val_accuracy: 0.9429 - 404ms/epoch - 2ms/step\n",
      "Epoch 26/30\n",
      "189/189 - 1s - loss: 0.2539 - accuracy: 0.9381 - val_loss: 0.2330 - val_accuracy: 0.9429 - 537ms/epoch - 3ms/step\n",
      "Epoch 27/30\n",
      "189/189 - 0s - loss: 0.2539 - accuracy: 0.9339 - val_loss: 0.2332 - val_accuracy: 0.9476 - 458ms/epoch - 2ms/step\n",
      "Epoch 28/30\n",
      "189/189 - 0s - loss: 0.2536 - accuracy: 0.9392 - val_loss: 0.2331 - val_accuracy: 0.9476 - 405ms/epoch - 2ms/step\n",
      "Epoch 29/30\n",
      "189/189 - 0s - loss: 0.2533 - accuracy: 0.9381 - val_loss: 0.2328 - val_accuracy: 0.9476 - 401ms/epoch - 2ms/step\n",
      "Epoch 30/30\n",
      "189/189 - 0s - loss: 0.2531 - accuracy: 0.9407 - val_loss: 0.2325 - val_accuracy: 0.9429 - 399ms/epoch - 2ms/step\n"
     ]
    },
    {
     "data": {
      "text/plain": [
       "<keras.callbacks.History at 0x25c07a45f60>"
      ]
     },
     "execution_count": 17,
     "metadata": {},
     "output_type": "execute_result"
    }
   ],
   "source": [
    "# adding \"validation_split=0.1\". ie, validation data is 10%\n",
    "model.fit(x=scaled_train_samples, y=train_labels, validation_split=0.1, batch_size=10, epochs=30, shuffle=True, verbose=2)"
   ]
  },
  {
   "cell_type": "markdown",
   "id": "8dde3a6b",
   "metadata": {},
   "source": [
    "### 5. Test dataset for model inference\n"
   ]
  },
  {
   "cell_type": "markdown",
   "id": "b82c1890",
   "metadata": {},
   "source": [
    "#### Preprocess test data"
   ]
  },
  {
   "cell_type": "code",
   "execution_count": 18,
   "id": "1e051ffb",
   "metadata": {},
   "outputs": [],
   "source": [
    "test_samples = []\n",
    "test_labels = []"
   ]
  },
  {
   "cell_type": "code",
   "execution_count": 19,
   "id": "b07ec6e8",
   "metadata": {},
   "outputs": [],
   "source": [
    "for i in range(10):\n",
    "    # The ~5% of younger individuals who did experience side effects\n",
    "    random_younger = randint(13, 64)\n",
    "    test_samples.append(random_younger)\n",
    "    test_labels.append(1)\n",
    "    \n",
    "    # The ~5% of older individuals who did not experience side effects\n",
    "    random_older = randint(65, 100)\n",
    "    test_samples.append(random_older)\n",
    "    test_labels.append(0)\n",
    "    \n",
    "for i in range(200):\n",
    "    # The ~95% of younger individuals who did not experience side effects\n",
    "    random_younger = randint(13, 65)\n",
    "    test_samples.append(random_younger)\n",
    "    test_labels.append(0)\n",
    "    \n",
    "    # The ~95% of older individuals who did experience side effect\n",
    "    random_older = randint(65, 100)\n",
    "    test_samples.append(random_older)\n",
    "    test_labels.append(1)\n"
   ]
  },
  {
   "cell_type": "code",
   "execution_count": 20,
   "id": "2508b47a",
   "metadata": {},
   "outputs": [],
   "source": [
    "# converting to numpy array\n",
    "test_samples = np.array(test_samples)\n",
    "test_labels = np.array(test_labels)\n",
    "\n",
    "# shuffle the data\n",
    "test_samples, test_labels = shuffle(test_samples, test_labels)\n"
   ]
  },
  {
   "cell_type": "code",
   "execution_count": 21,
   "id": "c2172ab9",
   "metadata": {},
   "outputs": [],
   "source": [
    "scaled_test_samples = scaler.fit_transform(test_samples.reshape(-1, 1))"
   ]
  },
  {
   "cell_type": "markdown",
   "id": "5fac56e1",
   "metadata": {},
   "source": [
    "#### predict"
   ]
  },
  {
   "cell_type": "code",
   "execution_count": 22,
   "id": "ce85e6cf",
   "metadata": {},
   "outputs": [],
   "source": [
    "predictions = model.predict(x=scaled_test_samples, batch_size=10, verbose=0)"
   ]
  },
  {
   "cell_type": "code",
   "execution_count": 23,
   "id": "46fe1088",
   "metadata": {},
   "outputs": [],
   "source": [
    "# for i in predictions:\n",
    "#     print(i)"
   ]
  },
  {
   "cell_type": "code",
   "execution_count": 24,
   "id": "3d567b44",
   "metadata": {},
   "outputs": [],
   "source": [
    "rounded_predictions = np.argmax(predictions, axis=-1)"
   ]
  },
  {
   "cell_type": "code",
   "execution_count": 25,
   "id": "0920fb44",
   "metadata": {},
   "outputs": [],
   "source": [
    "# for i in rounded_predictions:\n",
    "#     print(i)"
   ]
  },
  {
   "cell_type": "markdown",
   "id": "3e68e167",
   "metadata": {},
   "source": [
    "### 6. Confusion Matrix"
   ]
  },
  {
   "cell_type": "code",
   "execution_count": 28,
   "id": "c5405a3a",
   "metadata": {},
   "outputs": [],
   "source": [
    "%matplotlib inline\n",
    "from sklearn.metrics import confusion_matrix\n",
    "import itertools\n",
    "import matplotlib.pyplot as plt"
   ]
  },
  {
   "cell_type": "code",
   "execution_count": 30,
   "id": "ddd5a997",
   "metadata": {},
   "outputs": [],
   "source": [
    "cm = confusion_matrix(y_true=test_labels, y_pred=rounded_predictions)"
   ]
  },
  {
   "cell_type": "code",
   "execution_count": 34,
   "id": "1ff51c50",
   "metadata": {},
   "outputs": [],
   "source": [
    "def plot_confusion_matrix(cm, classes,\n",
    "                         normalize=False,\n",
    "                         title=\"Confusion matrix\",\n",
    "                         cmap=plt.cm.Blues):\n",
    "    \n",
    "    \"\"\"\n",
    "    This function prints and plots the Confusion matrix.\n",
    "    Normalization can be applied by setting\n",
    "    \"\"\"\n",
    "    \n",
    "    plt.imshow(cm, interpolation=\"nearest\", cmap=cmap)\n",
    "    plt.title(title)\n",
    "    plt.colorbar()\n",
    "    tick_marks = np.arange(len(classes))\n",
    "    plt.xticks(tick_marks, classes, rotation=45)\n",
    "    plt.yticks(tick_marks, classes)\n",
    "    \n",
    "    if normalize:\n",
    "        cm = cm.astype(\"float\") / cm.sum(axis=1)[:, np.newaxis]\n",
    "        print(\"Normalized confusion matrix\")\n",
    "    else:\n",
    "        print(\"Confusion matrix, without normalization\")\n",
    "    \n",
    "    print(cm)\n",
    "    \n",
    "    thresh = cm.max() / 2.\n",
    "    for i, j in itertools.product(range(cm.shape[0]), range(cm.shape[1])):\n",
    "        plt.text(j, i, cm[i, j],\n",
    "                horizontalalignment=\"center\",\n",
    "                color=\"white\" if cm[i, j] > thresh else \"black\")\n",
    "        \n",
    "        plt.tight_layout()\n",
    "        plt.ylabel(\"True\")\n",
    "        plt.xlabel(\"Predicted label\")\n",
    "    "
   ]
  },
  {
   "cell_type": "code",
   "execution_count": 35,
   "id": "aea84146",
   "metadata": {},
   "outputs": [
    {
     "name": "stdout",
     "output_type": "stream",
     "text": [
      "Confusion matrix, without normalization\n",
      "[[196  14]\n",
      " [ 10 200]]\n"
     ]
    },
    {
     "data": {
      "image/png": "[encoded data removed]",
      "text/plain": [
       "<Figure size 640x480 with 2 Axes>"
      ]
     },
     "metadata": {},
     "output_type": "display_data"
    }
   ],
   "source": [
    "cm_plot_labels = ['no_side_effects', 'had_side_effects']\n",
    "plot_confusion_matrix(cm=cm, classes=cm_plot_labels, title=\"Confusion Matrix\")"
   ]
  },
  {
   "cell_type": "markdown",
   "id": "d5fb909e",
   "metadata": {},
   "source": [
    "### 7. Save and Load a Model"
   ]
  },
  {
   "cell_type": "code",
   "execution_count": 36,
   "id": "806b8d63",
   "metadata": {},
   "outputs": [
    {
     "name": "stdout",
     "output_type": "stream",
     "text": [
      "Model: \"sequential\"\n",
      "_________________________________________________________________\n",
      " Layer (type)                Output Shape              Param #   \n",
      "=================================================================\n",
      " dense (Dense)               (None, 16)                32        \n",
      "                                                                 \n",
      " dense_1 (Dense)             (None, 32)                544       \n",
      "                                                                 \n",
      " dense_2 (Dense)             (None, 2)                 66        \n",
      "                                                                 \n",
      "=================================================================\n",
      "Total params: 642\n",
      "Trainable params: 642\n",
      "Non-trainable params: 0\n",
      "_________________________________________________________________\n"
     ]
    }
   ],
   "source": [
    "model.summary()"
   ]
  },
  {
   "cell_type": "markdown",
   "id": "83d2c634",
   "metadata": {},
   "source": [
    "### 7.1 model.save()"
   ]
  },
  {
   "cell_type": "code",
   "execution_count": 38,
   "id": "844572aa",
   "metadata": {},
   "outputs": [],
   "source": [
    "# Check first to see if file exists already.\n",
    "# if not, the model is saved to disk.\n",
    "\n",
    "import os.path\n",
    "if os.path.isfile('models/medical_trial_model.h5') is False:\n",
    "    model.save('models/medical_trial_model.h5')"
   ]
  },
  {
   "cell_type": "markdown",
   "id": "f3967c87",
   "metadata": {},
   "source": [
    "This save function saves:\n",
    "\n",
    "* The architecture of model, allowing to re-create the model.\n",
    "* The weights of the model.\n",
    "* The training configuration (loss, optimizer).\n",
    "* The sate of the optimizer, allowing to resume training exactly where you left off."
   ]
  },
  {
   "cell_type": "code",
   "execution_count": 40,
   "id": "ffb82c93",
   "metadata": {},
   "outputs": [],
   "source": [
    "from tensorflow.keras.models import load_model\n",
    "new_model = load_model(\"models/medical_trial_model.h5\")"
   ]
  },
  {
   "cell_type": "code",
   "execution_count": 41,
   "id": "0f6f7467",
   "metadata": {},
   "outputs": [
    {
     "name": "stdout",
     "output_type": "stream",
     "text": [
      "Model: \"sequential\"\n",
      "_________________________________________________________________\n",
      " Layer (type)                Output Shape              Param #   \n",
      "=================================================================\n",
      " dense (Dense)               (None, 16)                32        \n",
      "                                                                 \n",
      " dense_1 (Dense)             (None, 32)                544       \n",
      "                                                                 \n",
      " dense_2 (Dense)             (None, 2)                 66        \n",
      "                                                                 \n",
      "=================================================================\n",
      "Total params: 642\n",
      "Trainable params: 642\n",
      "Non-trainable params: 0\n",
      "_________________________________________________________________\n"
     ]
    }
   ],
   "source": [
    "new_model.summary()"
   ]
  },
  {
   "cell_type": "code",
   "execution_count": 42,
   "id": "d9e727a5",
   "metadata": {},
   "outputs": [
    {
     "data": {
      "text/plain": [
       "[array([[-0.15272918, -0.27042383,  0.34403652,  0.02653278, -0.27319068,\n",
       "         -0.47133034,  0.32500026, -0.37502414, -0.15140371,  0.6056119 ,\n",
       "          0.71764976, -0.00081064,  0.3714248 ,  0.49588996,  0.22674586,\n",
       "          0.31961524]], dtype=float32),\n",
       " array([ 0.        ,  0.        , -0.11563599,  0.22129276,  0.        ,\n",
       "         0.        , -0.12047233,  0.        ,  0.15634347, -0.05536151,\n",
       "        -0.14763816, -0.00033998, -0.13597076, -0.16342658, -0.10470809,\n",
       "        -0.12437526], dtype=float32),\n",
       " array([[ 6.92729056e-02, -2.12842092e-01,  8.02686810e-03,\n",
       "          2.11297423e-01, -1.16035327e-01,  2.98596650e-01,\n",
       "          1.39877290e-01, -2.11551040e-01,  9.04641747e-02,\n",
       "          2.25701064e-01, -2.08403006e-01,  2.83056825e-01,\n",
       "         -2.42660642e-01, -1.56875372e-01, -6.41373992e-02,\n",
       "          2.72773474e-01, -3.23853940e-01,  4.66244519e-02,\n",
       "          1.00181401e-02, -1.60423547e-01,  3.43096167e-01,\n",
       "         -2.69892812e-01,  3.32949966e-01,  1.19206697e-01,\n",
       "         -3.30758005e-01,  2.99671322e-01, -1.75109789e-01,\n",
       "         -3.40244830e-01, -1.17338091e-01, -3.48050296e-02,\n",
       "          2.44156867e-01, -1.11326426e-01],\n",
       "        [ 2.39751190e-01,  1.88632697e-01,  7.14127719e-02,\n",
       "         -1.17361352e-01, -1.81264833e-01, -1.55819252e-01,\n",
       "         -3.40023667e-01,  3.11188072e-01, -3.27804267e-01,\n",
       "         -1.81267947e-01,  3.25400561e-01, -1.95214927e-01,\n",
       "         -2.76116967e-01, -8.98523629e-02,  1.95970863e-01,\n",
       "          2.70728320e-01,  4.26412225e-02, -2.95672774e-01,\n",
       "         -1.12728819e-01,  1.17808014e-01,  1.45973086e-01,\n",
       "          1.34218246e-01, -2.63307452e-01, -8.02663863e-02,\n",
       "         -2.96947390e-01,  1.49070054e-01, -1.24489814e-01,\n",
       "         -3.30219537e-01, -3.20862114e-01,  2.79390186e-01,\n",
       "         -2.48738378e-01,  1.29693687e-01],\n",
       "        [ 3.45775753e-01,  4.91650343e-01,  1.83333576e-01,\n",
       "          2.19165847e-01, -1.18418910e-01, -1.48935750e-01,\n",
       "         -2.62735277e-01,  2.46973440e-01,  5.20818651e-01,\n",
       "         -1.56009093e-01, -3.18419278e-01, -1.11083157e-01,\n",
       "         -4.15155143e-01,  5.34234524e-01, -1.09296978e-01,\n",
       "         -3.68403852e-01, -2.00185135e-01, -2.50801295e-01,\n",
       "         -3.17941993e-01,  5.18803060e-01,  4.26439583e-01,\n",
       "          4.82054561e-01, -5.18644989e-01,  5.57524920e-01,\n",
       "         -1.77172706e-01,  3.90605807e-01, -2.90260196e-01,\n",
       "          7.50369132e-02, -5.54267049e-01, -1.19686224e-01,\n",
       "          1.20507270e-01,  1.24271616e-01],\n",
       "        [-2.11714908e-01, -1.64653614e-01,  1.49397418e-01,\n",
       "          1.82280287e-01,  2.91889608e-01,  4.31126565e-01,\n",
       "          5.87735660e-02, -1.28495768e-01,  1.58939689e-01,\n",
       "          9.67733655e-03, -1.57856941e-03,  2.57247299e-01,\n",
       "          4.45844084e-01, -2.62462348e-01, -1.45828858e-01,\n",
       "          2.77528703e-01, -1.09956637e-01,  3.75619590e-01,\n",
       "          1.90572277e-01,  1.21605963e-01,  8.60349610e-02,\n",
       "         -4.36412841e-02,  1.19526386e-01,  6.88534081e-02,\n",
       "         -2.97807187e-01, -9.72718894e-02, -7.09544718e-02,\n",
       "         -1.59542516e-01,  1.26823679e-01,  1.89303488e-01,\n",
       "          2.75281042e-01,  2.27285028e-01],\n",
       "        [ 9.15086567e-02,  2.50686914e-01, -3.51547122e-01,\n",
       "          2.80886680e-01,  1.88366920e-01,  1.14037246e-01,\n",
       "         -7.95845389e-02,  2.06999868e-01, -1.48878857e-01,\n",
       "         -1.83570504e-01,  1.65272951e-02, -3.16870868e-01,\n",
       "         -8.07996392e-02, -2.27261201e-01, -1.37805700e-01,\n",
       "         -6.26698434e-02, -2.46214628e-01,  3.47121924e-01,\n",
       "          2.61567563e-01,  2.20855802e-01, -1.72558635e-01,\n",
       "          1.34222537e-01,  1.92597300e-01, -5.72882593e-02,\n",
       "         -7.55516887e-02, -1.68010235e-01, -1.40168190e-01,\n",
       "         -2.83788145e-02,  1.72122747e-01, -2.37572938e-01,\n",
       "          3.18895847e-01,  1.75559908e-01],\n",
       "        [-3.44128758e-01,  1.53556973e-01,  1.91830724e-01,\n",
       "         -1.06662974e-01, -3.21714312e-01, -4.89097238e-02,\n",
       "         -3.08702469e-01, -3.06010634e-01, -9.95984674e-02,\n",
       "          2.34556466e-01,  2.41741270e-01,  4.84854877e-02,\n",
       "          5.62967360e-02, -2.12450325e-02,  3.28112394e-01,\n",
       "         -1.44679755e-01,  3.12516123e-01, -1.47384822e-01,\n",
       "          4.05241847e-02, -1.43384337e-01,  2.08813101e-01,\n",
       "         -2.77325153e-01, -6.62367940e-02, -1.35274857e-01,\n",
       "         -2.10040167e-01,  2.05443949e-01,  6.00641966e-03,\n",
       "          9.83976424e-02,  1.02337271e-01, -9.33153033e-02,\n",
       "          1.79798275e-01, -3.90854478e-03],\n",
       "        [-3.51990670e-01,  1.52258188e-01,  2.78197020e-01,\n",
       "          9.66651142e-02, -3.67118210e-01, -3.64445329e-01,\n",
       "         -7.08934665e-03,  2.13711515e-01,  3.42453420e-01,\n",
       "          1.38599902e-01, -2.80190408e-01, -6.32105947e-01,\n",
       "         -5.42308670e-03,  1.62404835e-01, -4.50575948e-02,\n",
       "         -3.92634869e-01, -2.75649667e-01, -1.92633957e-01,\n",
       "         -1.97695106e-01,  5.58209360e-01,  3.86209816e-01,\n",
       "          5.78140497e-01, -2.03956604e-01,  4.47234273e-01,\n",
       "          2.43376285e-01,  3.98139685e-01, -1.90958679e-01,\n",
       "          2.32796341e-01, -4.14036721e-01, -1.91594034e-01,\n",
       "          1.84826758e-02, -4.30376142e-01],\n",
       "        [-3.82198691e-02, -1.70610949e-01, -9.77870226e-02,\n",
       "         -3.14908624e-02, -1.33616805e-01, -3.41094851e-01,\n",
       "          1.38610542e-01,  2.08530813e-01,  1.22009307e-01,\n",
       "          1.48809701e-01, -9.71281528e-03, -2.45124549e-01,\n",
       "          3.45068365e-01,  1.56553596e-01,  3.77428532e-02,\n",
       "         -1.59028992e-01,  3.43170077e-01,  1.04924083e-01,\n",
       "          1.64290935e-01, -7.82494247e-02,  1.23549432e-01,\n",
       "         -3.51182133e-01,  3.71134281e-02, -1.58481419e-01,\n",
       "          2.59942025e-01,  1.04811370e-01,  1.34252131e-01,\n",
       "         -2.48800173e-01,  2.33850211e-01,  1.12983227e-01,\n",
       "          3.30671519e-01,  2.14224190e-01],\n",
       "        [-2.36948311e-01, -4.11329091e-01, -1.28906056e-01,\n",
       "         -7.05023348e-01,  4.65764433e-01,  5.85939527e-01,\n",
       "          1.65224716e-01,  1.77283153e-01, -1.20131023e-01,\n",
       "         -1.34697869e-01, -1.25604853e-01,  6.26824975e-01,\n",
       "          3.44250739e-01, -2.17658773e-01,  3.92334163e-02,\n",
       "          6.40759706e-01, -6.50294870e-02,  4.69806731e-01,\n",
       "         -1.54587096e-02, -6.80205166e-01, -3.20320576e-01,\n",
       "         -6.40360177e-01,  5.69249988e-02, -2.62315571e-01,\n",
       "          1.42420769e-01, -5.47697186e-01,  7.20595717e-02,\n",
       "          1.61252409e-01,  1.43925369e-01,  1.76145911e-01,\n",
       "          2.81190336e-01,  1.70688748e-01],\n",
       "        [-1.16103098e-01,  4.59595174e-02, -8.95566419e-02,\n",
       "          3.92938852e-01,  8.26838911e-02, -1.98533669e-01,\n",
       "          9.52207483e-03,  6.90066069e-02,  3.06690842e-01,\n",
       "         -1.51776448e-01, -1.09473482e-01, -2.27655619e-01,\n",
       "         -2.69685298e-01,  1.98049352e-01, -2.35485569e-01,\n",
       "         -6.20223284e-02,  1.69705614e-01, -1.78287923e-01,\n",
       "         -1.31309748e-01,  3.10701966e-01,  3.30572203e-02,\n",
       "         -3.13269012e-02,  5.26789799e-02,  2.82839507e-01,\n",
       "         -3.42089117e-01,  2.16057494e-01, -2.00641587e-01,\n",
       "         -1.29245505e-01,  1.48283993e-03,  2.92784095e-01,\n",
       "         -3.22748870e-01,  9.30675268e-02],\n",
       "        [-1.39209941e-01,  2.39514410e-01,  4.41429138e-01,\n",
       "          2.87582517e-01, -2.59433240e-01, -3.61245453e-01,\n",
       "         -1.71734929e-01, -7.29286112e-04, -1.54644161e-01,\n",
       "         -2.95584440e-01, -1.59521684e-01, -1.05336383e-01,\n",
       "         -2.95418382e-01,  3.75540048e-01, -1.92946747e-01,\n",
       "         -2.19420522e-01, -2.48804256e-01, -4.26622391e-01,\n",
       "         -2.82643437e-02,  3.86014462e-01,  4.46743786e-01,\n",
       "          2.41234824e-01, -1.40549526e-01,  2.60457367e-01,\n",
       "          2.64367849e-01,  3.51463020e-01,  2.82208294e-01,\n",
       "         -1.78090751e-01, -1.69509292e-01, -6.11755103e-02,\n",
       "         -2.84268618e-01, -7.24156126e-02],\n",
       "        [-1.87439248e-01,  2.99092382e-01, -1.45058870e-01,\n",
       "         -2.03546509e-01,  4.36790586e-02, -6.00552857e-02,\n",
       "         -2.62187541e-01,  1.04062282e-01, -3.33512187e-01,\n",
       "         -8.64098072e-02, -1.53591633e-01, -1.15474865e-01,\n",
       "          3.06383878e-01,  1.14598885e-01, -1.73211098e-04,\n",
       "         -4.52544987e-02,  2.03122288e-01, -2.94208437e-01,\n",
       "         -2.36400574e-01, -1.26252085e-01,  8.66433978e-02,\n",
       "          5.01985662e-03, -2.60619372e-01,  1.32037207e-01,\n",
       "         -3.11513931e-01, -2.33349040e-01, -2.60743499e-01,\n",
       "          4.21056151e-02,  3.36756557e-01,  1.01677693e-01,\n",
       "         -1.61423385e-02, -1.05723798e-01],\n",
       "        [-2.58337408e-01,  2.99540102e-01,  6.32498786e-02,\n",
       "          4.33036417e-01, -3.54739726e-01,  6.58695865e-03,\n",
       "         -2.65265584e-01, -3.42315793e-01,  3.73243123e-01,\n",
       "          1.45363510e-02, -2.69062191e-01,  2.32491717e-02,\n",
       "         -8.96781385e-02,  5.29277980e-01,  2.73046106e-01,\n",
       "         -3.71578097e-01, -1.32599175e-02,  7.16129541e-02,\n",
       "         -2.14715853e-01,  1.16884708e-01,  1.69795513e-01,\n",
       "          2.86935598e-01, -2.30030313e-01,  5.31245947e-01,\n",
       "         -7.82189071e-02,  1.98352663e-03, -1.92278802e-01,\n",
       "          8.75717998e-02, -5.41996777e-01, -3.63231033e-01,\n",
       "         -2.09034279e-01, -4.20112431e-01],\n",
       "        [-1.08401611e-01,  2.27917865e-01,  1.53032735e-01,\n",
       "         -1.16930224e-01, -3.99821550e-01, -3.61165434e-01,\n",
       "          1.16363540e-01, -3.39341573e-02,  2.21415639e-01,\n",
       "          3.31660569e-01, -1.89854696e-01, -5.64703763e-01,\n",
       "         -3.88016045e-01,  9.40702707e-02, -3.11192840e-01,\n",
       "         -2.54682153e-01,  7.11971894e-03, -2.30581895e-01,\n",
       "         -6.65619299e-02,  4.19234373e-02,  4.53157842e-01,\n",
       "          1.88742340e-01, -2.97214776e-01,  3.59162800e-02,\n",
       "         -1.62748709e-01, -8.33214913e-03, -3.06673527e-01,\n",
       "         -2.60301620e-01, -7.89530054e-02, -3.87731135e-01,\n",
       "         -3.30441207e-01, -1.37761995e-01],\n",
       "        [ 2.42242187e-01,  4.68911827e-01,  5.53017080e-01,\n",
       "          2.75386482e-01, -3.93983960e-01, -6.63778722e-01,\n",
       "         -2.82483339e-01, -2.41156578e-01,  3.70469898e-01,\n",
       "         -3.50971639e-01,  7.71351457e-02, -4.26326603e-01,\n",
       "         -3.29281896e-01, -5.12780808e-02,  4.68370318e-02,\n",
       "         -5.89162230e-01, -1.73609942e-01, -3.17218035e-01,\n",
       "          1.22359037e-01,  5.91006517e-01,  6.06778979e-01,\n",
       "          5.71668684e-01, -3.63241285e-01,  4.88882124e-01,\n",
       "          4.63883281e-02,  4.31875914e-01, -6.06231093e-02,\n",
       "         -3.26113015e-01, -5.60840309e-01, -4.59634900e-01,\n",
       "         -2.74137199e-01, -2.01522168e-02],\n",
       "        [-2.91466355e-01,  4.19352859e-01,  3.49335194e-01,\n",
       "          3.69943753e-02, -5.09824753e-01, -1.65500149e-01,\n",
       "         -3.43473911e-01, -1.99892178e-01,  2.50120997e-01,\n",
       "          1.54177517e-01,  6.80405200e-02, -1.13740213e-01,\n",
       "         -3.64143819e-01,  3.88193160e-01, -6.28288984e-02,\n",
       "         -1.15874797e-01, -8.18203315e-02, -5.80748379e-01,\n",
       "          2.27125183e-01,  2.55088627e-01,  2.26903126e-01,\n",
       "          2.68619567e-01, -1.94946021e-01,  4.18325633e-01,\n",
       "         -5.94586730e-02,  7.85283521e-02, -4.58599925e-02,\n",
       "          1.19232744e-01, -2.85504341e-01, -1.60344526e-01,\n",
       "          4.90822569e-02, -2.10790530e-01]], dtype=float32),\n",
       " array([ 0.        , -0.05313301, -0.11221458, -0.12737316,  0.18873493,\n",
       "         0.21902317, -0.03946099, -0.00766908, -0.12411153, -0.00063737,\n",
       "         0.        ,  0.22079161,  0.24399586, -0.09022513,  0.        ,\n",
       "         0.2020538 , -0.00464692,  0.2392487 , -0.04264801, -0.12049219,\n",
       "        -0.12358325, -0.05252445,  0.18971834, -0.13252433,  0.        ,\n",
       "        -0.07838418,  0.        ,  0.        ,  0.25409   ,  0.03859727,\n",
       "         0.20086767,  0.16370948], dtype=float32),\n",
       " array([[-0.11939418,  0.13383785],\n",
       "        [-0.41453338,  0.63913864],\n",
       "        [-0.10717639,  0.68947315],\n",
       "        [-0.46273127,  0.35872772],\n",
       "        [ 0.7488958 , -0.8992434 ],\n",
       "        [ 0.5736665 , -0.31834847],\n",
       "        [-0.11537309,  0.02760012],\n",
       "        [-0.15326014,  0.3244108 ],\n",
       "        [-0.5505464 ,  0.38010418],\n",
       "        [ 0.2508214 ,  0.37717175],\n",
       "        [ 0.27089998, -0.13307276],\n",
       "        [ 0.59977615, -0.44496462],\n",
       "        [ 0.439722  , -0.48471767],\n",
       "        [-0.37714645,  0.5926307 ],\n",
       "        [-0.24984886, -0.10277271],\n",
       "        [ 0.3103074 , -0.57295847],\n",
       "        [-0.02661692,  0.19626153],\n",
       "        [ 0.19634439, -0.82198256],\n",
       "        [-0.20153745,  0.02247857],\n",
       "        [-0.56842744,  0.42543626],\n",
       "        [-0.06643748,  0.50550187],\n",
       "        [-0.5569534 ,  0.52565837],\n",
       "        [ 0.73365295, -0.59906006],\n",
       "        [-0.58381337, -0.01960335],\n",
       "        [ 0.3347142 ,  0.21276948],\n",
       "        [-0.73656243,  0.55824924],\n",
       "        [-0.1872111 , -0.29612786],\n",
       "        [-0.23383193,  0.34769347],\n",
       "        [ 0.19122355, -0.82320607],\n",
       "        [ 0.1017797 , -0.49727318],\n",
       "        [ 0.56987   , -0.53229874],\n",
       "        [ 0.45432654, -0.00691087]], dtype=float32),\n",
       " array([ 0.14697336, -0.14697337], dtype=float32)]"
      ]
     },
     "execution_count": 42,
     "metadata": {},
     "output_type": "execute_result"
    }
   ],
   "source": [
    "new_model.get_weights()"
   ]
  },
  {
   "cell_type": "code",
   "execution_count": 43,
   "id": "26f69d5b",
   "metadata": {},
   "outputs": [
    {
     "data": {
      "text/plain": [
       "<keras.optimizers.adam.Adam at 0x25c0c8ab1c0>"
      ]
     },
     "execution_count": 43,
     "metadata": {},
     "output_type": "execute_result"
    }
   ],
   "source": [
    "new_model.optimizer"
   ]
  },
  {
   "cell_type": "markdown",
   "id": "e044e851",
   "metadata": {},
   "source": [
    "### 7.2 model.to_json()"
   ]
  },
  {
   "cell_type": "markdown",
   "id": "607cf841",
   "metadata": {},
   "source": [
    "If you only need to save the architecture of model, and it's weights or it's training configuration, you can use the following function to save the architecture only."
   ]
  },
  {
   "cell_type": "code",
   "execution_count": 44,
   "id": "12f6e141",
   "metadata": {},
   "outputs": [],
   "source": [
    "# Save as JSON\n",
    "json_string = model.to_json()\n",
    "\n",
    "# save as YAML\n",
    "# yaml_stirng = model.to_yaml()"
   ]
  },
  {
   "cell_type": "code",
   "execution_count": 45,
   "id": "ae98cb3e",
   "metadata": {},
   "outputs": [
    {
     "data": {
      "text/plain": [
       "'{\"class_name\": \"Sequential\", \"config\": {\"name\": \"sequential\", \"layers\": [{\"class_name\": \"InputLayer\", \"config\": {\"batch_input_shape\": [null, 1], \"dtype\": \"float32\", \"sparse\": false, \"ragged\": false, \"name\": \"dense_input\"}}, {\"class_name\": \"Dense\", \"config\": {\"name\": \"dense\", \"trainable\": true, \"dtype\": \"float32\", \"batch_input_shape\": [null, 1], \"units\": 16, \"activation\": \"relu\", \"use_bias\": true, \"kernel_initializer\": {\"class_name\": \"GlorotUniform\", \"config\": {\"seed\": null}}, \"bias_initializer\": {\"class_name\": \"Zeros\", \"config\": {}}, \"kernel_regularizer\": null, \"bias_regularizer\": null, \"activity_regularizer\": null, \"kernel_constraint\": null, \"bias_constraint\": null}}, {\"class_name\": \"Dense\", \"config\": {\"name\": \"dense_1\", \"trainable\": true, \"dtype\": \"float32\", \"units\": 32, \"activation\": \"relu\", \"use_bias\": true, \"kernel_initializer\": {\"class_name\": \"GlorotUniform\", \"config\": {\"seed\": null}}, \"bias_initializer\": {\"class_name\": \"Zeros\", \"config\": {}}, \"kernel_regularizer\": null, \"bias_regularizer\": null, \"activity_regularizer\": null, \"kernel_constraint\": null, \"bias_constraint\": null}}, {\"class_name\": \"Dense\", \"config\": {\"name\": \"dense_2\", \"trainable\": true, \"dtype\": \"float32\", \"units\": 2, \"activation\": \"softmax\", \"use_bias\": true, \"kernel_initializer\": {\"class_name\": \"GlorotUniform\", \"config\": {\"seed\": null}}, \"bias_initializer\": {\"class_name\": \"Zeros\", \"config\": {}}, \"kernel_regularizer\": null, \"bias_regularizer\": null, \"activity_regularizer\": null, \"kernel_constraint\": null, \"bias_constraint\": null}}]}, \"keras_version\": \"2.12.0\", \"backend\": \"tensorflow\"}'"
      ]
     },
     "execution_count": 45,
     "metadata": {},
     "output_type": "execute_result"
    }
   ],
   "source": [
    "json_string"
   ]
  },
  {
   "cell_type": "code",
   "execution_count": 49,
   "id": "19e782e1",
   "metadata": {},
   "outputs": [],
   "source": [
    "# model reconstruction form JSON:\n",
    "from tensorflow.keras.models import model_from_json\n",
    "model_architecture = model_from_json(json_string)\n",
    "\n",
    "# model reconstruction from YAML\n",
    "# from tensorflow.keras.models import model_from_yaml\n",
    "# model = model_from_yaml(yaml_string)"
   ]
  },
  {
   "cell_type": "code",
   "execution_count": 50,
   "id": "d5c3fc62",
   "metadata": {},
   "outputs": [
    {
     "name": "stdout",
     "output_type": "stream",
     "text": [
      "Model: \"sequential\"\n",
      "_________________________________________________________________\n",
      " Layer (type)                Output Shape              Param #   \n",
      "=================================================================\n",
      " dense (Dense)               (None, 16)                32        \n",
      "                                                                 \n",
      " dense_1 (Dense)             (None, 32)                544       \n",
      "                                                                 \n",
      " dense_2 (Dense)             (None, 2)                 66        \n",
      "                                                                 \n",
      "=================================================================\n",
      "Total params: 642\n",
      "Trainable params: 642\n",
      "Non-trainable params: 0\n",
      "_________________________________________________________________\n"
     ]
    }
   ],
   "source": [
    "model_architecture.summary()"
   ]
  },
  {
   "cell_type": "markdown",
   "id": "5bbd77c6",
   "metadata": {},
   "source": [
    "### 3. model.save_weights()\n",
    "\n",
    "If you only need to save the weights of model, you can use the following function save the weights only."
   ]
  },
  {
   "cell_type": "code",
   "execution_count": 51,
   "id": "3efee1e6",
   "metadata": {},
   "outputs": [],
   "source": [
    "# checks first to see if file exists already.\n",
    "# If not, the weights are save to disk.\n",
    "\n",
    "import os.path\n",
    "if os.path.isfile('models/my_model_weights.h5') is False:\n",
    "    model.save_weights('models/my_model_weights.h5')"
   ]
  },
  {
   "cell_type": "code",
   "execution_count": 52,
   "id": "a22b3e2d",
   "metadata": {},
   "outputs": [],
   "source": [
    "model2 = Sequential([\n",
    "    Dense(units=16, input_shape=(1,), activation=\"relu\"),\n",
    "    Dense(units=32, activation='relu'),\n",
    "    Dense(units=2, activation='softmax')\n",
    "])"
   ]
  },
  {
   "cell_type": "code",
   "execution_count": 54,
   "id": "92c58d09",
   "metadata": {},
   "outputs": [],
   "source": [
    "model2.load_weights(\"models/my_model_weights.h5\")"
   ]
  },
  {
   "cell_type": "code",
   "execution_count": 55,
   "id": "c91b66b7",
   "metadata": {},
   "outputs": [
    {
     "data": {
      "text/plain": [
       "[array([[-0.15272918, -0.27042383,  0.34403652,  0.02653278, -0.27319068,\n",
       "         -0.47133034,  0.32500026, -0.37502414, -0.15140371,  0.6056119 ,\n",
       "          0.71764976, -0.00081064,  0.3714248 ,  0.49588996,  0.22674586,\n",
       "          0.31961524]], dtype=float32),\n",
       " array([ 0.        ,  0.        , -0.11563599,  0.22129276,  0.        ,\n",
       "         0.        , -0.12047233,  0.        ,  0.15634347, -0.05536151,\n",
       "        -0.14763816, -0.00033998, -0.13597076, -0.16342658, -0.10470809,\n",
       "        -0.12437526], dtype=float32),\n",
       " array([[ 6.92729056e-02, -2.12842092e-01,  8.02686810e-03,\n",
       "          2.11297423e-01, -1.16035327e-01,  2.98596650e-01,\n",
       "          1.39877290e-01, -2.11551040e-01,  9.04641747e-02,\n",
       "          2.25701064e-01, -2.08403006e-01,  2.83056825e-01,\n",
       "         -2.42660642e-01, -1.56875372e-01, -6.41373992e-02,\n",
       "          2.72773474e-01, -3.23853940e-01,  4.66244519e-02,\n",
       "          1.00181401e-02, -1.60423547e-01,  3.43096167e-01,\n",
       "         -2.69892812e-01,  3.32949966e-01,  1.19206697e-01,\n",
       "         -3.30758005e-01,  2.99671322e-01, -1.75109789e-01,\n",
       "         -3.40244830e-01, -1.17338091e-01, -3.48050296e-02,\n",
       "          2.44156867e-01, -1.11326426e-01],\n",
       "        [ 2.39751190e-01,  1.88632697e-01,  7.14127719e-02,\n",
       "         -1.17361352e-01, -1.81264833e-01, -1.55819252e-01,\n",
       "         -3.40023667e-01,  3.11188072e-01, -3.27804267e-01,\n",
       "         -1.81267947e-01,  3.25400561e-01, -1.95214927e-01,\n",
       "         -2.76116967e-01, -8.98523629e-02,  1.95970863e-01,\n",
       "          2.70728320e-01,  4.26412225e-02, -2.95672774e-01,\n",
       "         -1.12728819e-01,  1.17808014e-01,  1.45973086e-01,\n",
       "          1.34218246e-01, -2.63307452e-01, -8.02663863e-02,\n",
       "         -2.96947390e-01,  1.49070054e-01, -1.24489814e-01,\n",
       "         -3.30219537e-01, -3.20862114e-01,  2.79390186e-01,\n",
       "         -2.48738378e-01,  1.29693687e-01],\n",
       "        [ 3.45775753e-01,  4.91650343e-01,  1.83333576e-01,\n",
       "          2.19165847e-01, -1.18418910e-01, -1.48935750e-01,\n",
       "         -2.62735277e-01,  2.46973440e-01,  5.20818651e-01,\n",
       "         -1.56009093e-01, -3.18419278e-01, -1.11083157e-01,\n",
       "         -4.15155143e-01,  5.34234524e-01, -1.09296978e-01,\n",
       "         -3.68403852e-01, -2.00185135e-01, -2.50801295e-01,\n",
       "         -3.17941993e-01,  5.18803060e-01,  4.26439583e-01,\n",
       "          4.82054561e-01, -5.18644989e-01,  5.57524920e-01,\n",
       "         -1.77172706e-01,  3.90605807e-01, -2.90260196e-01,\n",
       "          7.50369132e-02, -5.54267049e-01, -1.19686224e-01,\n",
       "          1.20507270e-01,  1.24271616e-01],\n",
       "        [-2.11714908e-01, -1.64653614e-01,  1.49397418e-01,\n",
       "          1.82280287e-01,  2.91889608e-01,  4.31126565e-01,\n",
       "          5.87735660e-02, -1.28495768e-01,  1.58939689e-01,\n",
       "          9.67733655e-03, -1.57856941e-03,  2.57247299e-01,\n",
       "          4.45844084e-01, -2.62462348e-01, -1.45828858e-01,\n",
       "          2.77528703e-01, -1.09956637e-01,  3.75619590e-01,\n",
       "          1.90572277e-01,  1.21605963e-01,  8.60349610e-02,\n",
       "         -4.36412841e-02,  1.19526386e-01,  6.88534081e-02,\n",
       "         -2.97807187e-01, -9.72718894e-02, -7.09544718e-02,\n",
       "         -1.59542516e-01,  1.26823679e-01,  1.89303488e-01,\n",
       "          2.75281042e-01,  2.27285028e-01],\n",
       "        [ 9.15086567e-02,  2.50686914e-01, -3.51547122e-01,\n",
       "          2.80886680e-01,  1.88366920e-01,  1.14037246e-01,\n",
       "         -7.95845389e-02,  2.06999868e-01, -1.48878857e-01,\n",
       "         -1.83570504e-01,  1.65272951e-02, -3.16870868e-01,\n",
       "         -8.07996392e-02, -2.27261201e-01, -1.37805700e-01,\n",
       "         -6.26698434e-02, -2.46214628e-01,  3.47121924e-01,\n",
       "          2.61567563e-01,  2.20855802e-01, -1.72558635e-01,\n",
       "          1.34222537e-01,  1.92597300e-01, -5.72882593e-02,\n",
       "         -7.55516887e-02, -1.68010235e-01, -1.40168190e-01,\n",
       "         -2.83788145e-02,  1.72122747e-01, -2.37572938e-01,\n",
       "          3.18895847e-01,  1.75559908e-01],\n",
       "        [-3.44128758e-01,  1.53556973e-01,  1.91830724e-01,\n",
       "         -1.06662974e-01, -3.21714312e-01, -4.89097238e-02,\n",
       "         -3.08702469e-01, -3.06010634e-01, -9.95984674e-02,\n",
       "          2.34556466e-01,  2.41741270e-01,  4.84854877e-02,\n",
       "          5.62967360e-02, -2.12450325e-02,  3.28112394e-01,\n",
       "         -1.44679755e-01,  3.12516123e-01, -1.47384822e-01,\n",
       "          4.05241847e-02, -1.43384337e-01,  2.08813101e-01,\n",
       "         -2.77325153e-01, -6.62367940e-02, -1.35274857e-01,\n",
       "         -2.10040167e-01,  2.05443949e-01,  6.00641966e-03,\n",
       "          9.83976424e-02,  1.02337271e-01, -9.33153033e-02,\n",
       "          1.79798275e-01, -3.90854478e-03],\n",
       "        [-3.51990670e-01,  1.52258188e-01,  2.78197020e-01,\n",
       "          9.66651142e-02, -3.67118210e-01, -3.64445329e-01,\n",
       "         -7.08934665e-03,  2.13711515e-01,  3.42453420e-01,\n",
       "          1.38599902e-01, -2.80190408e-01, -6.32105947e-01,\n",
       "         -5.42308670e-03,  1.62404835e-01, -4.50575948e-02,\n",
       "         -3.92634869e-01, -2.75649667e-01, -1.92633957e-01,\n",
       "         -1.97695106e-01,  5.58209360e-01,  3.86209816e-01,\n",
       "          5.78140497e-01, -2.03956604e-01,  4.47234273e-01,\n",
       "          2.43376285e-01,  3.98139685e-01, -1.90958679e-01,\n",
       "          2.32796341e-01, -4.14036721e-01, -1.91594034e-01,\n",
       "          1.84826758e-02, -4.30376142e-01],\n",
       "        [-3.82198691e-02, -1.70610949e-01, -9.77870226e-02,\n",
       "         -3.14908624e-02, -1.33616805e-01, -3.41094851e-01,\n",
       "          1.38610542e-01,  2.08530813e-01,  1.22009307e-01,\n",
       "          1.48809701e-01, -9.71281528e-03, -2.45124549e-01,\n",
       "          3.45068365e-01,  1.56553596e-01,  3.77428532e-02,\n",
       "         -1.59028992e-01,  3.43170077e-01,  1.04924083e-01,\n",
       "          1.64290935e-01, -7.82494247e-02,  1.23549432e-01,\n",
       "         -3.51182133e-01,  3.71134281e-02, -1.58481419e-01,\n",
       "          2.59942025e-01,  1.04811370e-01,  1.34252131e-01,\n",
       "         -2.48800173e-01,  2.33850211e-01,  1.12983227e-01,\n",
       "          3.30671519e-01,  2.14224190e-01],\n",
       "        [-2.36948311e-01, -4.11329091e-01, -1.28906056e-01,\n",
       "         -7.05023348e-01,  4.65764433e-01,  5.85939527e-01,\n",
       "          1.65224716e-01,  1.77283153e-01, -1.20131023e-01,\n",
       "         -1.34697869e-01, -1.25604853e-01,  6.26824975e-01,\n",
       "          3.44250739e-01, -2.17658773e-01,  3.92334163e-02,\n",
       "          6.40759706e-01, -6.50294870e-02,  4.69806731e-01,\n",
       "         -1.54587096e-02, -6.80205166e-01, -3.20320576e-01,\n",
       "         -6.40360177e-01,  5.69249988e-02, -2.62315571e-01,\n",
       "          1.42420769e-01, -5.47697186e-01,  7.20595717e-02,\n",
       "          1.61252409e-01,  1.43925369e-01,  1.76145911e-01,\n",
       "          2.81190336e-01,  1.70688748e-01],\n",
       "        [-1.16103098e-01,  4.59595174e-02, -8.95566419e-02,\n",
       "          3.92938852e-01,  8.26838911e-02, -1.98533669e-01,\n",
       "          9.52207483e-03,  6.90066069e-02,  3.06690842e-01,\n",
       "         -1.51776448e-01, -1.09473482e-01, -2.27655619e-01,\n",
       "         -2.69685298e-01,  1.98049352e-01, -2.35485569e-01,\n",
       "         -6.20223284e-02,  1.69705614e-01, -1.78287923e-01,\n",
       "         -1.31309748e-01,  3.10701966e-01,  3.30572203e-02,\n",
       "         -3.13269012e-02,  5.26789799e-02,  2.82839507e-01,\n",
       "         -3.42089117e-01,  2.16057494e-01, -2.00641587e-01,\n",
       "         -1.29245505e-01,  1.48283993e-03,  2.92784095e-01,\n",
       "         -3.22748870e-01,  9.30675268e-02],\n",
       "        [-1.39209941e-01,  2.39514410e-01,  4.41429138e-01,\n",
       "          2.87582517e-01, -2.59433240e-01, -3.61245453e-01,\n",
       "         -1.71734929e-01, -7.29286112e-04, -1.54644161e-01,\n",
       "         -2.95584440e-01, -1.59521684e-01, -1.05336383e-01,\n",
       "         -2.95418382e-01,  3.75540048e-01, -1.92946747e-01,\n",
       "         -2.19420522e-01, -2.48804256e-01, -4.26622391e-01,\n",
       "         -2.82643437e-02,  3.86014462e-01,  4.46743786e-01,\n",
       "          2.41234824e-01, -1.40549526e-01,  2.60457367e-01,\n",
       "          2.64367849e-01,  3.51463020e-01,  2.82208294e-01,\n",
       "         -1.78090751e-01, -1.69509292e-01, -6.11755103e-02,\n",
       "         -2.84268618e-01, -7.24156126e-02],\n",
       "        [-1.87439248e-01,  2.99092382e-01, -1.45058870e-01,\n",
       "         -2.03546509e-01,  4.36790586e-02, -6.00552857e-02,\n",
       "         -2.62187541e-01,  1.04062282e-01, -3.33512187e-01,\n",
       "         -8.64098072e-02, -1.53591633e-01, -1.15474865e-01,\n",
       "          3.06383878e-01,  1.14598885e-01, -1.73211098e-04,\n",
       "         -4.52544987e-02,  2.03122288e-01, -2.94208437e-01,\n",
       "         -2.36400574e-01, -1.26252085e-01,  8.66433978e-02,\n",
       "          5.01985662e-03, -2.60619372e-01,  1.32037207e-01,\n",
       "         -3.11513931e-01, -2.33349040e-01, -2.60743499e-01,\n",
       "          4.21056151e-02,  3.36756557e-01,  1.01677693e-01,\n",
       "         -1.61423385e-02, -1.05723798e-01],\n",
       "        [-2.58337408e-01,  2.99540102e-01,  6.32498786e-02,\n",
       "          4.33036417e-01, -3.54739726e-01,  6.58695865e-03,\n",
       "         -2.65265584e-01, -3.42315793e-01,  3.73243123e-01,\n",
       "          1.45363510e-02, -2.69062191e-01,  2.32491717e-02,\n",
       "         -8.96781385e-02,  5.29277980e-01,  2.73046106e-01,\n",
       "         -3.71578097e-01, -1.32599175e-02,  7.16129541e-02,\n",
       "         -2.14715853e-01,  1.16884708e-01,  1.69795513e-01,\n",
       "          2.86935598e-01, -2.30030313e-01,  5.31245947e-01,\n",
       "         -7.82189071e-02,  1.98352663e-03, -1.92278802e-01,\n",
       "          8.75717998e-02, -5.41996777e-01, -3.63231033e-01,\n",
       "         -2.09034279e-01, -4.20112431e-01],\n",
       "        [-1.08401611e-01,  2.27917865e-01,  1.53032735e-01,\n",
       "         -1.16930224e-01, -3.99821550e-01, -3.61165434e-01,\n",
       "          1.16363540e-01, -3.39341573e-02,  2.21415639e-01,\n",
       "          3.31660569e-01, -1.89854696e-01, -5.64703763e-01,\n",
       "         -3.88016045e-01,  9.40702707e-02, -3.11192840e-01,\n",
       "         -2.54682153e-01,  7.11971894e-03, -2.30581895e-01,\n",
       "         -6.65619299e-02,  4.19234373e-02,  4.53157842e-01,\n",
       "          1.88742340e-01, -2.97214776e-01,  3.59162800e-02,\n",
       "         -1.62748709e-01, -8.33214913e-03, -3.06673527e-01,\n",
       "         -2.60301620e-01, -7.89530054e-02, -3.87731135e-01,\n",
       "         -3.30441207e-01, -1.37761995e-01],\n",
       "        [ 2.42242187e-01,  4.68911827e-01,  5.53017080e-01,\n",
       "          2.75386482e-01, -3.93983960e-01, -6.63778722e-01,\n",
       "         -2.82483339e-01, -2.41156578e-01,  3.70469898e-01,\n",
       "         -3.50971639e-01,  7.71351457e-02, -4.26326603e-01,\n",
       "         -3.29281896e-01, -5.12780808e-02,  4.68370318e-02,\n",
       "         -5.89162230e-01, -1.73609942e-01, -3.17218035e-01,\n",
       "          1.22359037e-01,  5.91006517e-01,  6.06778979e-01,\n",
       "          5.71668684e-01, -3.63241285e-01,  4.88882124e-01,\n",
       "          4.63883281e-02,  4.31875914e-01, -6.06231093e-02,\n",
       "         -3.26113015e-01, -5.60840309e-01, -4.59634900e-01,\n",
       "         -2.74137199e-01, -2.01522168e-02],\n",
       "        [-2.91466355e-01,  4.19352859e-01,  3.49335194e-01,\n",
       "          3.69943753e-02, -5.09824753e-01, -1.65500149e-01,\n",
       "         -3.43473911e-01, -1.99892178e-01,  2.50120997e-01,\n",
       "          1.54177517e-01,  6.80405200e-02, -1.13740213e-01,\n",
       "         -3.64143819e-01,  3.88193160e-01, -6.28288984e-02,\n",
       "         -1.15874797e-01, -8.18203315e-02, -5.80748379e-01,\n",
       "          2.27125183e-01,  2.55088627e-01,  2.26903126e-01,\n",
       "          2.68619567e-01, -1.94946021e-01,  4.18325633e-01,\n",
       "         -5.94586730e-02,  7.85283521e-02, -4.58599925e-02,\n",
       "          1.19232744e-01, -2.85504341e-01, -1.60344526e-01,\n",
       "          4.90822569e-02, -2.10790530e-01]], dtype=float32),\n",
       " array([ 0.        , -0.05313301, -0.11221458, -0.12737316,  0.18873493,\n",
       "         0.21902317, -0.03946099, -0.00766908, -0.12411153, -0.00063737,\n",
       "         0.        ,  0.22079161,  0.24399586, -0.09022513,  0.        ,\n",
       "         0.2020538 , -0.00464692,  0.2392487 , -0.04264801, -0.12049219,\n",
       "        -0.12358325, -0.05252445,  0.18971834, -0.13252433,  0.        ,\n",
       "        -0.07838418,  0.        ,  0.        ,  0.25409   ,  0.03859727,\n",
       "         0.20086767,  0.16370948], dtype=float32),\n",
       " array([[-0.11939418,  0.13383785],\n",
       "        [-0.41453338,  0.63913864],\n",
       "        [-0.10717639,  0.68947315],\n",
       "        [-0.46273127,  0.35872772],\n",
       "        [ 0.7488958 , -0.8992434 ],\n",
       "        [ 0.5736665 , -0.31834847],\n",
       "        [-0.11537309,  0.02760012],\n",
       "        [-0.15326014,  0.3244108 ],\n",
       "        [-0.5505464 ,  0.38010418],\n",
       "        [ 0.2508214 ,  0.37717175],\n",
       "        [ 0.27089998, -0.13307276],\n",
       "        [ 0.59977615, -0.44496462],\n",
       "        [ 0.439722  , -0.48471767],\n",
       "        [-0.37714645,  0.5926307 ],\n",
       "        [-0.24984886, -0.10277271],\n",
       "        [ 0.3103074 , -0.57295847],\n",
       "        [-0.02661692,  0.19626153],\n",
       "        [ 0.19634439, -0.82198256],\n",
       "        [-0.20153745,  0.02247857],\n",
       "        [-0.56842744,  0.42543626],\n",
       "        [-0.06643748,  0.50550187],\n",
       "        [-0.5569534 ,  0.52565837],\n",
       "        [ 0.73365295, -0.59906006],\n",
       "        [-0.58381337, -0.01960335],\n",
       "        [ 0.3347142 ,  0.21276948],\n",
       "        [-0.73656243,  0.55824924],\n",
       "        [-0.1872111 , -0.29612786],\n",
       "        [-0.23383193,  0.34769347],\n",
       "        [ 0.19122355, -0.82320607],\n",
       "        [ 0.1017797 , -0.49727318],\n",
       "        [ 0.56987   , -0.53229874],\n",
       "        [ 0.45432654, -0.00691087]], dtype=float32),\n",
       " array([ 0.14697336, -0.14697337], dtype=float32)]"
      ]
     },
     "execution_count": 55,
     "metadata": {},
     "output_type": "execute_result"
    }
   ],
   "source": [
    "model2.get_weights()"
   ]
  },
  {
   "cell_type": "code",
   "execution_count": null,
   "id": "ce065c0b",
   "metadata": {},
   "outputs": [],
   "source": []
  }
 ],
 "metadata": {
  "kernelspec": {
   "display_name": "Python 3 (ipykernel)",
   "language": "python",
   "name": "python3"
  },
  "language_info": {
   "codemirror_mode": {
    "name": "ipython",
    "version": 3
   },
   "file_extension": ".py",
   "mimetype": "text/x-python",
   "name": "python",
   "nbconvert_exporter": "python",
   "pygments_lexer": "ipython3",
   "version": "3.10.9"
  }
 },
 "nbformat": 4,
 "nbformat_minor": 5
}
